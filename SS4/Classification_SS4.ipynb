{
 "cells": [
  {
   "cell_type": "markdown",
   "id": "340f63f6-93da-4633-9f43-43927ea8d65c",
   "metadata": {},
   "source": [
    "<div >\n",
    "<img src = \"../banner.jpg\" />\n",
    "</div>"
   ]
  },
  {
   "cell_type": "markdown",
   "id": "d8e20450",
   "metadata": {},
   "source": [
    "# Missclasification Rates"
   ]
  },
  {
   "cell_type": "code",
   "execution_count": null,
   "id": "df4f6ef8",
   "metadata": {},
   "outputs": [],
   "source": [
    "#Cargar librerías \n",
    "require(pacman)\n",
    "p_load(tidyverse)\n",
    "set.seed(1011)"
   ]
  },
  {
   "cell_type": "code",
   "execution_count": null,
   "id": "b8b8d524",
   "metadata": {},
   "outputs": [],
   "source": [
    "#Leer los datos \n",
    "credit <- readRDS(url(\"https://github.com/ignaciomsarmiento/datasets/blob/main/credit_class.rds?raw=true\"))\n",
    "head(credit)"
   ]
  },
  {
   "cell_type": "code",
   "execution_count": null,
   "id": "73afa2f8",
   "metadata": {},
   "outputs": [],
   "source": [
    "table(credit$foreign)"
   ]
  },
  {
   "cell_type": "code",
   "execution_count": null,
   "id": "1809167f",
   "metadata": {},
   "outputs": [],
   "source": [
    "default<-credit$Default  #defino ahora va a servir despues\n",
    "#mutacion de factores\n",
    "credit<-credit %>% mutate(Default=factor(Default,levels=c(0,1),labels=c(\"No\",\"Si\")),\n",
    "                          history=factor(history,levels=c(\"good\",\"poor\",\"terrible\"),labels=c(\"buena\",\"mala\",\"terrible\")),\n",
    "                          foreign=factor(foreign,levels=c(\"foreign\",\"german\"),labels=c(\"extranjero\",\"aleman\")),\n",
    "                          purpose=factor(purpose,levels=c(\"newcar\",\"usedcar\",\"goods/repair\",\"edu\", \"biz\" ),labels=c(\"auto_nuevo\",\"auto_usado\",\"bienes\",\"educacion\",\"negocios\")))         \n"
   ]
  },
  {
   "cell_type": "code",
   "execution_count": null,
   "id": "45d0df0e",
   "metadata": {},
   "outputs": [],
   "source": [
    "head(credit)"
   ]
  },
  {
   "cell_type": "code",
   "execution_count": null,
   "id": "92e6a82d",
   "metadata": {},
   "outputs": [],
   "source": [
    "table(credit$foreign)"
   ]
  },
  {
   "cell_type": "code",
   "execution_count": null,
   "id": "a9df3b0c",
   "metadata": {},
   "outputs": [],
   "source": [
    "## plot a mosaic\n",
    "plot(Default ~ history, data=credit, col=c(8,2), ylab=\"Default\") ## surprise!\n",
    "## the dangers of choice-based sampling!  "
   ]
  },
  {
   "cell_type": "code",
   "execution_count": null,
   "id": "c8cb95c6",
   "metadata": {},
   "outputs": [],
   "source": [
    "mylogit <- glm(Default~., data = credit, family = \"binomial\")\n",
    "summary(mylogit,type=\"text\")"
   ]
  },
  {
   "cell_type": "code",
   "execution_count": null,
   "id": "d4c3af98",
   "metadata": {},
   "outputs": [],
   "source": [
    "pred<-predict(mylogit,newdata = credit, type = \"response\")\n",
    "summary(pred)\n"
   ]
  },
  {
   "cell_type": "code",
   "execution_count": null,
   "id": "20365674",
   "metadata": {},
   "outputs": [],
   "source": [
    "## what are our misclassification rates?\n",
    "rule <- 1/2 # Bayes Rule\n",
    "\n",
    "sum( (pred>rule)[default==0] )/sum(pred>rule) ## false positive rate\n",
    "sum( (pred<rule)[default==1] )/sum(pred<rule) ## false negative rate\n",
    "\n",
    "sum( (pred>rule)[default==1] )/sum(default==1) ## sensitivity : Tasa Verdaderos Positivos\n",
    "sum( (pred<rule)[default==0] )/sum(default==0) ## specificity: Tasa de Verdaderos Negativos\n",
    "\n",
    "prop.table(table(default))\n",
    "## what are our misclassification rates?\n",
    "rule <- 1/5 \n",
    "sum( (pred>rule)[default==0] )/sum(pred>rule) ## false positive rate\n",
    "sum( (pred<rule)[default==1] )/sum(pred<rule) ## false negative rate\n",
    "\n",
    "sum( (pred>rule)[default==1] )/sum(default==1) ## sensitivity: Tasa Verdaderos Positivos\n",
    "sum( (pred<rule)[default==0] )/sum(default==0) ## specificity: Tasa de Verdaderos Negativos\n"
   ]
  },
  {
   "cell_type": "code",
   "execution_count": null,
   "id": "872aae9d",
   "metadata": {},
   "outputs": [],
   "source": [
    "## plot the ROC curve for classification of y with p\n",
    "roc <- function(p,y, ...){\n",
    "  y <- factor(y)\n",
    "  n <- length(p)\n",
    "  p <- as.vector(p)\n",
    "  Q <- p > matrix(rep(seq(0,1,length=100),n),ncol=100,byrow=TRUE)\n",
    "  specificity <- colMeans(!Q[y==levels(y)[1],])\n",
    "  sensitivity <- colMeans(Q[y==levels(y)[2],])\n",
    "  plot(1-specificity, sensitivity, type=\"l\", ...)\n",
    "  abline(a=0,b=1,lty=2,col=8)\n",
    "}\n",
    "\n"
   ]
  },
  {
   "cell_type": "code",
   "execution_count": null,
   "id": "447ac669",
   "metadata": {},
   "outputs": [],
   "source": [
    "\n",
    "roc(p=pred, y=default, bty=\"n\")\n",
    "## our 1/5 rule cutoff\n",
    "points(x= 1-mean((pred<.2)[default==0]), \n",
    "       y=mean((pred>.2)[default==1]), \n",
    "       cex=4, pch=20, col='red') \n",
    "## a standard `max prob' (p=.5) rule\n",
    "points(x= 1-mean((pred<.5)[default==0]), \n",
    "       y=mean((pred>.5)[default==1]), \n",
    "       cex=4, pch=20, col='blue') \n",
    "legend(\"bottomright\",fill=c(\"red\",\"blue\"),\n",
    "       legend=c(\"p=1/5\",\"p=1/2\"),bty=\"n\",title=\"cutoff\")\n"
   ]
  },
  {
   "cell_type": "markdown",
   "id": "341de070",
   "metadata": {},
   "source": [
    "## Aside: Dummy Vars"
   ]
  },
  {
   "cell_type": "code",
   "execution_count": null,
   "id": "e3229c76",
   "metadata": {},
   "outputs": [],
   "source": [
    "p_load(\"caret\")\n",
    "dmy <- dummyVars(\" ~ .\", data = credit)\n",
    "head(dmy)"
   ]
  },
  {
   "cell_type": "code",
   "execution_count": null,
   "id": "b608768a",
   "metadata": {},
   "outputs": [],
   "source": [
    "credit <- data.frame(predict(dmy, newdata = credit))"
   ]
  },
  {
   "cell_type": "code",
   "execution_count": null,
   "id": "c19f0dbb",
   "metadata": {},
   "outputs": [],
   "source": [
    "head(credit)"
   ]
  },
  {
   "cell_type": "markdown",
   "id": "c17ce2c9",
   "metadata": {},
   "source": [
    "## Out of sample prediction"
   ]
  },
  {
   "cell_type": "code",
   "execution_count": null,
   "id": "48f0417d",
   "metadata": {},
   "outputs": [],
   "source": [
    "credit<- credit  %>% mutate(Default=factor(Default.Si,levels=c(0,1),labels=c(\"No\",\"Si\")))"
   ]
  },
  {
   "cell_type": "code",
   "execution_count": null,
   "id": "223d9bce",
   "metadata": {},
   "outputs": [],
   "source": [
    "inTrain <- createDataPartition(\n",
    "  y = credit$Default.Si,## La variable dependiente u objetivo \n",
    "  p = .7, ## Usamos 70%  de los datos en el conjunto de entrenamiento \n",
    "  list = FALSE)\n",
    "\n",
    "\n",
    "train <- credit[ inTrain,]\n",
    "test  <- credit[-inTrain,]"
   ]
  },
  {
   "cell_type": "code",
   "execution_count": null,
   "id": "57617ae6",
   "metadata": {},
   "outputs": [],
   "source": [
    "head(train)"
   ]
  },
  {
   "cell_type": "markdown",
   "id": "838a45fa",
   "metadata": {},
   "source": [
    "### Logit"
   ]
  },
  {
   "cell_type": "code",
   "execution_count": null,
   "id": "36a77737",
   "metadata": {},
   "outputs": [],
   "source": [
    "fiveStats <- function(...) c(twoClassSummary(...), defaultSummary(...)) \n",
    "\n",
    "\n",
    "\n",
    "ctrl<- trainControl(method = \"cv\",\n",
    "                    number = 5,\n",
    "                    summaryFunction = fiveStats, \n",
    "                    classProbs = TRUE,\n",
    "                    verbose=FALSE,\n",
    "                    savePredictions = T)\n",
    "\n",
    "\n",
    "mylogit_caret <- train(Default.Si~duration+amount+installment+age+\n",
    "                       history.buena+history.mala+history.terrible+\n",
    "                       purpose.auto_nuevo+purpose.auto_usado+purpose.bienes+purpose.educacion+purpose.negocios+\n",
    "                       foreign.extranjero+foreign.aleman+\n",
    "                       rent.NA+rent.FALSE+rent.TRUE, \n",
    "                       data = train, \n",
    "                       method = \"glm\",\n",
    "                       trControl = ctrl,\n",
    "                       family = \"binomial\", \n",
    "                       metric = 'ROC')\n",
    "\n",
    "\n",
    "\n",
    "\n",
    "mylogit_caret\n"
   ]
  },
  {
   "cell_type": "code",
   "execution_count": null,
   "id": "a67257d6",
   "metadata": {},
   "outputs": [],
   "source": [
    "\n",
    "mylogit_caret <- train(Default~duration+amount+installment+age+\n",
    "                       history.buena+history.mala+history.terrible+\n",
    "                       purpose.auto_nuevo+purpose.auto_usado+purpose.bienes+purpose.educacion+purpose.negocios+\n",
    "                       foreign.extranjero+foreign.aleman+\n",
    "                       rent.NA+rent.FALSE+rent.TRUE, \n",
    "                       data = train, \n",
    "                       method = \"glm\",\n",
    "                       trControl = ctrl,\n",
    "                       family = \"binomial\", \n",
    "                       metric = 'ROC')\n",
    "\n",
    "\n",
    "\n",
    "\n",
    "mylogit_caret\n"
   ]
  },
  {
   "cell_type": "code",
   "execution_count": null,
   "id": "d36fc5d5",
   "metadata": {},
   "outputs": [],
   "source": [
    "\n",
    "mylogit_caret <- train(Default~duration+amount+installment+age+\n",
    "                       history.buena+history.mala+\n",
    "                       purpose.auto_nuevo+purpose.auto_usado+purpose.bienes+purpose.educacion+\n",
    "                       foreign.extranjero+\n",
    "                       +rent.TRUE, \n",
    "                       data = train, \n",
    "                       method = \"glm\",\n",
    "                       trControl = ctrl,\n",
    "                       family = \"binomial\", \n",
    "                       metric = 'ROC')\n",
    "\n",
    "\n",
    "\n",
    "\n",
    "mylogit_caret"
   ]
  },
  {
   "cell_type": "code",
   "execution_count": null,
   "id": "69743093",
   "metadata": {},
   "outputs": [],
   "source": [
    "predictTest_logit <- data.frame(\n",
    "  obs = test$Default,                                    ## observed class labels\n",
    "  predict(mylogit_caret, newdata = test, type = \"prob\"),         ## predicted class probabilities\n",
    "  pred = predict(mylogit_caret, newdata = test, type = \"raw\")    ## predicted class labels\n",
    ")\n"
   ]
  },
  {
   "cell_type": "code",
   "execution_count": null,
   "id": "6ba5d9d6",
   "metadata": {},
   "outputs": [],
   "source": [
    "head(predictTest_logit)"
   ]
  },
  {
   "cell_type": "code",
   "execution_count": null,
   "id": "69246f9c",
   "metadata": {},
   "outputs": [],
   "source": [
    "twoClassSummary(data = predictTest_logit, lev = levels(predictTest_logit$obs))"
   ]
  },
  {
   "cell_type": "code",
   "execution_count": null,
   "id": "161bbb0f",
   "metadata": {},
   "outputs": [],
   "source": [
    "prSummary(data = predictTest_logit, lev = levels(predictTest_logit$obs))"
   ]
  },
  {
   "cell_type": "markdown",
   "id": "8dd7f53b",
   "metadata": {},
   "source": [
    "### LDA"
   ]
  },
  {
   "cell_type": "markdown",
   "id": "6625c4e4",
   "metadata": {},
   "source": [
    "#### By Hand"
   ]
  },
  {
   "cell_type": "code",
   "execution_count": null,
   "id": "66fecf96",
   "metadata": {},
   "outputs": [],
   "source": [
    "p1<-sum(train$Default.Si)/dim(train)[1]\n",
    "p1\n",
    "mu1<-mean(train$duration[train$Default.Si==1])\n",
    "mu1\n",
    "mu0<-mean(train$duration[train$Default.Si==0])\n",
    "mu0\n",
    "\n",
    "g1<-sum((train$duration[train$Default.Si==1]-mu1)^2)\n",
    "g0<-sum((train$duration[train$Default.Si==0]-mu0)^2)\n",
    "\n",
    "\n",
    "sigma<-sqrt((g1+g0)/(dim(train)[1]-2))\n",
    "\n",
    "\n",
    "f1<-dnorm(test$duration,mean=mu1,sd=sigma)\n",
    "f0<-dnorm(test$duration,mean=mu0,sd=sigma)"
   ]
  },
  {
   "cell_type": "code",
   "execution_count": null,
   "id": "4d40dc78",
   "metadata": {},
   "outputs": [],
   "source": [
    "p_load(\"MASS\")     # LDA\n",
    "lda_simple <- lda(Default.Si~duration, data = train)\n",
    "lda_simple_pred<-predict(lda_simple,test)\n",
    "names(lda_simple_pred)\n",
    "posteriors<-data.frame(lda_simple_pred$posterior)\n",
    "posteriors$hand<-f1*p1/(f1*p1+f0*(1-p1))\n",
    "head(posteriors)"
   ]
  },
  {
   "cell_type": "markdown",
   "id": "676b02bf",
   "metadata": {},
   "source": [
    "#### Caret"
   ]
  },
  {
   "cell_type": "code",
   "execution_count": null,
   "id": "adce5282",
   "metadata": {},
   "outputs": [],
   "source": [
    "lda_fit = train(Default~duration+amount+installment+age, \n",
    "                data=train, \n",
    "                method=\"lda\",\n",
    "                trControl = ctrl,\n",
    "                metric = 'ROC')\n",
    "\n",
    "lda_fit"
   ]
  },
  {
   "cell_type": "code",
   "execution_count": null,
   "id": "87196b2f",
   "metadata": {},
   "outputs": [],
   "source": [
    "predictTest_lda <- data.frame(\n",
    "  obs = test$Default,                                    ## observed class labels\n",
    "  predict(lda_fit, newdata = test, type = \"prob\"),         ## predicted class probabilities\n",
    "  pred = predict(lda_fit, newdata = test, type = \"raw\")    ## predicted class labels\n",
    ")\n",
    "\n"
   ]
  },
  {
   "cell_type": "code",
   "execution_count": null,
   "id": "e574bab6",
   "metadata": {},
   "outputs": [],
   "source": [
    "head(predictTest_lda)"
   ]
  },
  {
   "cell_type": "code",
   "execution_count": null,
   "id": "75d69d2a",
   "metadata": {},
   "outputs": [],
   "source": [
    "twoClassSummary(data = predictTest_lda, lev = levels(predictTest_lda$obs))\n"
   ]
  },
  {
   "cell_type": "code",
   "execution_count": null,
   "id": "b85cdf42",
   "metadata": {},
   "outputs": [],
   "source": [
    "prSummary(data = predictTest_lda, lev = levels(predictTest_lda$obs))"
   ]
  },
  {
   "cell_type": "markdown",
   "id": "f677fc46",
   "metadata": {},
   "source": [
    " ### ROC performance"
   ]
  },
  {
   "cell_type": "markdown",
   "id": "b4779a3d",
   "metadata": {},
   "source": [
    "#### In-sample"
   ]
  },
  {
   "cell_type": "code",
   "execution_count": null,
   "id": "3a16d591",
   "metadata": {},
   "outputs": [],
   "source": [
    "p_load(\"MLeval\")\n",
    "\n",
    "res_lda_fit <- evalm(lda_fit,plots=\"r\")\n"
   ]
  },
  {
   "cell_type": "code",
   "execution_count": null,
   "id": "58ad0a73",
   "metadata": {},
   "outputs": [],
   "source": [
    "res_insample_all <- evalm(list(mylogit_caret,lda_fit),gnames=c('Logit','LDA'),plots='r')"
   ]
  },
  {
   "cell_type": "markdown",
   "id": "585017aa",
   "metadata": {},
   "source": [
    "#### Out-of-sample"
   ]
  },
  {
   "cell_type": "code",
   "execution_count": null,
   "id": "fb57b48b",
   "metadata": {},
   "outputs": [],
   "source": [
    "res_outsample_logit <- evalm(predictTest_logit,plots='r')"
   ]
  },
  {
   "cell_type": "code",
   "execution_count": null,
   "id": "fbb6419e",
   "metadata": {},
   "outputs": [],
   "source": [
    "res_outsample_lda <- evalm(predictTest_lda,plots='r')"
   ]
  },
  {
   "cell_type": "markdown",
   "id": "4cd103b9",
   "metadata": {},
   "source": [
    "\n"
   ]
  }
 ],
 "metadata": {
  "jupytext": {
   "cell_metadata_filter": "tags,name,-all",
   "main_language": "R",
   "notebook_metadata_filter": "-all"
  },
  "kernelspec": {
   "display_name": "R",
   "language": "R",
   "name": "ir"
  },
  "language_info": {
   "codemirror_mode": "r",
   "file_extension": ".r",
   "mimetype": "text/x-r-source",
   "name": "R",
   "pygments_lexer": "r",
   "version": "4.2.2"
  },
  "toc": {
   "base_numbering": 1,
   "nav_menu": {},
   "number_sections": true,
   "sideBar": true,
   "skip_h1_title": false,
   "title_cell": "Table of Contents",
   "title_sidebar": "Contents",
   "toc_cell": false,
   "toc_position": {
    "height": "calc(100% - 180px)",
    "left": "10px",
    "top": "150px",
    "width": "344.4px"
   },
   "toc_section_display": true,
   "toc_window_display": true
  }
 },
 "nbformat": 4,
 "nbformat_minor": 5
}

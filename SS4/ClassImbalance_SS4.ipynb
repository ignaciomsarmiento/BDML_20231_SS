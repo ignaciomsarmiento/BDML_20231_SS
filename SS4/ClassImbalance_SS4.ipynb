{
 "cells": [
  {
   "cell_type": "markdown",
   "id": "ef66f7ba",
   "metadata": {},
   "source": [
    "<div >\n",
    "<img src = \"../banner.jpg\" />\n",
    "</div>"
   ]
  },
  {
   "cell_type": "markdown",
   "id": "8e9c8c27",
   "metadata": {},
   "source": [
    "# Desbalance de Clases"
   ]
  },
  {
   "cell_type": "markdown",
   "id": "b4d71bf8",
   "metadata": {},
   "source": [
    "En problemas de clasificación, las frecuencias relativas de las clases pueden tener un impacto significativo en la efectividad del modelo. Se produce un desequilibrio o desbalance cuando una o más clases tienen proporciones muy bajas en los datos de entrenamiento en comparación con las otras clases. \n",
    "\n",
    "El desbalance puede estar presente en cualquier conjunto de datos o aplicación y, por lo tanto, el profesional debe ser consciente de las implicaciones de modelar este tipo de datos.\n",
    "\n",
    "Según qué tan desbalanceada sea su base se puede clasificar el problema en diferentes categorías. Una buena regla del pulgar se encuentra en la siguiente tabla:\n",
    "\n",
    "| **Grado de desbalance** | **Proporción de la clase minoritaria** |\n",
    "|:----------------------:|:--------------------------------------:|\n",
    "|          Leve          |       20-40% de las observaciones      |\n",
    "|        Moderado        |       1-20% de las observaciones       |\n",
    "|         Extremo        |        <1% de las observaciones        |"
   ]
  },
  {
   "cell_type": "markdown",
   "id": "2510a586",
   "metadata": {},
   "source": [
    "## Preparar la base"
   ]
  },
  {
   "cell_type": "code",
   "execution_count": 1,
   "id": "49af46e1",
   "metadata": {},
   "outputs": [
    {
     "name": "stderr",
     "output_type": "stream",
     "text": [
      "Loading required package: pacman\n",
      "\n"
     ]
    }
   ],
   "source": [
    "#Cargar librerías \n",
    "require(\"pacman\")\n",
    "p_load(\"tidyverse\")\n"
   ]
  },
  {
   "cell_type": "code",
   "execution_count": 2,
   "id": "91c4c5d3",
   "metadata": {},
   "outputs": [
    {
     "data": {
      "text/html": [
       "<table class=\"dataframe\">\n",
       "<caption>A data.frame: 6 × 9</caption>\n",
       "<thead>\n",
       "\t<tr><th></th><th scope=col>Default</th><th scope=col>duration</th><th scope=col>amount</th><th scope=col>installment</th><th scope=col>age</th><th scope=col>history</th><th scope=col>purpose</th><th scope=col>foreign</th><th scope=col>rent</th></tr>\n",
       "\t<tr><th></th><th scope=col>&lt;fct&gt;</th><th scope=col>&lt;int&gt;</th><th scope=col>&lt;int&gt;</th><th scope=col>&lt;int&gt;</th><th scope=col>&lt;int&gt;</th><th scope=col>&lt;fct&gt;</th><th scope=col>&lt;fct&gt;</th><th scope=col>&lt;fct&gt;</th><th scope=col>&lt;fct&gt;</th></tr>\n",
       "</thead>\n",
       "<tbody>\n",
       "\t<tr><th scope=row>1</th><td>No</td><td> 6</td><td>1169</td><td>4</td><td>67</td><td>terrible</td><td>bienes    </td><td>extranjero</td><td>FALSE</td></tr>\n",
       "\t<tr><th scope=row>2</th><td>Si</td><td>48</td><td>5951</td><td>2</td><td>22</td><td>mala    </td><td>bienes    </td><td>extranjero</td><td>FALSE</td></tr>\n",
       "\t<tr><th scope=row>3</th><td>No</td><td>12</td><td>2096</td><td>2</td><td>49</td><td>terrible</td><td>educacion </td><td>extranjero</td><td>FALSE</td></tr>\n",
       "\t<tr><th scope=row>4</th><td>No</td><td>42</td><td>7882</td><td>2</td><td>45</td><td>mala    </td><td>bienes    </td><td>extranjero</td><td>FALSE</td></tr>\n",
       "\t<tr><th scope=row>5</th><td>Si</td><td>24</td><td>4870</td><td>3</td><td>53</td><td>mala    </td><td>auto_nuevo</td><td>extranjero</td><td>FALSE</td></tr>\n",
       "\t<tr><th scope=row>6</th><td>No</td><td>36</td><td>9055</td><td>2</td><td>35</td><td>mala    </td><td>educacion </td><td>extranjero</td><td>FALSE</td></tr>\n",
       "</tbody>\n",
       "</table>\n"
      ],
      "text/latex": [
       "A data.frame: 6 × 9\n",
       "\\begin{tabular}{r|lllllllll}\n",
       "  & Default & duration & amount & installment & age & history & purpose & foreign & rent\\\\\n",
       "  & <fct> & <int> & <int> & <int> & <int> & <fct> & <fct> & <fct> & <fct>\\\\\n",
       "\\hline\n",
       "\t1 & No &  6 & 1169 & 4 & 67 & terrible & bienes     & extranjero & FALSE\\\\\n",
       "\t2 & Si & 48 & 5951 & 2 & 22 & mala     & bienes     & extranjero & FALSE\\\\\n",
       "\t3 & No & 12 & 2096 & 2 & 49 & terrible & educacion  & extranjero & FALSE\\\\\n",
       "\t4 & No & 42 & 7882 & 2 & 45 & mala     & bienes     & extranjero & FALSE\\\\\n",
       "\t5 & Si & 24 & 4870 & 3 & 53 & mala     & auto\\_nuevo & extranjero & FALSE\\\\\n",
       "\t6 & No & 36 & 9055 & 2 & 35 & mala     & educacion  & extranjero & FALSE\\\\\n",
       "\\end{tabular}\n"
      ],
      "text/markdown": [
       "\n",
       "A data.frame: 6 × 9\n",
       "\n",
       "| <!--/--> | Default &lt;fct&gt; | duration &lt;int&gt; | amount &lt;int&gt; | installment &lt;int&gt; | age &lt;int&gt; | history &lt;fct&gt; | purpose &lt;fct&gt; | foreign &lt;fct&gt; | rent &lt;fct&gt; |\n",
       "|---|---|---|---|---|---|---|---|---|---|\n",
       "| 1 | No |  6 | 1169 | 4 | 67 | terrible | bienes     | extranjero | FALSE |\n",
       "| 2 | Si | 48 | 5951 | 2 | 22 | mala     | bienes     | extranjero | FALSE |\n",
       "| 3 | No | 12 | 2096 | 2 | 49 | terrible | educacion  | extranjero | FALSE |\n",
       "| 4 | No | 42 | 7882 | 2 | 45 | mala     | bienes     | extranjero | FALSE |\n",
       "| 5 | Si | 24 | 4870 | 3 | 53 | mala     | auto_nuevo | extranjero | FALSE |\n",
       "| 6 | No | 36 | 9055 | 2 | 35 | mala     | educacion  | extranjero | FALSE |\n",
       "\n"
      ],
      "text/plain": [
       "  Default duration amount installment age history  purpose    foreign    rent \n",
       "1 No       6       1169   4           67  terrible bienes     extranjero FALSE\n",
       "2 Si      48       5951   2           22  mala     bienes     extranjero FALSE\n",
       "3 No      12       2096   2           49  terrible educacion  extranjero FALSE\n",
       "4 No      42       7882   2           45  mala     bienes     extranjero FALSE\n",
       "5 Si      24       4870   3           53  mala     auto_nuevo extranjero FALSE\n",
       "6 No      36       9055   2           35  mala     educacion  extranjero FALSE"
      ]
     },
     "metadata": {},
     "output_type": "display_data"
    }
   ],
   "source": [
    "#Leer los datos \n",
    "credit <- readRDS(url(\"https://github.com/ignaciomsarmiento/datasets/blob/main/credit_class.rds?raw=true\"))\n",
    "#mutacion de factores\n",
    "credit<-credit %>% mutate(Default=factor(Default,levels=c(0,1),labels=c(\"No\",\"Si\")),\n",
    "                          history=factor(history,levels=c(\"good\",\"poor\",\"terrible\"),labels=c(\"buena\",\"mala\",\"terrible\")),\n",
    "                          foreign=factor(foreign,levels=c(\"foreign\",\"german\"),labels=c(\"extranjero\",\"aleman\")),\n",
    "                          purpose=factor(purpose,levels=c(\"newcar\",\"usedcar\",\"goods/repair\",\"edu\", \"biz\" ),labels=c(\"auto_nuevo\",\"auto_usado\",\"bienes\",\"educacion\",\"negocios\")))         \n",
    "\n",
    "head(credit)"
   ]
  },
  {
   "cell_type": "code",
   "execution_count": 3,
   "id": "25f34ad0",
   "metadata": {},
   "outputs": [
    {
     "data": {
      "text/plain": [
       "$call\n",
       "dummyVars.default(formula = \" ~ .\", data = credit)\n",
       "\n",
       "$form\n",
       "~.\n",
       "<environment: 0x7fe67491a8c8>\n",
       "\n",
       "$vars\n",
       "[1] \"Default\"     \"duration\"    \"amount\"      \"installment\" \"age\"        \n",
       "[6] \"history\"     \"purpose\"     \"foreign\"     \"rent\"       \n",
       "\n",
       "$facVars\n",
       "[1] \"Default\" \"history\" \"purpose\" \"foreign\" \"rent\"   \n",
       "\n",
       "$lvls\n",
       "$lvls$Default\n",
       "[1] \"No\" \"Si\"\n",
       "\n",
       "$lvls$history\n",
       "[1] \"buena\"    \"mala\"     \"terrible\"\n",
       "\n",
       "$lvls$purpose\n",
       "[1] \"auto_nuevo\" \"auto_usado\" \"bienes\"     \"educacion\"  \"negocios\"  \n",
       "\n",
       "$lvls$foreign\n",
       "[1] \"extranjero\" \"aleman\"    \n",
       "\n",
       "$lvls$rent\n",
       "[1] NA      \"FALSE\" \"TRUE\" \n",
       "\n",
       "\n",
       "$sep\n",
       "[1] \".\"\n"
      ]
     },
     "metadata": {},
     "output_type": "display_data"
    }
   ],
   "source": [
    "p_load(\"caret\")\n",
    "dmy <- dummyVars(\" ~ .\", data = credit)\n",
    "head(dmy)"
   ]
  },
  {
   "cell_type": "code",
   "execution_count": 4,
   "id": "e02c191c",
   "metadata": {},
   "outputs": [
    {
     "data": {
      "text/html": [
       "<table class=\"dataframe\">\n",
       "<caption>A data.frame: 6 × 20</caption>\n",
       "<thead>\n",
       "\t<tr><th></th><th scope=col>Default.No</th><th scope=col>Default.Si</th><th scope=col>duration</th><th scope=col>amount</th><th scope=col>installment</th><th scope=col>age</th><th scope=col>history.buena</th><th scope=col>history.mala</th><th scope=col>history.terrible</th><th scope=col>purpose.auto_nuevo</th><th scope=col>purpose.auto_usado</th><th scope=col>purpose.bienes</th><th scope=col>purpose.educacion</th><th scope=col>purpose.negocios</th><th scope=col>foreign.extranjero</th><th scope=col>foreign.aleman</th><th scope=col>rent.NA</th><th scope=col>rent.FALSE</th><th scope=col>rent.TRUE</th><th scope=col>Default</th></tr>\n",
       "\t<tr><th></th><th scope=col>&lt;dbl&gt;</th><th scope=col>&lt;dbl&gt;</th><th scope=col>&lt;dbl&gt;</th><th scope=col>&lt;dbl&gt;</th><th scope=col>&lt;dbl&gt;</th><th scope=col>&lt;dbl&gt;</th><th scope=col>&lt;dbl&gt;</th><th scope=col>&lt;dbl&gt;</th><th scope=col>&lt;dbl&gt;</th><th scope=col>&lt;dbl&gt;</th><th scope=col>&lt;dbl&gt;</th><th scope=col>&lt;dbl&gt;</th><th scope=col>&lt;dbl&gt;</th><th scope=col>&lt;dbl&gt;</th><th scope=col>&lt;dbl&gt;</th><th scope=col>&lt;dbl&gt;</th><th scope=col>&lt;dbl&gt;</th><th scope=col>&lt;dbl&gt;</th><th scope=col>&lt;dbl&gt;</th><th scope=col>&lt;fct&gt;</th></tr>\n",
       "</thead>\n",
       "<tbody>\n",
       "\t<tr><th scope=row>1</th><td>1</td><td>0</td><td> 6</td><td>1169</td><td>4</td><td>67</td><td>0</td><td>0</td><td>1</td><td>0</td><td>0</td><td>1</td><td>0</td><td>0</td><td>1</td><td>0</td><td>0</td><td>1</td><td>0</td><td>No</td></tr>\n",
       "\t<tr><th scope=row>2</th><td>0</td><td>1</td><td>48</td><td>5951</td><td>2</td><td>22</td><td>0</td><td>1</td><td>0</td><td>0</td><td>0</td><td>1</td><td>0</td><td>0</td><td>1</td><td>0</td><td>0</td><td>1</td><td>0</td><td>Si</td></tr>\n",
       "\t<tr><th scope=row>3</th><td>1</td><td>0</td><td>12</td><td>2096</td><td>2</td><td>49</td><td>0</td><td>0</td><td>1</td><td>0</td><td>0</td><td>0</td><td>1</td><td>0</td><td>1</td><td>0</td><td>0</td><td>1</td><td>0</td><td>No</td></tr>\n",
       "\t<tr><th scope=row>4</th><td>1</td><td>0</td><td>42</td><td>7882</td><td>2</td><td>45</td><td>0</td><td>1</td><td>0</td><td>0</td><td>0</td><td>1</td><td>0</td><td>0</td><td>1</td><td>0</td><td>0</td><td>1</td><td>0</td><td>No</td></tr>\n",
       "\t<tr><th scope=row>5</th><td>0</td><td>1</td><td>24</td><td>4870</td><td>3</td><td>53</td><td>0</td><td>1</td><td>0</td><td>1</td><td>0</td><td>0</td><td>0</td><td>0</td><td>1</td><td>0</td><td>0</td><td>1</td><td>0</td><td>Si</td></tr>\n",
       "\t<tr><th scope=row>6</th><td>1</td><td>0</td><td>36</td><td>9055</td><td>2</td><td>35</td><td>0</td><td>1</td><td>0</td><td>0</td><td>0</td><td>0</td><td>1</td><td>0</td><td>1</td><td>0</td><td>0</td><td>1</td><td>0</td><td>No</td></tr>\n",
       "</tbody>\n",
       "</table>\n"
      ],
      "text/latex": [
       "A data.frame: 6 × 20\n",
       "\\begin{tabular}{r|llllllllllllllllllll}\n",
       "  & Default.No & Default.Si & duration & amount & installment & age & history.buena & history.mala & history.terrible & purpose.auto\\_nuevo & purpose.auto\\_usado & purpose.bienes & purpose.educacion & purpose.negocios & foreign.extranjero & foreign.aleman & rent.NA & rent.FALSE & rent.TRUE & Default\\\\\n",
       "  & <dbl> & <dbl> & <dbl> & <dbl> & <dbl> & <dbl> & <dbl> & <dbl> & <dbl> & <dbl> & <dbl> & <dbl> & <dbl> & <dbl> & <dbl> & <dbl> & <dbl> & <dbl> & <dbl> & <fct>\\\\\n",
       "\\hline\n",
       "\t1 & 1 & 0 &  6 & 1169 & 4 & 67 & 0 & 0 & 1 & 0 & 0 & 1 & 0 & 0 & 1 & 0 & 0 & 1 & 0 & No\\\\\n",
       "\t2 & 0 & 1 & 48 & 5951 & 2 & 22 & 0 & 1 & 0 & 0 & 0 & 1 & 0 & 0 & 1 & 0 & 0 & 1 & 0 & Si\\\\\n",
       "\t3 & 1 & 0 & 12 & 2096 & 2 & 49 & 0 & 0 & 1 & 0 & 0 & 0 & 1 & 0 & 1 & 0 & 0 & 1 & 0 & No\\\\\n",
       "\t4 & 1 & 0 & 42 & 7882 & 2 & 45 & 0 & 1 & 0 & 0 & 0 & 1 & 0 & 0 & 1 & 0 & 0 & 1 & 0 & No\\\\\n",
       "\t5 & 0 & 1 & 24 & 4870 & 3 & 53 & 0 & 1 & 0 & 1 & 0 & 0 & 0 & 0 & 1 & 0 & 0 & 1 & 0 & Si\\\\\n",
       "\t6 & 1 & 0 & 36 & 9055 & 2 & 35 & 0 & 1 & 0 & 0 & 0 & 0 & 1 & 0 & 1 & 0 & 0 & 1 & 0 & No\\\\\n",
       "\\end{tabular}\n"
      ],
      "text/markdown": [
       "\n",
       "A data.frame: 6 × 20\n",
       "\n",
       "| <!--/--> | Default.No &lt;dbl&gt; | Default.Si &lt;dbl&gt; | duration &lt;dbl&gt; | amount &lt;dbl&gt; | installment &lt;dbl&gt; | age &lt;dbl&gt; | history.buena &lt;dbl&gt; | history.mala &lt;dbl&gt; | history.terrible &lt;dbl&gt; | purpose.auto_nuevo &lt;dbl&gt; | purpose.auto_usado &lt;dbl&gt; | purpose.bienes &lt;dbl&gt; | purpose.educacion &lt;dbl&gt; | purpose.negocios &lt;dbl&gt; | foreign.extranjero &lt;dbl&gt; | foreign.aleman &lt;dbl&gt; | rent.NA &lt;dbl&gt; | rent.FALSE &lt;dbl&gt; | rent.TRUE &lt;dbl&gt; | Default &lt;fct&gt; |\n",
       "|---|---|---|---|---|---|---|---|---|---|---|---|---|---|---|---|---|---|---|---|---|\n",
       "| 1 | 1 | 0 |  6 | 1169 | 4 | 67 | 0 | 0 | 1 | 0 | 0 | 1 | 0 | 0 | 1 | 0 | 0 | 1 | 0 | No |\n",
       "| 2 | 0 | 1 | 48 | 5951 | 2 | 22 | 0 | 1 | 0 | 0 | 0 | 1 | 0 | 0 | 1 | 0 | 0 | 1 | 0 | Si |\n",
       "| 3 | 1 | 0 | 12 | 2096 | 2 | 49 | 0 | 0 | 1 | 0 | 0 | 0 | 1 | 0 | 1 | 0 | 0 | 1 | 0 | No |\n",
       "| 4 | 1 | 0 | 42 | 7882 | 2 | 45 | 0 | 1 | 0 | 0 | 0 | 1 | 0 | 0 | 1 | 0 | 0 | 1 | 0 | No |\n",
       "| 5 | 0 | 1 | 24 | 4870 | 3 | 53 | 0 | 1 | 0 | 1 | 0 | 0 | 0 | 0 | 1 | 0 | 0 | 1 | 0 | Si |\n",
       "| 6 | 1 | 0 | 36 | 9055 | 2 | 35 | 0 | 1 | 0 | 0 | 0 | 0 | 1 | 0 | 1 | 0 | 0 | 1 | 0 | No |\n",
       "\n"
      ],
      "text/plain": [
       "  Default.No Default.Si duration amount installment age history.buena\n",
       "1 1          0           6       1169   4           67  0            \n",
       "2 0          1          48       5951   2           22  0            \n",
       "3 1          0          12       2096   2           49  0            \n",
       "4 1          0          42       7882   2           45  0            \n",
       "5 0          1          24       4870   3           53  0            \n",
       "6 1          0          36       9055   2           35  0            \n",
       "  history.mala history.terrible purpose.auto_nuevo purpose.auto_usado\n",
       "1 0            1                0                  0                 \n",
       "2 1            0                0                  0                 \n",
       "3 0            1                0                  0                 \n",
       "4 1            0                0                  0                 \n",
       "5 1            0                1                  0                 \n",
       "6 1            0                0                  0                 \n",
       "  purpose.bienes purpose.educacion purpose.negocios foreign.extranjero\n",
       "1 1              0                 0                1                 \n",
       "2 1              0                 0                1                 \n",
       "3 0              1                 0                1                 \n",
       "4 1              0                 0                1                 \n",
       "5 0              0                 0                1                 \n",
       "6 0              1                 0                1                 \n",
       "  foreign.aleman rent.NA rent.FALSE rent.TRUE Default\n",
       "1 0              0       1          0         No     \n",
       "2 0              0       1          0         Si     \n",
       "3 0              0       1          0         No     \n",
       "4 0              0       1          0         No     \n",
       "5 0              0       1          0         Si     \n",
       "6 0              0       1          0         No     "
      ]
     },
     "metadata": {},
     "output_type": "display_data"
    }
   ],
   "source": [
    "credit <- data.frame(predict(dmy, newdata = credit))\n",
    "credit<- credit  %>% mutate(Default=factor(Default.Si,levels=c(0,1),labels=c(\"No\",\"Si\")))\n",
    "head(credit)"
   ]
  },
  {
   "cell_type": "code",
   "execution_count": 5,
   "id": "259abd36",
   "metadata": {},
   "outputs": [
    {
     "data": {
      "text/plain": [
       "\n",
       " No  Si \n",
       "0.7 0.3 "
      ]
     },
     "metadata": {},
     "output_type": "display_data"
    }
   ],
   "source": [
    "prop.table(table(credit$Default))"
   ]
  },
  {
   "cell_type": "markdown",
   "id": "3a57b56a",
   "metadata": {},
   "source": [
    "### División de la muestra\n",
    "\n",
    "- El objetivo es predecir bien fuera de muestra\n",
    "\n",
    "- No queremos sobreajustar a la muestra\n",
    "  \n",
    "- Vamos a definir 3 bases\n",
    "\n",
    "  - Muestra de entrenamiento: vamos a estimar los modelos, buscar parámetros, etc.\n",
    "  \n",
    "  -  Muestra de evaluación (pequeña): para desarrollar técnicas de post procesamiento\n",
    "  \n",
    "  -  Muestra de prueba que solo vamos a usar para evaluar los modelos\n"
   ]
  },
  {
   "cell_type": "code",
   "execution_count": 6,
   "id": "64b2520f",
   "metadata": {},
   "outputs": [
    {
     "data": {
      "text/html": [
       "700"
      ],
      "text/latex": [
       "700"
      ],
      "text/markdown": [
       "700"
      ],
      "text/plain": [
       "[1] 700"
      ]
     },
     "metadata": {},
     "output_type": "display_data"
    },
    {
     "data": {
      "text/html": [
       "<style>\n",
       ".list-inline {list-style: none; margin:0; padding: 0}\n",
       ".list-inline>li {display: inline-block}\n",
       ".list-inline>li:not(:last-child)::after {content: \"\\00b7\"; padding: 0 .5ex}\n",
       "</style>\n",
       "<ol class=list-inline><li>1</li><li>2</li><li>3</li><li>4</li><li>5</li><li>8</li><li>11</li><li>12</li><li>13</li><li>14</li><li>15</li><li>17</li><li>18</li><li>19</li><li>20</li><li>21</li><li>22</li><li>23</li><li>25</li><li>26</li></ol>\n"
      ],
      "text/latex": [
       "\\begin{enumerate*}\n",
       "\\item 1\n",
       "\\item 2\n",
       "\\item 3\n",
       "\\item 4\n",
       "\\item 5\n",
       "\\item 8\n",
       "\\item 11\n",
       "\\item 12\n",
       "\\item 13\n",
       "\\item 14\n",
       "\\item 15\n",
       "\\item 17\n",
       "\\item 18\n",
       "\\item 19\n",
       "\\item 20\n",
       "\\item 21\n",
       "\\item 22\n",
       "\\item 23\n",
       "\\item 25\n",
       "\\item 26\n",
       "\\end{enumerate*}\n"
      ],
      "text/markdown": [
       "1. 1\n",
       "2. 2\n",
       "3. 3\n",
       "4. 4\n",
       "5. 5\n",
       "6. 8\n",
       "7. 11\n",
       "8. 12\n",
       "9. 13\n",
       "10. 14\n",
       "11. 15\n",
       "12. 17\n",
       "13. 18\n",
       "14. 19\n",
       "15. 20\n",
       "16. 21\n",
       "17. 22\n",
       "18. 23\n",
       "19. 25\n",
       "20. 26\n",
       "\n",
       "\n"
      ],
      "text/plain": [
       " [1]  1  2  3  4  5  8 11 12 13 14 15 17 18 19 20 21 22 23 25 26"
      ]
     },
     "metadata": {},
     "output_type": "display_data"
    }
   ],
   "source": [
    "## First, split the training set \n",
    "set.seed(156)\n",
    "split1 <- createDataPartition(credit$Default, p = .7)[[1]]\n",
    "length(split1)\n",
    "head(split1, n=20)"
   ]
  },
  {
   "cell_type": "code",
   "execution_count": 7,
   "id": "428b133f",
   "metadata": {},
   "outputs": [],
   "source": [
    "other     <- credit[-split1,]\n",
    "training  <- credit[ split1,]"
   ]
  },
  {
   "cell_type": "code",
   "execution_count": 8,
   "id": "2b22e3ec",
   "metadata": {},
   "outputs": [],
   "source": [
    "# Evaluación y prueba (testing)\n",
    "set.seed(934)\n",
    "split2 <- createDataPartition(other$Default, p = 1/3)[[1]]\n",
    "evaluation  <- other[ split2,]\n",
    "testing     <- other[-split2,]"
   ]
  },
  {
   "cell_type": "code",
   "execution_count": 9,
   "id": "ed972291",
   "metadata": {
    "scrolled": true
   },
   "outputs": [
    {
     "data": {
      "text/html": [
       "<style>\n",
       ".list-inline {list-style: none; margin:0; padding: 0}\n",
       ".list-inline>li {display: inline-block}\n",
       ".list-inline>li:not(:last-child)::after {content: \"\\00b7\"; padding: 0 .5ex}\n",
       "</style>\n",
       "<ol class=list-inline><li>700</li><li>20</li></ol>\n"
      ],
      "text/latex": [
       "\\begin{enumerate*}\n",
       "\\item 700\n",
       "\\item 20\n",
       "\\end{enumerate*}\n"
      ],
      "text/markdown": [
       "1. 700\n",
       "2. 20\n",
       "\n",
       "\n"
      ],
      "text/plain": [
       "[1] 700  20"
      ]
     },
     "metadata": {},
     "output_type": "display_data"
    },
    {
     "data": {
      "text/html": [
       "<style>\n",
       ".list-inline {list-style: none; margin:0; padding: 0}\n",
       ".list-inline>li {display: inline-block}\n",
       ".list-inline>li:not(:last-child)::after {content: \"\\00b7\"; padding: 0 .5ex}\n",
       "</style>\n",
       "<ol class=list-inline><li>200</li><li>20</li></ol>\n"
      ],
      "text/latex": [
       "\\begin{enumerate*}\n",
       "\\item 200\n",
       "\\item 20\n",
       "\\end{enumerate*}\n"
      ],
      "text/markdown": [
       "1. 200\n",
       "2. 20\n",
       "\n",
       "\n"
      ],
      "text/plain": [
       "[1] 200  20"
      ]
     },
     "metadata": {},
     "output_type": "display_data"
    },
    {
     "data": {
      "text/html": [
       "<style>\n",
       ".list-inline {list-style: none; margin:0; padding: 0}\n",
       ".list-inline>li {display: inline-block}\n",
       ".list-inline>li:not(:last-child)::after {content: \"\\00b7\"; padding: 0 .5ex}\n",
       "</style>\n",
       "<ol class=list-inline><li>100</li><li>20</li></ol>\n"
      ],
      "text/latex": [
       "\\begin{enumerate*}\n",
       "\\item 100\n",
       "\\item 20\n",
       "\\end{enumerate*}\n"
      ],
      "text/markdown": [
       "1. 100\n",
       "2. 20\n",
       "\n",
       "\n"
      ],
      "text/plain": [
       "[1] 100  20"
      ]
     },
     "metadata": {},
     "output_type": "display_data"
    }
   ],
   "source": [
    "dim(training)\n",
    "dim(testing)\n",
    "dim(evaluation)"
   ]
  },
  {
   "cell_type": "code",
   "execution_count": 10,
   "id": "2204576f",
   "metadata": {},
   "outputs": [],
   "source": [
    "#Logit"
   ]
  },
  {
   "cell_type": "code",
   "execution_count": 11,
   "id": "0c3484ff",
   "metadata": {},
   "outputs": [
    {
     "data": {
      "text/plain": [
       "Generalized Linear Model \n",
       "\n",
       "700 samples\n",
       " 12 predictor\n",
       "  2 classes: 'No', 'Si' \n",
       "\n",
       "No pre-processing\n",
       "Resampling: Cross-Validated (5 fold) \n",
       "Summary of sample sizes: 560, 560, 560, 560, 560 \n",
       "Resampling results:\n",
       "\n",
       "  ROC        Sens       Spec       Accuracy   Kappa    \n",
       "  0.7308066  0.9102041  0.3047619  0.7285714  0.2456281\n"
      ]
     },
     "metadata": {},
     "output_type": "display_data"
    }
   ],
   "source": [
    "fiveStats <- function(...) c(twoClassSummary(...), defaultSummary(...))\n",
    "ctrl<- trainControl(method = \"cv\",\n",
    "                     number = 5,\n",
    "                     summaryFunction = fiveStats,\n",
    "                     classProbs = TRUE,\n",
    "                     verbose=FALSE,\n",
    "                     savePredictions = T)\n",
    "#logit\n",
    "set.seed(1410)\n",
    "mylogit_caret <- train(Default~duration+amount+installment+age+\n",
    "                       history.buena+history.mala+\n",
    "                       purpose.auto_nuevo+purpose.auto_usado+purpose.bienes+purpose.educacion+\n",
    "                       foreign.extranjero+\n",
    "                       +rent.TRUE, \n",
    "                       data = training, \n",
    "                       method = \"glm\",\n",
    "                       trControl = ctrl,\n",
    "                       family = \"binomial\", \n",
    "                       metric = 'ROC')\n",
    "\n",
    "\n",
    "\n",
    "\n",
    "mylogit_caret"
   ]
  },
  {
   "cell_type": "markdown",
   "id": "5fc562bf",
   "metadata": {},
   "source": [
    "## Model Tuning: Maximizar la capacidad predictiva del modelo"
   ]
  },
  {
   "cell_type": "markdown",
   "id": "aaab8c2f",
   "metadata": {},
   "source": [
    "\n",
    "El enfoque más simple para contrarrestar los efectos negativos del desequilibrio de clases es ajustar el modelo para maximizar la precisión de las clases minoritarias.\n",
    "\n",
    "Para nuestro ejemplo, ajustar el modelo para maximizar la sensibilidad puede ayudar a desensibilizar el proceso de entrenamiento al alto porcentaje de datos sin default en el conjunto de entrenamiento."
   ]
  },
  {
   "cell_type": "code",
   "execution_count": 12,
   "id": "826f8293",
   "metadata": {},
   "outputs": [
    {
     "data": {
      "text/plain": [
       "Generalized Linear Model \n",
       "\n",
       "700 samples\n",
       " 12 predictor\n",
       "  2 classes: 'No', 'Si' \n",
       "\n",
       "No pre-processing\n",
       "Resampling: Cross-Validated (5 fold) \n",
       "Summary of sample sizes: 560, 560, 560, 560, 560 \n",
       "Resampling results:\n",
       "\n",
       "  ROC        Sens       Spec       Accuracy   Kappa    \n",
       "  0.7308066  0.9102041  0.3047619  0.7285714  0.2456281\n"
      ]
     },
     "metadata": {},
     "output_type": "display_data"
    }
   ],
   "source": [
    "#logit\n",
    "set.seed(1410)\n",
    "mylogit_caret <- train(Default~duration+amount+installment+age+\n",
    "                       history.buena+history.mala+\n",
    "                       purpose.auto_nuevo+purpose.auto_usado+purpose.bienes+purpose.educacion+\n",
    "                       foreign.extranjero+\n",
    "                       +rent.TRUE, \n",
    "                       data = training, \n",
    "                       method = \"glm\",\n",
    "                       trControl = ctrl,\n",
    "                       family = \"binomial\", \n",
    "                       metric = 'Spec')\n",
    "\n",
    "mylogit_caret"
   ]
  },
  {
   "cell_type": "code",
   "execution_count": 13,
   "id": "151646bc",
   "metadata": {},
   "outputs": [
    {
     "data": {
      "text/plain": [
       "glmnet \n",
       "\n",
       "700 samples\n",
       " 12 predictor\n",
       "  2 classes: 'No', 'Si' \n",
       "\n",
       "Pre-processing: centered (12), scaled (12) \n",
       "Resampling: Cross-Validated (5 fold) \n",
       "Summary of sample sizes: 560, 560, 560, 560, 560 \n",
       "Resampling results across tuning parameters:\n",
       "\n",
       "  lambda        ROC        Sens       Spec        Accuracy   Kappa     \n",
       "  0.0001000000  0.7318756  0.9142857  0.28571429  0.7257143  0.23176719\n",
       "  0.0002789687  0.7318756  0.9142857  0.28571429  0.7257143  0.23176719\n",
       "  0.0007782356  0.7318756  0.9142857  0.28571429  0.7257143  0.23176719\n",
       "  0.0021710342  0.7318756  0.9142857  0.28571429  0.7257143  0.23176719\n",
       "  0.0060565070  0.7318756  0.9142857  0.28571429  0.7257143  0.23176719\n",
       "  0.0168957618  0.7327017  0.9142857  0.27619048  0.7228571  0.22125732\n",
       "  0.0471338954  0.7335763  0.9326531  0.26190476  0.7314286  0.23129637\n",
       "  0.1314888384  0.7347425  0.9571429  0.14285714  0.7128571  0.12505390\n",
       "  0.3668127682  0.7336249  0.9918367  0.02380952  0.7014286  0.02124838\n",
       "  1.0232929923  0.7298834  1.0000000  0.00000000  0.7000000  0.00000000\n",
       "\n",
       "Tuning parameter 'alpha' was held constant at a value of 0\n",
       "Spec was used to select the optimal model using the largest value.\n",
       "The final values used for the model were alpha = 0 and lambda = 0.006056507."
      ]
     },
     "metadata": {},
     "output_type": "display_data"
    }
   ],
   "source": [
    "#Lasso\n",
    "lambda_grid <- 10^seq(-4, 0.01, length = 10) #en la practica se suele usar una grilla de 200 o 300\n",
    "\n",
    "\n",
    "set.seed(1410)\n",
    "mylogit_lasso_spec <- train(Default~duration+amount+installment+age+\n",
    "                       history.buena+history.mala+\n",
    "                       purpose.auto_nuevo+purpose.auto_usado+purpose.bienes+purpose.educacion+\n",
    "                       foreign.extranjero+\n",
    "                       +rent.TRUE,\n",
    "  data = training, \n",
    "  method = \"glmnet\",\n",
    "  trControl = ctrl,\n",
    "  family = \"binomial\", \n",
    "  metric = \"Spec\",\n",
    "  tuneGrid = expand.grid(alpha = 0,lambda=lambda_grid), \n",
    "  preProcess = c(\"center\", \"scale\")\n",
    ")\n",
    "mylogit_lasso_spec"
   ]
  },
  {
   "cell_type": "markdown",
   "id": "090861dc",
   "metadata": {},
   "source": [
    "### Accuracy"
   ]
  },
  {
   "cell_type": "code",
   "execution_count": 14,
   "id": "f71254d5",
   "metadata": {},
   "outputs": [
    {
     "data": {
      "text/plain": [
       "glmnet \n",
       "\n",
       "700 samples\n",
       " 12 predictor\n",
       "  2 classes: 'No', 'Si' \n",
       "\n",
       "Pre-processing: centered (12), scaled (12) \n",
       "Resampling: Cross-Validated (5 fold) \n",
       "Summary of sample sizes: 560, 560, 560, 560, 560 \n",
       "Resampling results across tuning parameters:\n",
       "\n",
       "  lambda        ROC        Sens       Spec        Accuracy   Kappa     \n",
       "  0.0001000000  0.7318756  0.9142857  0.28571429  0.7257143  0.23176719\n",
       "  0.0002789687  0.7318756  0.9142857  0.28571429  0.7257143  0.23176719\n",
       "  0.0007782356  0.7318756  0.9142857  0.28571429  0.7257143  0.23176719\n",
       "  0.0021710342  0.7318756  0.9142857  0.28571429  0.7257143  0.23176719\n",
       "  0.0060565070  0.7318756  0.9142857  0.28571429  0.7257143  0.23176719\n",
       "  0.0168957618  0.7327017  0.9142857  0.27619048  0.7228571  0.22125732\n",
       "  0.0471338954  0.7335763  0.9326531  0.26190476  0.7314286  0.23129637\n",
       "  0.1314888384  0.7347425  0.9571429  0.14285714  0.7128571  0.12505390\n",
       "  0.3668127682  0.7336249  0.9918367  0.02380952  0.7014286  0.02124838\n",
       "  1.0232929923  0.7298834  1.0000000  0.00000000  0.7000000  0.00000000\n",
       "\n",
       "Tuning parameter 'alpha' was held constant at a value of 0\n",
       "Accuracy was used to select the optimal model using the largest value.\n",
       "The final values used for the model were alpha = 0 and lambda = 0.0471339."
      ]
     },
     "metadata": {},
     "output_type": "display_data"
    }
   ],
   "source": [
    "#Lasso\n",
    "lambda_grid <- 10^seq(-4, 0.01, length = 10) #en la practica se suele usar una grilla de 200 o 300\n",
    "\n",
    "\n",
    "set.seed(1410)\n",
    "mylogit_lasso_acc <- train(Default~duration+amount+installment+age+\n",
    "                       history.buena+history.mala+\n",
    "                       purpose.auto_nuevo+purpose.auto_usado+purpose.bienes+purpose.educacion+\n",
    "                       foreign.extranjero+\n",
    "                       +rent.TRUE,\n",
    "  data = training, \n",
    "  method = \"glmnet\",\n",
    "  trControl = ctrl,\n",
    "  family = \"binomial\", \n",
    "  metric = \"Accuracy\",\n",
    "  tuneGrid = expand.grid(alpha = 0,lambda=lambda_grid), \n",
    "  preProcess = c(\"center\", \"scale\")\n",
    ")\n",
    "mylogit_lasso_acc"
   ]
  },
  {
   "cell_type": "markdown",
   "id": "9a9e8928",
   "metadata": {},
   "source": [
    "### ROC"
   ]
  },
  {
   "cell_type": "code",
   "execution_count": 15,
   "id": "a1ee9fd3",
   "metadata": {},
   "outputs": [
    {
     "data": {
      "text/plain": [
       "glmnet \n",
       "\n",
       "700 samples\n",
       " 12 predictor\n",
       "  2 classes: 'No', 'Si' \n",
       "\n",
       "Pre-processing: centered (12), scaled (12) \n",
       "Resampling: Cross-Validated (5 fold) \n",
       "Summary of sample sizes: 560, 560, 560, 560, 560 \n",
       "Resampling results across tuning parameters:\n",
       "\n",
       "  lambda        ROC        Sens       Spec        Accuracy   Kappa     \n",
       "  0.0001000000  0.7318756  0.9142857  0.28571429  0.7257143  0.23176719\n",
       "  0.0002789687  0.7318756  0.9142857  0.28571429  0.7257143  0.23176719\n",
       "  0.0007782356  0.7318756  0.9142857  0.28571429  0.7257143  0.23176719\n",
       "  0.0021710342  0.7318756  0.9142857  0.28571429  0.7257143  0.23176719\n",
       "  0.0060565070  0.7318756  0.9142857  0.28571429  0.7257143  0.23176719\n",
       "  0.0168957618  0.7327017  0.9142857  0.27619048  0.7228571  0.22125732\n",
       "  0.0471338954  0.7335763  0.9326531  0.26190476  0.7314286  0.23129637\n",
       "  0.1314888384  0.7347425  0.9571429  0.14285714  0.7128571  0.12505390\n",
       "  0.3668127682  0.7336249  0.9918367  0.02380952  0.7014286  0.02124838\n",
       "  1.0232929923  0.7298834  1.0000000  0.00000000  0.7000000  0.00000000\n",
       "\n",
       "Tuning parameter 'alpha' was held constant at a value of 0\n",
       "ROC was used to select the optimal model using the largest value.\n",
       "The final values used for the model were alpha = 0 and lambda = 0.1314888."
      ]
     },
     "metadata": {},
     "output_type": "display_data"
    }
   ],
   "source": [
    "set.seed(1410)\n",
    "mylogit_lasso_roc <- train(\n",
    " Default~duration+amount+installment+age+\n",
    "                       history.buena+history.mala+\n",
    "                       purpose.auto_nuevo+purpose.auto_usado+purpose.bienes+purpose.educacion+\n",
    "                       foreign.extranjero+\n",
    "                       +rent.TRUE, \n",
    "  data = training, \n",
    "  method = \"glmnet\",\n",
    "  trControl = ctrl,\n",
    "  family = \"binomial\", \n",
    "  metric = \"ROC\",\n",
    "  tuneGrid = expand.grid(alpha = 0,lambda=lambda_grid), \n",
    "  preProcess = c(\"center\", \"scale\")\n",
    ")\n",
    "mylogit_lasso_roc"
   ]
  },
  {
   "cell_type": "markdown",
   "id": "c758d559",
   "metadata": {},
   "source": [
    "## Alternative Cutoffs"
   ]
  },
  {
   "cell_type": "markdown",
   "id": "f9c17b82",
   "metadata": {},
   "source": [
    "Cuando hay dos posibles categorías de resultados, otro método para aumentar la precisión de la predicción de las muestras de la clase minoritaria es determinar puntos de corte alternativos para las probabilidades predichas, lo que cambia efectivamente la definición de un evento predicho.\n",
    "  \n",
    "- Existen varias técnicas para determinar un nuevo punto de corte.\n",
    "  \n",
    "- Si hay un objetivo particular que debe cumplirse para la sensibilidad o la especificidad, este punto se puede encontrar en la curva ROC y se puede determinar el límite correspondiente.\n",
    "\n"
   ]
  },
  {
   "cell_type": "code",
   "execution_count": 16,
   "id": "9bf34f57",
   "metadata": {},
   "outputs": [
    {
     "data": {
      "text/html": [
       "<table class=\"dataframe\">\n",
       "<caption>A data.frame: 6 × 2</caption>\n",
       "<thead>\n",
       "\t<tr><th></th><th scope=col>Default</th><th scope=col>Roc</th></tr>\n",
       "\t<tr><th></th><th scope=col>&lt;fct&gt;</th><th scope=col>&lt;dbl&gt;</th></tr>\n",
       "</thead>\n",
       "<tbody>\n",
       "\t<tr><th scope=row>1</th><td>Si</td><td>0.5996035</td></tr>\n",
       "\t<tr><th scope=row>2</th><td>Si</td><td>0.7055370</td></tr>\n",
       "\t<tr><th scope=row>3</th><td>No</td><td>0.7779962</td></tr>\n",
       "\t<tr><th scope=row>4</th><td>No</td><td>0.7489328</td></tr>\n",
       "\t<tr><th scope=row>5</th><td>No</td><td>0.7511926</td></tr>\n",
       "\t<tr><th scope=row>6</th><td>Si</td><td>0.5395619</td></tr>\n",
       "</tbody>\n",
       "</table>\n"
      ],
      "text/latex": [
       "A data.frame: 6 × 2\n",
       "\\begin{tabular}{r|ll}\n",
       "  & Default & Roc\\\\\n",
       "  & <fct> & <dbl>\\\\\n",
       "\\hline\n",
       "\t1 & Si & 0.5996035\\\\\n",
       "\t2 & Si & 0.7055370\\\\\n",
       "\t3 & No & 0.7779962\\\\\n",
       "\t4 & No & 0.7489328\\\\\n",
       "\t5 & No & 0.7511926\\\\\n",
       "\t6 & Si & 0.5395619\\\\\n",
       "\\end{tabular}\n"
      ],
      "text/markdown": [
       "\n",
       "A data.frame: 6 × 2\n",
       "\n",
       "| <!--/--> | Default &lt;fct&gt; | Roc &lt;dbl&gt; |\n",
       "|---|---|---|\n",
       "| 1 | Si | 0.5996035 |\n",
       "| 2 | Si | 0.7055370 |\n",
       "| 3 | No | 0.7779962 |\n",
       "| 4 | No | 0.7489328 |\n",
       "| 5 | No | 0.7511926 |\n",
       "| 6 | Si | 0.5395619 |\n",
       "\n"
      ],
      "text/plain": [
       "  Default Roc      \n",
       "1 Si      0.5996035\n",
       "2 Si      0.7055370\n",
       "3 No      0.7779962\n",
       "4 No      0.7489328\n",
       "5 No      0.7511926\n",
       "6 Si      0.5395619"
      ]
     },
     "metadata": {},
     "output_type": "display_data"
    }
   ],
   "source": [
    "evalResults <- data.frame(Default = evaluation$Default)\n",
    "\n",
    "evalResults$Roc <- predict(mylogit_lasso_roc,\n",
    "                              newdata = evaluation,\n",
    "                              type = \"prob\")[,1]\n",
    "\n",
    "head(evalResults)"
   ]
  },
  {
   "cell_type": "code",
   "execution_count": 21,
   "id": "b9497957",
   "metadata": {},
   "outputs": [
    {
     "data": {
      "text/plain": [
       "\n",
       "No Si \n",
       "70 30 "
      ]
     },
     "metadata": {},
     "output_type": "display_data"
    }
   ],
   "source": [
    "table(evalResults$Default)\n",
    "#levels(evalResults$Default)"
   ]
  },
  {
   "cell_type": "code",
   "execution_count": 17,
   "id": "b288a615",
   "metadata": {},
   "outputs": [
    {
     "name": "stderr",
     "output_type": "stream",
     "text": [
      "Setting direction: controls < cases\n",
      "\n"
     ]
    },
    {
     "data": {
      "text/plain": [
       "\n",
       "Call:\n",
       "roc.default(response = evalResults$Default, predictor = evalResults$Roc,     levels = rev(levels(evalResults$Default)))\n",
       "\n",
       "Data: evalResults$Roc in 30 controls (evalResults$Default Si) < 70 cases (evalResults$Default No).\n",
       "Area under the curve: 0.7871"
      ]
     },
     "metadata": {},
     "output_type": "display_data"
    }
   ],
   "source": [
    "p_load(\"pROC\")\n",
    "rfROC <- roc(evalResults$Default, evalResults$Roc, levels = rev(levels(evalResults$Default)))\n",
    "rfROC"
   ]
  },
  {
   "cell_type": "code",
   "execution_count": 18,
   "id": "3f70131d",
   "metadata": {},
   "outputs": [],
   "source": [
    "?roc"
   ]
  },
  {
   "cell_type": "code",
   "execution_count": 23,
   "id": "842e5b32",
   "metadata": {},
   "outputs": [
    {
     "name": "stderr",
     "output_type": "stream",
     "text": [
      "Setting direction: controls > cases\n",
      "\n"
     ]
    },
    {
     "data": {
      "text/plain": [
       "\n",
       "Call:\n",
       "roc.default(response = evalResults$Default, predictor = evalResults$Roc,     levels = c(\"No\", \"Si\"))\n",
       "\n",
       "Data: evalResults$Roc in 70 controls (evalResults$Default No) > 30 cases (evalResults$Default Si).\n",
       "Area under the curve: 0.7871"
      ]
     },
     "metadata": {},
     "output_type": "display_data"
    }
   ],
   "source": [
    "rfROC <- roc(evalResults$Default, evalResults$Roc, levels = c(\"No\",\"Si\"))\n",
    "rfROC"
   ]
  },
  {
   "cell_type": "markdown",
   "id": "dfc409ab",
   "metadata": {},
   "source": [
    "Otro enfoque es encontrar el punto en la curva ROC que está más cerca (es decir, la distancia más corta) al modelo perfecto (con 100\\% de sensibilidad y 100\\% de especificidad), que está asociado con la esquina superior izquierda de la gráfica."
   ]
  },
  {
   "cell_type": "code",
   "execution_count": null,
   "id": "c6e3aa27",
   "metadata": {},
   "outputs": [],
   "source": [
    "rfThresh <- coords(rfROC, x = \"best\", best.method = \"closest.topleft\")\n",
    "rfThresh"
   ]
  },
  {
   "cell_type": "code",
   "execution_count": null,
   "id": "22af3e2c",
   "metadata": {},
   "outputs": [],
   "source": [
    "evalResults<-evalResults %>% mutate(hat_def_05=ifelse(evalResults$Roc>0.5,\"Si\",\"No\"),\n",
    "                                    hat_def_rfThresh=ifelse(evalResults$Roc>rfThresh$threshold,\"Si\",\"No\"))"
   ]
  },
  {
   "cell_type": "code",
   "execution_count": null,
   "id": "a5d14feb",
   "metadata": {},
   "outputs": [],
   "source": [
    "with(evalResults,table(Default,hat_def_05))\n"
   ]
  },
  {
   "cell_type": "code",
   "execution_count": null,
   "id": "3aadb050",
   "metadata": {},
   "outputs": [],
   "source": [
    "with(evalResults,table(Default,hat_def_rfThresh))"
   ]
  },
  {
   "cell_type": "markdown",
   "id": "90974da1",
   "metadata": {},
   "source": [
    "\n",
    "El límite alternativo para el modelo no se derivó de los conjuntos de entrenamiento o prueba. Es importante, especialmente para tamaños de muestra pequeños, usar un conjunto de datos independiente para derivar el límite.\n",
    "\n",
    " - Si se utilizan las predicciones del conjunto de entrenamiento, es probable que haya un gran sesgo optimista en las probabilidades de clase que conducirá a evaluaciones inexactas de la sensibilidad y la especificidad.\n",
    "\n",
    " - Si se utiliza el conjunto de prueba, ya no es una fuente imparcial para juzgar el rendimiento del modelo. Por ejemplo, Ewald (2006) descubrió mediante simulación que la derivación post hoc de los puntos de corte puede exagerar el rendimiento del conjunto de pruebas.\n",
    "   \n",
    "Notemos que el modelo no ha cambiado. Se están utilizando los mismos parámetros del modelo. Cambiar el límite para aumentar la sensibilidad no aumenta la efectividad predictiva general del modelo. El principal impacto que tiene un corte alternativo es hacer compensaciones entre tipos particulares de errores."
   ]
  },
  {
   "cell_type": "markdown",
   "id": "75c0cca7",
   "metadata": {},
   "source": [
    "## Remuestreo"
   ]
  },
  {
   "cell_type": "markdown",
   "id": "9a8d20cf",
   "metadata": {},
   "source": [
    "Hay dos enfoques generales:\n",
    "\n",
    "    1. Up-sampling.  Simulates or imputes additional data points of the minority class to improve balance across classes, while \n",
    "    2. Down-sampling. Randomly reduces the number of the majority class  to improve the balance across classes.\n",
    "\n",
    "y un híbrido: SMOTE"
   ]
  },
  {
   "cell_type": "markdown",
   "id": "e0573844",
   "metadata": {},
   "source": [
    "<div >\n",
    "<img src = \"sampling_methods.png\" />\n",
    "</div>"
   ]
  },
  {
   "cell_type": "markdown",
   "id": "fce16b0a",
   "metadata": {},
   "source": [
    "### Up Sampling"
   ]
  },
  {
   "cell_type": "code",
   "execution_count": null,
   "id": "c424664f",
   "metadata": {},
   "outputs": [],
   "source": [
    "set.seed(1103)\n",
    "upSampledTrain <- upSample(x = training,\n",
    "                           y = training$Default,\n",
    "                           ## keep the class variable name the same:\n",
    "                           yname = \"Default\")\n",
    "dim(training)\n",
    "\n",
    "dim(upSampledTrain)\n",
    "\n",
    "table(upSampledTrain$Default)\n"
   ]
  },
  {
   "cell_type": "code",
   "execution_count": null,
   "id": "25938413",
   "metadata": {},
   "outputs": [],
   "source": [
    "\n",
    "set.seed(1410)\n",
    "mylogit_lasso_upsample <- train(Default~duration+amount+installment+age+\n",
    "                       history.buena+history.mala+\n",
    "                       purpose.auto_nuevo+purpose.auto_usado+purpose.bienes+purpose.educacion+\n",
    "                       foreign.extranjero+\n",
    "                       +rent.TRUE, \n",
    "  data = upSampledTrain, \n",
    "  method = \"glmnet\",\n",
    "  trControl = ctrl,\n",
    "  family = \"binomial\", \n",
    "  metric = \"ROC\",\n",
    "  tuneGrid = expand.grid(alpha = 0,lambda=lambda_grid), \n",
    "  preProcess = c(\"center\", \"scale\")\n",
    ")\n",
    "mylogit_lasso_upsample\n"
   ]
  },
  {
   "cell_type": "markdown",
   "id": "62880c11",
   "metadata": {},
   "source": [
    "### Down Sampling"
   ]
  },
  {
   "cell_type": "code",
   "execution_count": null,
   "id": "bf4eb3f7",
   "metadata": {},
   "outputs": [],
   "source": [
    "\n",
    "set.seed(1103)\n",
    "downSampledTrain <- downSample(x = training,\n",
    "                           y = training$Default,\n",
    "                           ## keep the class variable name the same:\n",
    "                           yname = \"Default\")\n",
    "dim(training)\n",
    "\n",
    "dim(downSampledTrain)\n",
    "\n",
    "table(downSampledTrain$Default)\n"
   ]
  },
  {
   "cell_type": "code",
   "execution_count": null,
   "id": "4f5ec251",
   "metadata": {},
   "outputs": [],
   "source": [
    "set.seed(1410)\n",
    "mylogit_lasso_downsample <- train(Default~duration+amount+installment+age+\n",
    "                       history.buena+history.mala+\n",
    "                       purpose.auto_nuevo+purpose.auto_usado+purpose.bienes+purpose.educacion+\n",
    "                       foreign.extranjero+\n",
    "                       rent.TRUE, \n",
    "  data = downSampledTrain, \n",
    "  method = \"glmnet\",\n",
    "  trControl = ctrl,\n",
    "  family = \"binomial\", \n",
    "  metric = \"ROC\",\n",
    "  tuneGrid = expand.grid(alpha = 0,lambda=lambda_grid), \n",
    "  preProcess = c(\"center\", \"scale\")\n",
    ")\n",
    "mylogit_lasso_downsample"
   ]
  },
  {
   "cell_type": "markdown",
   "id": "ccbe7e9a",
   "metadata": {},
   "source": [
    "### SMOTE"
   ]
  },
  {
   "cell_type": "markdown",
   "id": "d1619bc9",
   "metadata": {},
   "source": [
    "El synthetic minority over-sampling technique (SMOTE) (Chawla et al., 2002), utiliza tanto muestreo hacia arriba (up-sampling) como hacia abajo (down-sampling)\n",
    "\n",
    "- Para mejorar la muestra de la clase minoritaria, SMOTE sintetiza nuevos casos. Para ello, se selecciona aleatoriamente un punto de datos de la clase minoritaria y se determinan sus K vecinos más cercanos (KNN). El nuevo punto de datos sintético es una combinación convexa aleatoria de los predictores del punto de datos seleccionado al azar y sus vecinos.\n",
    "\n",
    "- Si bien el algoritmo SMOTE agrega nuevas muestras a la clase minoritaria a través de un muestreo ascendente, también puede reducir la muestra de casos de la clase mayoritaria a través de un muestreo aleatorio para ayudar a equilibrar el conjunto de entrenamiento."
   ]
  },
  {
   "cell_type": "markdown",
   "id": "a9c75ce1",
   "metadata": {},
   "source": [
    "<div >\n",
    "<img src = \"smote.png\" />\n",
    "</div>"
   ]
  },
  {
   "cell_type": "code",
   "execution_count": null,
   "id": "9b821159",
   "metadata": {},
   "outputs": [],
   "source": [
    "p_load(\"smotefamily\")\n",
    "\n",
    "predictors<-c(\"duration\",\"amount\",\"installment\",\"age\",\n",
    "                       \"history.buena\",\"history.mala\",\n",
    "                       \"purpose.auto_nuevo\",\"purpose.auto_usado\",\"purpose.bienes\",\"purpose.educacion\",\n",
    "                       \"foreign.extranjero\",\n",
    "                       \"rent.TRUE\")\n",
    "head( training[predictors])\n"
   ]
  },
  {
   "cell_type": "code",
   "execution_count": null,
   "id": "c8307d9c",
   "metadata": {},
   "outputs": [],
   "source": [
    "smote_output = SMOTE(X = training[predictors],\n",
    "                     target = training$Default)\n",
    "smote_data = smote_output$data\n",
    "table(training$Default)\n",
    "table(smote_data$class)"
   ]
  },
  {
   "cell_type": "code",
   "execution_count": null,
   "id": "8b264ebe",
   "metadata": {},
   "outputs": [],
   "source": [
    "set.seed(1410)\n",
    "mylogit_lasso_smote<- train(class~duration+amount+installment+age+\n",
    "                       history.buena+history.mala+\n",
    "                       purpose.auto_nuevo+purpose.auto_usado+purpose.bienes+purpose.educacion+\n",
    "                       foreign.extranjero+\n",
    "                       rent.TRUE,\n",
    "  data = smote_data, \n",
    "  method = \"glmnet\",\n",
    "  trControl = ctrl,\n",
    "  family = \"binomial\", \n",
    "  metric = \"ROC\",\n",
    "  tuneGrid = expand.grid(alpha = 0,lambda=lambda_grid), \n",
    "  preProcess = c(\"center\", \"scale\")\n",
    ")\n",
    "mylogit_lasso_smote"
   ]
  },
  {
   "cell_type": "markdown",
   "id": "34b09d8c",
   "metadata": {},
   "source": [
    "## Compación"
   ]
  },
  {
   "cell_type": "code",
   "execution_count": null,
   "id": "dbb51c0a",
   "metadata": {},
   "outputs": [],
   "source": [
    "testResults <- data.frame(Default = testing$Default)\n",
    "\n",
    "testResults$logit<- predict(mylogit_caret,\n",
    "                           newdata = testing,\n",
    "                           type = \"prob\")[,1]\n",
    "testResults$lasso<- predict(mylogit_lasso_roc,\n",
    "                           newdata = testing,\n",
    "                           type = \"prob\")[,1]\n",
    "\n",
    "testResults$lasso_thresh<- predict(mylogit_lasso_roc,\n",
    "                           newdata = testing,\n",
    "                           type = \"prob\")[,1]\n",
    "\n",
    "testResults$lasso_upsample<- predict(mylogit_lasso_upsample,\n",
    "                           newdata = testing,\n",
    "                           type = \"prob\")[,1]\n",
    "\n",
    "testResults$mylogit_lasso_downsample<- predict(mylogit_lasso_downsample,\n",
    "                           newdata = testing,\n",
    "                           type = \"prob\")[,1]\n",
    "\n",
    "testResults$mylogit_lasso_smote<- predict(mylogit_lasso_smote,\n",
    "                           newdata = testing,\n",
    "                           type = \"prob\")[,1]\n",
    "\n",
    "testResults<-testResults %>% \n",
    "              mutate(logit=ifelse(logit>0.5,\"Si\",\"No\"),\n",
    "                     lasso=ifelse(lasso>0.5,\"Si\",\"No\"),\n",
    "                     lasso_thresh=ifelse(lasso_thresh>rfThresh$threshold,\"Si\",\"No\"),\n",
    "                     lasso_upsample=ifelse(lasso_upsample>0.5,\"Si\",\"No\"),\n",
    "                     mylogit_lasso_downsample=ifelse(mylogit_lasso_downsample>0.5,\"Si\",\"No\"),\n",
    "                     mylogit_lasso_smote=ifelse(mylogit_lasso_smote>0.5,\"Si\",\"No\"),\n",
    "                     )"
   ]
  },
  {
   "cell_type": "code",
   "execution_count": null,
   "id": "439c012d",
   "metadata": {},
   "outputs": [],
   "source": [
    "with(testResults,table(Default,logit))"
   ]
  },
  {
   "cell_type": "code",
   "execution_count": null,
   "id": "7fcc049a",
   "metadata": {},
   "outputs": [],
   "source": [
    "with(testResults,table(Default,lasso))"
   ]
  },
  {
   "cell_type": "code",
   "execution_count": null,
   "id": "534bc0ca",
   "metadata": {},
   "outputs": [],
   "source": [
    "with(testResults,table(Default,lasso_thresh))"
   ]
  },
  {
   "cell_type": "code",
   "execution_count": null,
   "id": "5dfcdfa2",
   "metadata": {},
   "outputs": [],
   "source": [
    "with(testResults,table(Default,lasso_upsample))"
   ]
  },
  {
   "cell_type": "code",
   "execution_count": null,
   "id": "d715744d",
   "metadata": {},
   "outputs": [],
   "source": [
    "with(testResults,table(Default,mylogit_lasso_downsample))"
   ]
  },
  {
   "cell_type": "code",
   "execution_count": null,
   "id": "de2cb547",
   "metadata": {},
   "outputs": [],
   "source": [
    "with(testResults,table(Default,mylogit_lasso_smote))"
   ]
  }
 ],
 "metadata": {
  "kernelspec": {
   "display_name": "R",
   "language": "R",
   "name": "ir"
  },
  "language_info": {
   "codemirror_mode": "r",
   "file_extension": ".r",
   "mimetype": "text/x-r-source",
   "name": "R",
   "pygments_lexer": "r",
   "version": "4.2.2"
  },
  "toc": {
   "base_numbering": 1,
   "nav_menu": {},
   "number_sections": true,
   "sideBar": true,
   "skip_h1_title": false,
   "title_cell": "Table of Contents",
   "title_sidebar": "Contents",
   "toc_cell": false,
   "toc_position": {},
   "toc_section_display": true,
   "toc_window_display": false
  }
 },
 "nbformat": 4,
 "nbformat_minor": 5
}

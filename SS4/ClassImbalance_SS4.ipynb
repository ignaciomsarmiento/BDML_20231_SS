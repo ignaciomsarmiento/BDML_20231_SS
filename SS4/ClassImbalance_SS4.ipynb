{
 "cells": [
  {
   "cell_type": "markdown",
   "id": "7b628c4c",
   "metadata": {},
   "source": [
    "<div >\n",
    "<img src = \"../banner.jpg\" />\n",
    "</div>"
   ]
  },
  {
   "cell_type": "markdown",
   "id": "fa5440e5",
   "metadata": {},
   "source": [
    "# Desbalance de Classes"
   ]
  },
  {
   "cell_type": "code",
   "execution_count": 1,
   "id": "972b1b4c",
   "metadata": {},
   "outputs": [
    {
     "name": "stderr",
     "output_type": "stream",
     "text": [
      "Loading required package: pacman\n",
      "\n"
     ]
    }
   ],
   "source": [
    "#Cargar librerías \n",
    "require(\"pacman\")\n",
    "p_load(\"tidyverse\")\n"
   ]
  },
  {
   "cell_type": "code",
   "execution_count": 2,
   "id": "ac2736ff",
   "metadata": {},
   "outputs": [
    {
     "data": {
      "text/html": [
       "<table class=\"dataframe\">\n",
       "<caption>A data.frame: 6 × 9</caption>\n",
       "<thead>\n",
       "\t<tr><th></th><th scope=col>Default</th><th scope=col>duration</th><th scope=col>amount</th><th scope=col>installment</th><th scope=col>age</th><th scope=col>history</th><th scope=col>purpose</th><th scope=col>foreign</th><th scope=col>rent</th></tr>\n",
       "\t<tr><th></th><th scope=col>&lt;fct&gt;</th><th scope=col>&lt;int&gt;</th><th scope=col>&lt;int&gt;</th><th scope=col>&lt;int&gt;</th><th scope=col>&lt;int&gt;</th><th scope=col>&lt;fct&gt;</th><th scope=col>&lt;fct&gt;</th><th scope=col>&lt;fct&gt;</th><th scope=col>&lt;fct&gt;</th></tr>\n",
       "</thead>\n",
       "<tbody>\n",
       "\t<tr><th scope=row>1</th><td>No</td><td> 6</td><td>1169</td><td>4</td><td>67</td><td>terrible</td><td>bienes    </td><td>extranjero</td><td>FALSE</td></tr>\n",
       "\t<tr><th scope=row>2</th><td>Si</td><td>48</td><td>5951</td><td>2</td><td>22</td><td>mala    </td><td>bienes    </td><td>extranjero</td><td>FALSE</td></tr>\n",
       "\t<tr><th scope=row>3</th><td>No</td><td>12</td><td>2096</td><td>2</td><td>49</td><td>terrible</td><td>educacion </td><td>extranjero</td><td>FALSE</td></tr>\n",
       "\t<tr><th scope=row>4</th><td>No</td><td>42</td><td>7882</td><td>2</td><td>45</td><td>mala    </td><td>bienes    </td><td>extranjero</td><td>FALSE</td></tr>\n",
       "\t<tr><th scope=row>5</th><td>Si</td><td>24</td><td>4870</td><td>3</td><td>53</td><td>mala    </td><td>auto_nuevo</td><td>extranjero</td><td>FALSE</td></tr>\n",
       "\t<tr><th scope=row>6</th><td>No</td><td>36</td><td>9055</td><td>2</td><td>35</td><td>mala    </td><td>educacion </td><td>extranjero</td><td>FALSE</td></tr>\n",
       "</tbody>\n",
       "</table>\n"
      ],
      "text/latex": [
       "A data.frame: 6 × 9\n",
       "\\begin{tabular}{r|lllllllll}\n",
       "  & Default & duration & amount & installment & age & history & purpose & foreign & rent\\\\\n",
       "  & <fct> & <int> & <int> & <int> & <int> & <fct> & <fct> & <fct> & <fct>\\\\\n",
       "\\hline\n",
       "\t1 & No &  6 & 1169 & 4 & 67 & terrible & bienes     & extranjero & FALSE\\\\\n",
       "\t2 & Si & 48 & 5951 & 2 & 22 & mala     & bienes     & extranjero & FALSE\\\\\n",
       "\t3 & No & 12 & 2096 & 2 & 49 & terrible & educacion  & extranjero & FALSE\\\\\n",
       "\t4 & No & 42 & 7882 & 2 & 45 & mala     & bienes     & extranjero & FALSE\\\\\n",
       "\t5 & Si & 24 & 4870 & 3 & 53 & mala     & auto\\_nuevo & extranjero & FALSE\\\\\n",
       "\t6 & No & 36 & 9055 & 2 & 35 & mala     & educacion  & extranjero & FALSE\\\\\n",
       "\\end{tabular}\n"
      ],
      "text/markdown": [
       "\n",
       "A data.frame: 6 × 9\n",
       "\n",
       "| <!--/--> | Default &lt;fct&gt; | duration &lt;int&gt; | amount &lt;int&gt; | installment &lt;int&gt; | age &lt;int&gt; | history &lt;fct&gt; | purpose &lt;fct&gt; | foreign &lt;fct&gt; | rent &lt;fct&gt; |\n",
       "|---|---|---|---|---|---|---|---|---|---|\n",
       "| 1 | No |  6 | 1169 | 4 | 67 | terrible | bienes     | extranjero | FALSE |\n",
       "| 2 | Si | 48 | 5951 | 2 | 22 | mala     | bienes     | extranjero | FALSE |\n",
       "| 3 | No | 12 | 2096 | 2 | 49 | terrible | educacion  | extranjero | FALSE |\n",
       "| 4 | No | 42 | 7882 | 2 | 45 | mala     | bienes     | extranjero | FALSE |\n",
       "| 5 | Si | 24 | 4870 | 3 | 53 | mala     | auto_nuevo | extranjero | FALSE |\n",
       "| 6 | No | 36 | 9055 | 2 | 35 | mala     | educacion  | extranjero | FALSE |\n",
       "\n"
      ],
      "text/plain": [
       "  Default duration amount installment age history  purpose    foreign    rent \n",
       "1 No       6       1169   4           67  terrible bienes     extranjero FALSE\n",
       "2 Si      48       5951   2           22  mala     bienes     extranjero FALSE\n",
       "3 No      12       2096   2           49  terrible educacion  extranjero FALSE\n",
       "4 No      42       7882   2           45  mala     bienes     extranjero FALSE\n",
       "5 Si      24       4870   3           53  mala     auto_nuevo extranjero FALSE\n",
       "6 No      36       9055   2           35  mala     educacion  extranjero FALSE"
      ]
     },
     "metadata": {},
     "output_type": "display_data"
    }
   ],
   "source": [
    "#Leer los datos \n",
    "credit <- readRDS(url(\"https://github.com/ignaciomsarmiento/datasets/blob/main/credit_class.rds?raw=true\"))\n",
    "#mutacion de factores\n",
    "credit<-credit %>% mutate(Default=factor(Default,levels=c(0,1),labels=c(\"No\",\"Si\")),\n",
    "                          history=factor(history,levels=c(\"good\",\"poor\",\"terrible\"),labels=c(\"buena\",\"mala\",\"terrible\")),\n",
    "                          foreign=factor(foreign,levels=c(\"foreign\",\"german\"),labels=c(\"extranjero\",\"aleman\")),\n",
    "                          purpose=factor(purpose,levels=c(\"newcar\",\"usedcar\",\"goods/repair\",\"edu\", \"biz\" ),labels=c(\"auto_nuevo\",\"auto_usado\",\"bienes\",\"educacion\",\"negocios\")))         \n",
    "\n",
    "head(credit)"
   ]
  },
  {
   "cell_type": "code",
   "execution_count": 3,
   "id": "9ddb9d3b",
   "metadata": {},
   "outputs": [
    {
     "data": {
      "text/plain": [
       "$call\n",
       "dummyVars.default(formula = \" ~ .\", data = credit)\n",
       "\n",
       "$form\n",
       "~.\n",
       "<environment: 0x7f8b43835610>\n",
       "\n",
       "$vars\n",
       "[1] \"Default\"     \"duration\"    \"amount\"      \"installment\" \"age\"        \n",
       "[6] \"history\"     \"purpose\"     \"foreign\"     \"rent\"       \n",
       "\n",
       "$facVars\n",
       "[1] \"Default\" \"history\" \"purpose\" \"foreign\" \"rent\"   \n",
       "\n",
       "$lvls\n",
       "$lvls$Default\n",
       "[1] \"No\" \"Si\"\n",
       "\n",
       "$lvls$history\n",
       "[1] \"buena\"    \"mala\"     \"terrible\"\n",
       "\n",
       "$lvls$purpose\n",
       "[1] \"auto_nuevo\" \"auto_usado\" \"bienes\"     \"educacion\"  \"negocios\"  \n",
       "\n",
       "$lvls$foreign\n",
       "[1] \"extranjero\" \"aleman\"    \n",
       "\n",
       "$lvls$rent\n",
       "[1] NA      \"FALSE\" \"TRUE\" \n",
       "\n",
       "\n",
       "$sep\n",
       "[1] \".\"\n"
      ]
     },
     "metadata": {},
     "output_type": "display_data"
    }
   ],
   "source": [
    "p_load(\"caret\")\n",
    "dmy <- dummyVars(\" ~ .\", data = credit)\n",
    "head(dmy)"
   ]
  },
  {
   "cell_type": "code",
   "execution_count": 4,
   "id": "ed1a2dcf",
   "metadata": {},
   "outputs": [
    {
     "data": {
      "text/html": [
       "<table class=\"dataframe\">\n",
       "<caption>A data.frame: 6 × 20</caption>\n",
       "<thead>\n",
       "\t<tr><th></th><th scope=col>Default.No</th><th scope=col>Default.Si</th><th scope=col>duration</th><th scope=col>amount</th><th scope=col>installment</th><th scope=col>age</th><th scope=col>history.buena</th><th scope=col>history.mala</th><th scope=col>history.terrible</th><th scope=col>purpose.auto_nuevo</th><th scope=col>purpose.auto_usado</th><th scope=col>purpose.bienes</th><th scope=col>purpose.educacion</th><th scope=col>purpose.negocios</th><th scope=col>foreign.extranjero</th><th scope=col>foreign.aleman</th><th scope=col>rent.NA</th><th scope=col>rent.FALSE</th><th scope=col>rent.TRUE</th><th scope=col>Default</th></tr>\n",
       "\t<tr><th></th><th scope=col>&lt;dbl&gt;</th><th scope=col>&lt;dbl&gt;</th><th scope=col>&lt;dbl&gt;</th><th scope=col>&lt;dbl&gt;</th><th scope=col>&lt;dbl&gt;</th><th scope=col>&lt;dbl&gt;</th><th scope=col>&lt;dbl&gt;</th><th scope=col>&lt;dbl&gt;</th><th scope=col>&lt;dbl&gt;</th><th scope=col>&lt;dbl&gt;</th><th scope=col>&lt;dbl&gt;</th><th scope=col>&lt;dbl&gt;</th><th scope=col>&lt;dbl&gt;</th><th scope=col>&lt;dbl&gt;</th><th scope=col>&lt;dbl&gt;</th><th scope=col>&lt;dbl&gt;</th><th scope=col>&lt;dbl&gt;</th><th scope=col>&lt;dbl&gt;</th><th scope=col>&lt;dbl&gt;</th><th scope=col>&lt;fct&gt;</th></tr>\n",
       "</thead>\n",
       "<tbody>\n",
       "\t<tr><th scope=row>1</th><td>1</td><td>0</td><td> 6</td><td>1169</td><td>4</td><td>67</td><td>0</td><td>0</td><td>1</td><td>0</td><td>0</td><td>1</td><td>0</td><td>0</td><td>1</td><td>0</td><td>0</td><td>1</td><td>0</td><td>No</td></tr>\n",
       "\t<tr><th scope=row>2</th><td>0</td><td>1</td><td>48</td><td>5951</td><td>2</td><td>22</td><td>0</td><td>1</td><td>0</td><td>0</td><td>0</td><td>1</td><td>0</td><td>0</td><td>1</td><td>0</td><td>0</td><td>1</td><td>0</td><td>Si</td></tr>\n",
       "\t<tr><th scope=row>3</th><td>1</td><td>0</td><td>12</td><td>2096</td><td>2</td><td>49</td><td>0</td><td>0</td><td>1</td><td>0</td><td>0</td><td>0</td><td>1</td><td>0</td><td>1</td><td>0</td><td>0</td><td>1</td><td>0</td><td>No</td></tr>\n",
       "\t<tr><th scope=row>4</th><td>1</td><td>0</td><td>42</td><td>7882</td><td>2</td><td>45</td><td>0</td><td>1</td><td>0</td><td>0</td><td>0</td><td>1</td><td>0</td><td>0</td><td>1</td><td>0</td><td>0</td><td>1</td><td>0</td><td>No</td></tr>\n",
       "\t<tr><th scope=row>5</th><td>0</td><td>1</td><td>24</td><td>4870</td><td>3</td><td>53</td><td>0</td><td>1</td><td>0</td><td>1</td><td>0</td><td>0</td><td>0</td><td>0</td><td>1</td><td>0</td><td>0</td><td>1</td><td>0</td><td>Si</td></tr>\n",
       "\t<tr><th scope=row>6</th><td>1</td><td>0</td><td>36</td><td>9055</td><td>2</td><td>35</td><td>0</td><td>1</td><td>0</td><td>0</td><td>0</td><td>0</td><td>1</td><td>0</td><td>1</td><td>0</td><td>0</td><td>1</td><td>0</td><td>No</td></tr>\n",
       "</tbody>\n",
       "</table>\n"
      ],
      "text/latex": [
       "A data.frame: 6 × 20\n",
       "\\begin{tabular}{r|llllllllllllllllllll}\n",
       "  & Default.No & Default.Si & duration & amount & installment & age & history.buena & history.mala & history.terrible & purpose.auto\\_nuevo & purpose.auto\\_usado & purpose.bienes & purpose.educacion & purpose.negocios & foreign.extranjero & foreign.aleman & rent.NA & rent.FALSE & rent.TRUE & Default\\\\\n",
       "  & <dbl> & <dbl> & <dbl> & <dbl> & <dbl> & <dbl> & <dbl> & <dbl> & <dbl> & <dbl> & <dbl> & <dbl> & <dbl> & <dbl> & <dbl> & <dbl> & <dbl> & <dbl> & <dbl> & <fct>\\\\\n",
       "\\hline\n",
       "\t1 & 1 & 0 &  6 & 1169 & 4 & 67 & 0 & 0 & 1 & 0 & 0 & 1 & 0 & 0 & 1 & 0 & 0 & 1 & 0 & No\\\\\n",
       "\t2 & 0 & 1 & 48 & 5951 & 2 & 22 & 0 & 1 & 0 & 0 & 0 & 1 & 0 & 0 & 1 & 0 & 0 & 1 & 0 & Si\\\\\n",
       "\t3 & 1 & 0 & 12 & 2096 & 2 & 49 & 0 & 0 & 1 & 0 & 0 & 0 & 1 & 0 & 1 & 0 & 0 & 1 & 0 & No\\\\\n",
       "\t4 & 1 & 0 & 42 & 7882 & 2 & 45 & 0 & 1 & 0 & 0 & 0 & 1 & 0 & 0 & 1 & 0 & 0 & 1 & 0 & No\\\\\n",
       "\t5 & 0 & 1 & 24 & 4870 & 3 & 53 & 0 & 1 & 0 & 1 & 0 & 0 & 0 & 0 & 1 & 0 & 0 & 1 & 0 & Si\\\\\n",
       "\t6 & 1 & 0 & 36 & 9055 & 2 & 35 & 0 & 1 & 0 & 0 & 0 & 0 & 1 & 0 & 1 & 0 & 0 & 1 & 0 & No\\\\\n",
       "\\end{tabular}\n"
      ],
      "text/markdown": [
       "\n",
       "A data.frame: 6 × 20\n",
       "\n",
       "| <!--/--> | Default.No &lt;dbl&gt; | Default.Si &lt;dbl&gt; | duration &lt;dbl&gt; | amount &lt;dbl&gt; | installment &lt;dbl&gt; | age &lt;dbl&gt; | history.buena &lt;dbl&gt; | history.mala &lt;dbl&gt; | history.terrible &lt;dbl&gt; | purpose.auto_nuevo &lt;dbl&gt; | purpose.auto_usado &lt;dbl&gt; | purpose.bienes &lt;dbl&gt; | purpose.educacion &lt;dbl&gt; | purpose.negocios &lt;dbl&gt; | foreign.extranjero &lt;dbl&gt; | foreign.aleman &lt;dbl&gt; | rent.NA &lt;dbl&gt; | rent.FALSE &lt;dbl&gt; | rent.TRUE &lt;dbl&gt; | Default &lt;fct&gt; |\n",
       "|---|---|---|---|---|---|---|---|---|---|---|---|---|---|---|---|---|---|---|---|---|\n",
       "| 1 | 1 | 0 |  6 | 1169 | 4 | 67 | 0 | 0 | 1 | 0 | 0 | 1 | 0 | 0 | 1 | 0 | 0 | 1 | 0 | No |\n",
       "| 2 | 0 | 1 | 48 | 5951 | 2 | 22 | 0 | 1 | 0 | 0 | 0 | 1 | 0 | 0 | 1 | 0 | 0 | 1 | 0 | Si |\n",
       "| 3 | 1 | 0 | 12 | 2096 | 2 | 49 | 0 | 0 | 1 | 0 | 0 | 0 | 1 | 0 | 1 | 0 | 0 | 1 | 0 | No |\n",
       "| 4 | 1 | 0 | 42 | 7882 | 2 | 45 | 0 | 1 | 0 | 0 | 0 | 1 | 0 | 0 | 1 | 0 | 0 | 1 | 0 | No |\n",
       "| 5 | 0 | 1 | 24 | 4870 | 3 | 53 | 0 | 1 | 0 | 1 | 0 | 0 | 0 | 0 | 1 | 0 | 0 | 1 | 0 | Si |\n",
       "| 6 | 1 | 0 | 36 | 9055 | 2 | 35 | 0 | 1 | 0 | 0 | 0 | 0 | 1 | 0 | 1 | 0 | 0 | 1 | 0 | No |\n",
       "\n"
      ],
      "text/plain": [
       "  Default.No Default.Si duration amount installment age history.buena\n",
       "1 1          0           6       1169   4           67  0            \n",
       "2 0          1          48       5951   2           22  0            \n",
       "3 1          0          12       2096   2           49  0            \n",
       "4 1          0          42       7882   2           45  0            \n",
       "5 0          1          24       4870   3           53  0            \n",
       "6 1          0          36       9055   2           35  0            \n",
       "  history.mala history.terrible purpose.auto_nuevo purpose.auto_usado\n",
       "1 0            1                0                  0                 \n",
       "2 1            0                0                  0                 \n",
       "3 0            1                0                  0                 \n",
       "4 1            0                0                  0                 \n",
       "5 1            0                1                  0                 \n",
       "6 1            0                0                  0                 \n",
       "  purpose.bienes purpose.educacion purpose.negocios foreign.extranjero\n",
       "1 1              0                 0                1                 \n",
       "2 1              0                 0                1                 \n",
       "3 0              1                 0                1                 \n",
       "4 1              0                 0                1                 \n",
       "5 0              0                 0                1                 \n",
       "6 0              1                 0                1                 \n",
       "  foreign.aleman rent.NA rent.FALSE rent.TRUE Default\n",
       "1 0              0       1          0         No     \n",
       "2 0              0       1          0         Si     \n",
       "3 0              0       1          0         No     \n",
       "4 0              0       1          0         No     \n",
       "5 0              0       1          0         Si     \n",
       "6 0              0       1          0         No     "
      ]
     },
     "metadata": {},
     "output_type": "display_data"
    }
   ],
   "source": [
    "credit <- data.frame(predict(dmy, newdata = credit))\n",
    "credit<- credit  %>% mutate(Default=factor(Default.Si,levels=c(0,1),labels=c(\"No\",\"Si\")))\n",
    "head(credit)"
   ]
  },
  {
   "cell_type": "code",
   "execution_count": 5,
   "id": "6d51f2a2",
   "metadata": {},
   "outputs": [
    {
     "data": {
      "text/html": [
       "700"
      ],
      "text/latex": [
       "700"
      ],
      "text/markdown": [
       "700"
      ],
      "text/plain": [
       "[1] 700"
      ]
     },
     "metadata": {},
     "output_type": "display_data"
    },
    {
     "data": {
      "text/html": [
       "<style>\n",
       ".list-inline {list-style: none; margin:0; padding: 0}\n",
       ".list-inline>li {display: inline-block}\n",
       ".list-inline>li:not(:last-child)::after {content: \"\\00b7\"; padding: 0 .5ex}\n",
       "</style>\n",
       "<ol class=list-inline><li>1</li><li>2</li><li>3</li><li>4</li><li>5</li><li>8</li><li>11</li><li>12</li><li>13</li><li>14</li><li>15</li><li>17</li><li>18</li><li>19</li><li>20</li><li>21</li><li>22</li><li>23</li><li>25</li><li>26</li></ol>\n"
      ],
      "text/latex": [
       "\\begin{enumerate*}\n",
       "\\item 1\n",
       "\\item 2\n",
       "\\item 3\n",
       "\\item 4\n",
       "\\item 5\n",
       "\\item 8\n",
       "\\item 11\n",
       "\\item 12\n",
       "\\item 13\n",
       "\\item 14\n",
       "\\item 15\n",
       "\\item 17\n",
       "\\item 18\n",
       "\\item 19\n",
       "\\item 20\n",
       "\\item 21\n",
       "\\item 22\n",
       "\\item 23\n",
       "\\item 25\n",
       "\\item 26\n",
       "\\end{enumerate*}\n"
      ],
      "text/markdown": [
       "1. 1\n",
       "2. 2\n",
       "3. 3\n",
       "4. 4\n",
       "5. 5\n",
       "6. 8\n",
       "7. 11\n",
       "8. 12\n",
       "9. 13\n",
       "10. 14\n",
       "11. 15\n",
       "12. 17\n",
       "13. 18\n",
       "14. 19\n",
       "15. 20\n",
       "16. 21\n",
       "17. 22\n",
       "18. 23\n",
       "19. 25\n",
       "20. 26\n",
       "\n",
       "\n"
      ],
      "text/plain": [
       " [1]  1  2  3  4  5  8 11 12 13 14 15 17 18 19 20 21 22 23 25 26"
      ]
     },
     "metadata": {},
     "output_type": "display_data"
    }
   ],
   "source": [
    "## First, split the training set \n",
    "set.seed(156)\n",
    "split1 <- createDataPartition(credit$Default, p = .7)[[1]]\n",
    "length(split1)\n",
    "head(split1, n=20)\n"
   ]
  },
  {
   "cell_type": "code",
   "execution_count": 6,
   "id": "5fc5933a",
   "metadata": {},
   "outputs": [],
   "source": [
    "other     <- credit[-split1,]\n",
    "training  <- credit[ split1,]"
   ]
  },
  {
   "cell_type": "code",
   "execution_count": 7,
   "id": "872d52b4",
   "metadata": {},
   "outputs": [],
   "source": [
    "set.seed(934)\n",
    "split2 <- createDataPartition(other$Default, p = 1/3)[[1]]\n",
    "evaluation  <- other[ split2,]\n",
    "testing     <- other[-split2,]"
   ]
  },
  {
   "cell_type": "code",
   "execution_count": 8,
   "id": "9901f83d",
   "metadata": {},
   "outputs": [
    {
     "data": {
      "text/html": [
       "<style>\n",
       ".list-inline {list-style: none; margin:0; padding: 0}\n",
       ".list-inline>li {display: inline-block}\n",
       ".list-inline>li:not(:last-child)::after {content: \"\\00b7\"; padding: 0 .5ex}\n",
       "</style>\n",
       "<ol class=list-inline><li>700</li><li>20</li></ol>\n"
      ],
      "text/latex": [
       "\\begin{enumerate*}\n",
       "\\item 700\n",
       "\\item 20\n",
       "\\end{enumerate*}\n"
      ],
      "text/markdown": [
       "1. 700\n",
       "2. 20\n",
       "\n",
       "\n"
      ],
      "text/plain": [
       "[1] 700  20"
      ]
     },
     "metadata": {},
     "output_type": "display_data"
    },
    {
     "data": {
      "text/html": [
       "<style>\n",
       ".list-inline {list-style: none; margin:0; padding: 0}\n",
       ".list-inline>li {display: inline-block}\n",
       ".list-inline>li:not(:last-child)::after {content: \"\\00b7\"; padding: 0 .5ex}\n",
       "</style>\n",
       "<ol class=list-inline><li>200</li><li>20</li></ol>\n"
      ],
      "text/latex": [
       "\\begin{enumerate*}\n",
       "\\item 200\n",
       "\\item 20\n",
       "\\end{enumerate*}\n"
      ],
      "text/markdown": [
       "1. 200\n",
       "2. 20\n",
       "\n",
       "\n"
      ],
      "text/plain": [
       "[1] 200  20"
      ]
     },
     "metadata": {},
     "output_type": "display_data"
    },
    {
     "data": {
      "text/html": [
       "<style>\n",
       ".list-inline {list-style: none; margin:0; padding: 0}\n",
       ".list-inline>li {display: inline-block}\n",
       ".list-inline>li:not(:last-child)::after {content: \"\\00b7\"; padding: 0 .5ex}\n",
       "</style>\n",
       "<ol class=list-inline><li>100</li><li>20</li></ol>\n"
      ],
      "text/latex": [
       "\\begin{enumerate*}\n",
       "\\item 100\n",
       "\\item 20\n",
       "\\end{enumerate*}\n"
      ],
      "text/markdown": [
       "1. 100\n",
       "2. 20\n",
       "\n",
       "\n"
      ],
      "text/plain": [
       "[1] 100  20"
      ]
     },
     "metadata": {},
     "output_type": "display_data"
    }
   ],
   "source": [
    "dim(training)\n",
    "dim(testing)\n",
    "dim(evaluation)"
   ]
  },
  {
   "cell_type": "code",
   "execution_count": 9,
   "id": "ad0f9224",
   "metadata": {},
   "outputs": [],
   "source": [
    "#Logit"
   ]
  },
  {
   "cell_type": "code",
   "execution_count": 10,
   "id": "0eff08f1",
   "metadata": {},
   "outputs": [
    {
     "data": {
      "text/plain": [
       "Generalized Linear Model \n",
       "\n",
       "700 samples\n",
       " 12 predictor\n",
       "  2 classes: 'No', 'Si' \n",
       "\n",
       "No pre-processing\n",
       "Resampling: Cross-Validated (5 fold) \n",
       "Summary of sample sizes: 560, 560, 560, 560, 560 \n",
       "Resampling results:\n",
       "\n",
       "  ROC        Sens       Spec       Accuracy   Kappa    \n",
       "  0.7308066  0.9102041  0.3047619  0.7285714  0.2456281\n"
      ]
     },
     "metadata": {},
     "output_type": "display_data"
    }
   ],
   "source": [
    "fiveStats <- function(...) c(twoClassSummary(...), defaultSummary(...))\n",
    "ctrl<- trainControl(method = \"cv\",\n",
    "                     number = 5,\n",
    "                     summaryFunction = fiveStats,\n",
    "                     classProbs = TRUE,\n",
    "                     verbose=FALSE,\n",
    "                     savePredictions = T)\n",
    "#logit\n",
    "set.seed(1410)\n",
    "mylogit_caret <- train(Default~duration+amount+installment+age+\n",
    "                       history.buena+history.mala+\n",
    "                       purpose.auto_nuevo+purpose.auto_usado+purpose.bienes+purpose.educacion+\n",
    "                       foreign.extranjero+\n",
    "                       +rent.TRUE, \n",
    "                       data = training, \n",
    "                       method = \"glm\",\n",
    "                       trControl = ctrl,\n",
    "                       family = \"binomial\", \n",
    "                       metric = 'ROC')\n",
    "\n",
    "\n",
    "\n",
    "\n",
    "mylogit_caret"
   ]
  },
  {
   "cell_type": "markdown",
   "id": "b4afd5d4",
   "metadata": {},
   "source": [
    "## Model Tunning: Lasso"
   ]
  },
  {
   "cell_type": "markdown",
   "id": "66668681",
   "metadata": {},
   "source": [
    "### Accuracy"
   ]
  },
  {
   "cell_type": "code",
   "execution_count": 11,
   "id": "78b1d7d6",
   "metadata": {},
   "outputs": [
    {
     "data": {
      "text/plain": [
       "glmnet \n",
       "\n",
       "700 samples\n",
       " 12 predictor\n",
       "  2 classes: 'No', 'Si' \n",
       "\n",
       "Pre-processing: centered (12), scaled (12) \n",
       "Resampling: Cross-Validated (5 fold) \n",
       "Summary of sample sizes: 560, 560, 560, 560, 560 \n",
       "Resampling results across tuning parameters:\n",
       "\n",
       "  lambda        ROC        Sens       Spec        Accuracy   Kappa     \n",
       "  0.0001000000  0.7318756  0.9142857  0.28571429  0.7257143  0.23176719\n",
       "  0.0002789687  0.7318756  0.9142857  0.28571429  0.7257143  0.23176719\n",
       "  0.0007782356  0.7318756  0.9142857  0.28571429  0.7257143  0.23176719\n",
       "  0.0021710342  0.7318756  0.9142857  0.28571429  0.7257143  0.23176719\n",
       "  0.0060565070  0.7318756  0.9142857  0.28571429  0.7257143  0.23176719\n",
       "  0.0168957618  0.7327017  0.9142857  0.27619048  0.7228571  0.22125732\n",
       "  0.0471338954  0.7335763  0.9326531  0.26190476  0.7314286  0.23129637\n",
       "  0.1314888384  0.7347425  0.9571429  0.14285714  0.7128571  0.12505390\n",
       "  0.3668127682  0.7336249  0.9918367  0.02380952  0.7014286  0.02124838\n",
       "  1.0232929923  0.7298834  1.0000000  0.00000000  0.7000000  0.00000000\n",
       "\n",
       "Tuning parameter 'alpha' was held constant at a value of 0\n",
       "Accuracy was used to select the optimal model using the largest value.\n",
       "The final values used for the model were alpha = 0 and lambda = 0.0471339."
      ]
     },
     "metadata": {},
     "output_type": "display_data"
    }
   ],
   "source": [
    "#Lasso\n",
    "lambda_grid <- 10^seq(-4, 0.01, length = 10) #en la practica se suele usar una grilla de 200 o 300\n",
    "\n",
    "\n",
    "set.seed(1410)\n",
    "mylogit_lasso_acc <- train(Default~duration+amount+installment+age+\n",
    "                       history.buena+history.mala+\n",
    "                       purpose.auto_nuevo+purpose.auto_usado+purpose.bienes+purpose.educacion+\n",
    "                       foreign.extranjero+\n",
    "                       +rent.TRUE,\n",
    "  data = training, \n",
    "  method = \"glmnet\",\n",
    "  trControl = ctrl,\n",
    "  family = \"binomial\", \n",
    "  metric = \"Accuracy\",\n",
    "  tuneGrid = expand.grid(alpha = 0,lambda=lambda_grid), \n",
    "  preProcess = c(\"center\", \"scale\")\n",
    ")\n",
    "mylogit_lasso_acc"
   ]
  },
  {
   "cell_type": "markdown",
   "id": "7da82752",
   "metadata": {},
   "source": [
    "### ROC"
   ]
  },
  {
   "cell_type": "code",
   "execution_count": 12,
   "id": "b1d74801",
   "metadata": {},
   "outputs": [
    {
     "data": {
      "text/plain": [
       "glmnet \n",
       "\n",
       "700 samples\n",
       " 12 predictor\n",
       "  2 classes: 'No', 'Si' \n",
       "\n",
       "Pre-processing: centered (12), scaled (12) \n",
       "Resampling: Cross-Validated (5 fold) \n",
       "Summary of sample sizes: 560, 560, 560, 560, 560 \n",
       "Resampling results across tuning parameters:\n",
       "\n",
       "  lambda        ROC        Sens       Spec        Accuracy   Kappa     \n",
       "  0.0001000000  0.7318756  0.9142857  0.28571429  0.7257143  0.23176719\n",
       "  0.0002789687  0.7318756  0.9142857  0.28571429  0.7257143  0.23176719\n",
       "  0.0007782356  0.7318756  0.9142857  0.28571429  0.7257143  0.23176719\n",
       "  0.0021710342  0.7318756  0.9142857  0.28571429  0.7257143  0.23176719\n",
       "  0.0060565070  0.7318756  0.9142857  0.28571429  0.7257143  0.23176719\n",
       "  0.0168957618  0.7327017  0.9142857  0.27619048  0.7228571  0.22125732\n",
       "  0.0471338954  0.7335763  0.9326531  0.26190476  0.7314286  0.23129637\n",
       "  0.1314888384  0.7347425  0.9571429  0.14285714  0.7128571  0.12505390\n",
       "  0.3668127682  0.7336249  0.9918367  0.02380952  0.7014286  0.02124838\n",
       "  1.0232929923  0.7298834  1.0000000  0.00000000  0.7000000  0.00000000\n",
       "\n",
       "Tuning parameter 'alpha' was held constant at a value of 0\n",
       "ROC was used to select the optimal model using the largest value.\n",
       "The final values used for the model were alpha = 0 and lambda = 0.1314888."
      ]
     },
     "metadata": {},
     "output_type": "display_data"
    }
   ],
   "source": [
    "set.seed(1410)\n",
    "mylogit_lasso_roc <- train(\n",
    " Default~duration+amount+installment+age+\n",
    "                       history.buena+history.mala+\n",
    "                       purpose.auto_nuevo+purpose.auto_usado+purpose.bienes+purpose.educacion+\n",
    "                       foreign.extranjero+\n",
    "                       +rent.TRUE, \n",
    "  data = training, \n",
    "  method = \"glmnet\",\n",
    "  trControl = ctrl,\n",
    "  family = \"binomial\", \n",
    "  metric = \"ROC\",\n",
    "  tuneGrid = expand.grid(alpha = 0,lambda=lambda_grid), \n",
    "  preProcess = c(\"center\", \"scale\")\n",
    ")\n",
    "mylogit_lasso_roc"
   ]
  },
  {
   "cell_type": "markdown",
   "id": "58c4fc17",
   "metadata": {},
   "source": [
    "## Alternative Cutoffs"
   ]
  },
  {
   "cell_type": "code",
   "execution_count": 13,
   "id": "e91d704f",
   "metadata": {},
   "outputs": [],
   "source": [
    "\n",
    "evalResults <- data.frame(Default = evaluation$Default)\n",
    "\n",
    "evalResults$Roc <- predict(mylogit_lasso_roc,\n",
    "                              newdata = evaluation,\n",
    "                              type = \"prob\")[,1]\n"
   ]
  },
  {
   "cell_type": "code",
   "execution_count": 14,
   "id": "6dfe81bd",
   "metadata": {},
   "outputs": [
    {
     "name": "stderr",
     "output_type": "stream",
     "text": [
      "Setting direction: controls < cases\n",
      "\n"
     ]
    },
    {
     "data": {
      "text/plain": [
       "\n",
       "Call:\n",
       "roc.default(response = evalResults$Default, predictor = evalResults$Roc,     levels = rev(levels(evalResults$Default)))\n",
       "\n",
       "Data: evalResults$Roc in 30 controls (evalResults$Default Si) < 70 cases (evalResults$Default No).\n",
       "Area under the curve: 0.7871"
      ]
     },
     "metadata": {},
     "output_type": "display_data"
    }
   ],
   "source": [
    "p_load(\"pROC\")\n",
    "rfROC <- roc(evalResults$Default, evalResults$Roc, levels = rev(levels(evalResults$Default)))\n",
    "rfROC"
   ]
  },
  {
   "cell_type": "code",
   "execution_count": 15,
   "id": "f0fd5380",
   "metadata": {},
   "outputs": [
    {
     "data": {
      "text/html": [
       "<table class=\"dataframe\">\n",
       "<caption>A data.frame: 1 × 3</caption>\n",
       "<thead>\n",
       "\t<tr><th scope=col>threshold</th><th scope=col>specificity</th><th scope=col>sensitivity</th></tr>\n",
       "\t<tr><th scope=col>&lt;dbl&gt;</th><th scope=col>&lt;dbl&gt;</th><th scope=col>&lt;dbl&gt;</th></tr>\n",
       "</thead>\n",
       "<tbody>\n",
       "\t<tr><td>0.662454</td><td>0.7</td><td>0.8142857</td></tr>\n",
       "</tbody>\n",
       "</table>\n"
      ],
      "text/latex": [
       "A data.frame: 1 × 3\n",
       "\\begin{tabular}{lll}\n",
       " threshold & specificity & sensitivity\\\\\n",
       " <dbl> & <dbl> & <dbl>\\\\\n",
       "\\hline\n",
       "\t 0.662454 & 0.7 & 0.8142857\\\\\n",
       "\\end{tabular}\n"
      ],
      "text/markdown": [
       "\n",
       "A data.frame: 1 × 3\n",
       "\n",
       "| threshold &lt;dbl&gt; | specificity &lt;dbl&gt; | sensitivity &lt;dbl&gt; |\n",
       "|---|---|---|\n",
       "| 0.662454 | 0.7 | 0.8142857 |\n",
       "\n"
      ],
      "text/plain": [
       "  threshold specificity sensitivity\n",
       "1 0.662454  0.7         0.8142857  "
      ]
     },
     "metadata": {},
     "output_type": "display_data"
    }
   ],
   "source": [
    "rfThresh <- coords(rfROC, x = \"best\", best.method = \"closest.topleft\")\n",
    "rfThresh"
   ]
  },
  {
   "cell_type": "code",
   "execution_count": 16,
   "id": "3fb73e85",
   "metadata": {},
   "outputs": [],
   "source": [
    "evalResults<-evalResults %>% mutate(hat_def_05=ifelse(evalResults$Roc>0.5,\"Si\",\"No\"),\n",
    "                                    hat_def_rfThresh=ifelse(evalResults$Roc>rfThresh$threshold,\"Si\",\"No\"))"
   ]
  },
  {
   "cell_type": "code",
   "execution_count": 17,
   "id": "bc41652f",
   "metadata": {},
   "outputs": [
    {
     "data": {
      "text/plain": [
       "       hat_def_05\n",
       "Default No Si\n",
       "     No  1 69\n",
       "     Si  5 25"
      ]
     },
     "metadata": {},
     "output_type": "display_data"
    }
   ],
   "source": [
    "with(evalResults,table(Default,hat_def_05))\n"
   ]
  },
  {
   "cell_type": "code",
   "execution_count": 18,
   "id": "302a8b80",
   "metadata": {},
   "outputs": [
    {
     "data": {
      "text/plain": [
       "       hat_def_rfThresh\n",
       "Default No Si\n",
       "     No 13 57\n",
       "     Si 21  9"
      ]
     },
     "metadata": {},
     "output_type": "display_data"
    }
   ],
   "source": [
    "with(evalResults,table(Default,hat_def_rfThresh))"
   ]
  },
  {
   "cell_type": "markdown",
   "id": "dff6ef1c",
   "metadata": {},
   "source": [
    "## Remuestreo"
   ]
  },
  {
   "cell_type": "markdown",
   "id": "6b266716",
   "metadata": {},
   "source": [
    "<div >\n",
    "<img src = \"sampling_methods.png\" />\n",
    "</div>"
   ]
  },
  {
   "cell_type": "markdown",
   "id": "1d34b713",
   "metadata": {},
   "source": [
    "### Up Sampling"
   ]
  },
  {
   "cell_type": "code",
   "execution_count": 19,
   "id": "4b703ddc",
   "metadata": {},
   "outputs": [
    {
     "data": {
      "text/html": [
       "<style>\n",
       ".list-inline {list-style: none; margin:0; padding: 0}\n",
       ".list-inline>li {display: inline-block}\n",
       ".list-inline>li:not(:last-child)::after {content: \"\\00b7\"; padding: 0 .5ex}\n",
       "</style>\n",
       "<ol class=list-inline><li>700</li><li>20</li></ol>\n"
      ],
      "text/latex": [
       "\\begin{enumerate*}\n",
       "\\item 700\n",
       "\\item 20\n",
       "\\end{enumerate*}\n"
      ],
      "text/markdown": [
       "1. 700\n",
       "2. 20\n",
       "\n",
       "\n"
      ],
      "text/plain": [
       "[1] 700  20"
      ]
     },
     "metadata": {},
     "output_type": "display_data"
    },
    {
     "data": {
      "text/html": [
       "<style>\n",
       ".list-inline {list-style: none; margin:0; padding: 0}\n",
       ".list-inline>li {display: inline-block}\n",
       ".list-inline>li:not(:last-child)::after {content: \"\\00b7\"; padding: 0 .5ex}\n",
       "</style>\n",
       "<ol class=list-inline><li>980</li><li>21</li></ol>\n"
      ],
      "text/latex": [
       "\\begin{enumerate*}\n",
       "\\item 980\n",
       "\\item 21\n",
       "\\end{enumerate*}\n"
      ],
      "text/markdown": [
       "1. 980\n",
       "2. 21\n",
       "\n",
       "\n"
      ],
      "text/plain": [
       "[1] 980  21"
      ]
     },
     "metadata": {},
     "output_type": "display_data"
    },
    {
     "data": {
      "text/plain": [
       "\n",
       " No  Si \n",
       "490 490 "
      ]
     },
     "metadata": {},
     "output_type": "display_data"
    }
   ],
   "source": [
    "set.seed(1103)\n",
    "upSampledTrain <- upSample(x = training,\n",
    "                           y = training$Default,\n",
    "                           ## keep the class variable name the same:\n",
    "                           yname = \"Default\")\n",
    "dim(training)\n",
    "\n",
    "dim(upSampledTrain)\n",
    "\n",
    "table(upSampledTrain$Default)\n"
   ]
  },
  {
   "cell_type": "code",
   "execution_count": 20,
   "id": "d03d05b2",
   "metadata": {},
   "outputs": [
    {
     "data": {
      "text/plain": [
       "glmnet \n",
       "\n",
       "980 samples\n",
       " 12 predictor\n",
       "  2 classes: 'No', 'Si' \n",
       "\n",
       "Pre-processing: centered (12), scaled (12) \n",
       "Resampling: Cross-Validated (5 fold) \n",
       "Summary of sample sizes: 784, 784, 784, 784, 784 \n",
       "Resampling results across tuning parameters:\n",
       "\n",
       "  lambda        ROC        Sens       Spec       Accuracy   Kappa    \n",
       "  0.0001000000  0.7475427  0.7122449  0.6530612  0.6826531  0.3653061\n",
       "  0.0002789687  0.7475427  0.7122449  0.6530612  0.6826531  0.3653061\n",
       "  0.0007782356  0.7475427  0.7122449  0.6530612  0.6826531  0.3653061\n",
       "  0.0021710342  0.7475427  0.7122449  0.6530612  0.6826531  0.3653061\n",
       "  0.0060565070  0.7475427  0.7122449  0.6530612  0.6826531  0.3653061\n",
       "  0.0168957618  0.7478759  0.7102041  0.6551020  0.6826531  0.3653061\n",
       "  0.0471338954  0.7480633  0.7081633  0.6489796  0.6785714  0.3571429\n",
       "  0.1314888384  0.7482716  0.7142857  0.6469388  0.6806122  0.3612245\n",
       "  0.3668127682  0.7454810  0.7061224  0.6367347  0.6714286  0.3428571\n",
       "  1.0232929923  0.7438984  0.7163265  0.6387755  0.6775510  0.3551020\n",
       "\n",
       "Tuning parameter 'alpha' was held constant at a value of 0\n",
       "ROC was used to select the optimal model using the largest value.\n",
       "The final values used for the model were alpha = 0 and lambda = 0.1314888."
      ]
     },
     "metadata": {},
     "output_type": "display_data"
    }
   ],
   "source": [
    "\n",
    "set.seed(1410)\n",
    "mylogit_lasso_upsample <- train(Default~duration+amount+installment+age+\n",
    "                       history.buena+history.mala+\n",
    "                       purpose.auto_nuevo+purpose.auto_usado+purpose.bienes+purpose.educacion+\n",
    "                       foreign.extranjero+\n",
    "                       +rent.TRUE, \n",
    "  data = upSampledTrain, \n",
    "  method = \"glmnet\",\n",
    "  trControl = ctrl,\n",
    "  family = \"binomial\", \n",
    "  metric = \"ROC\",\n",
    "  tuneGrid = expand.grid(alpha = 0,lambda=lambda_grid), \n",
    "  preProcess = c(\"center\", \"scale\")\n",
    ")\n",
    "mylogit_lasso_upsample\n"
   ]
  },
  {
   "cell_type": "markdown",
   "id": "94589fd2",
   "metadata": {},
   "source": [
    "### Down Sampling"
   ]
  },
  {
   "cell_type": "code",
   "execution_count": 21,
   "id": "1f191ac0",
   "metadata": {},
   "outputs": [
    {
     "data": {
      "text/html": [
       "<style>\n",
       ".list-inline {list-style: none; margin:0; padding: 0}\n",
       ".list-inline>li {display: inline-block}\n",
       ".list-inline>li:not(:last-child)::after {content: \"\\00b7\"; padding: 0 .5ex}\n",
       "</style>\n",
       "<ol class=list-inline><li>700</li><li>20</li></ol>\n"
      ],
      "text/latex": [
       "\\begin{enumerate*}\n",
       "\\item 700\n",
       "\\item 20\n",
       "\\end{enumerate*}\n"
      ],
      "text/markdown": [
       "1. 700\n",
       "2. 20\n",
       "\n",
       "\n"
      ],
      "text/plain": [
       "[1] 700  20"
      ]
     },
     "metadata": {},
     "output_type": "display_data"
    },
    {
     "data": {
      "text/html": [
       "<style>\n",
       ".list-inline {list-style: none; margin:0; padding: 0}\n",
       ".list-inline>li {display: inline-block}\n",
       ".list-inline>li:not(:last-child)::after {content: \"\\00b7\"; padding: 0 .5ex}\n",
       "</style>\n",
       "<ol class=list-inline><li>420</li><li>21</li></ol>\n"
      ],
      "text/latex": [
       "\\begin{enumerate*}\n",
       "\\item 420\n",
       "\\item 21\n",
       "\\end{enumerate*}\n"
      ],
      "text/markdown": [
       "1. 420\n",
       "2. 21\n",
       "\n",
       "\n"
      ],
      "text/plain": [
       "[1] 420  21"
      ]
     },
     "metadata": {},
     "output_type": "display_data"
    },
    {
     "data": {
      "text/plain": [
       "\n",
       " No  Si \n",
       "210 210 "
      ]
     },
     "metadata": {},
     "output_type": "display_data"
    }
   ],
   "source": [
    "\n",
    "set.seed(1103)\n",
    "downSampledTrain <- downSample(x = training,\n",
    "                           y = training$Default,\n",
    "                           ## keep the class variable name the same:\n",
    "                           yname = \"Default\")\n",
    "dim(training)\n",
    "\n",
    "dim(downSampledTrain)\n",
    "\n",
    "table(downSampledTrain$Default)\n",
    "\n",
    "\n",
    "\n"
   ]
  },
  {
   "cell_type": "code",
   "execution_count": 22,
   "id": "04d84f1e",
   "metadata": {},
   "outputs": [
    {
     "data": {
      "text/plain": [
       "glmnet \n",
       "\n",
       "420 samples\n",
       " 12 predictor\n",
       "  2 classes: 'No', 'Si' \n",
       "\n",
       "Pre-processing: centered (12), scaled (12) \n",
       "Resampling: Cross-Validated (5 fold) \n",
       "Summary of sample sizes: 336, 336, 336, 336, 336 \n",
       "Resampling results across tuning parameters:\n",
       "\n",
       "  lambda        ROC        Sens       Spec       Accuracy   Kappa    \n",
       "  0.0001000000  0.7380952  0.6952381  0.6476190  0.6714286  0.3428571\n",
       "  0.0002789687  0.7380952  0.6952381  0.6476190  0.6714286  0.3428571\n",
       "  0.0007782356  0.7380952  0.6952381  0.6476190  0.6714286  0.3428571\n",
       "  0.0021710342  0.7380952  0.6952381  0.6476190  0.6714286  0.3428571\n",
       "  0.0060565070  0.7380952  0.6952381  0.6476190  0.6714286  0.3428571\n",
       "  0.0168957618  0.7390023  0.7000000  0.6476190  0.6738095  0.3476190\n",
       "  0.0471338954  0.7400227  0.7000000  0.6476190  0.6738095  0.3476190\n",
       "  0.1314888384  0.7394558  0.7000000  0.6476190  0.6738095  0.3476190\n",
       "  0.3668127682  0.7404762  0.7095238  0.6428571  0.6761905  0.3523810\n",
       "  1.0232929923  0.7366213  0.7142857  0.6428571  0.6785714  0.3571429\n",
       "\n",
       "Tuning parameter 'alpha' was held constant at a value of 0\n",
       "ROC was used to select the optimal model using the largest value.\n",
       "The final values used for the model were alpha = 0 and lambda = 0.3668128."
      ]
     },
     "metadata": {},
     "output_type": "display_data"
    }
   ],
   "source": [
    "set.seed(1410)\n",
    "mylogit_lasso_downsample <- train(Default~duration+amount+installment+age+\n",
    "                       history.buena+history.mala+\n",
    "                       purpose.auto_nuevo+purpose.auto_usado+purpose.bienes+purpose.educacion+\n",
    "                       foreign.extranjero+\n",
    "                       rent.TRUE, \n",
    "  data = downSampledTrain, \n",
    "  method = \"glmnet\",\n",
    "  trControl = ctrl,\n",
    "  family = \"binomial\", \n",
    "  metric = \"ROC\",\n",
    "  tuneGrid = expand.grid(alpha = 0,lambda=lambda_grid), \n",
    "  preProcess = c(\"center\", \"scale\")\n",
    ")\n",
    "mylogit_lasso_downsample"
   ]
  },
  {
   "cell_type": "markdown",
   "id": "2424ddc4",
   "metadata": {},
   "source": [
    "### SMOTE"
   ]
  },
  {
   "cell_type": "markdown",
   "id": "3e9641ca",
   "metadata": {},
   "source": [
    "<div >\n",
    "<img src = \"smote.png\" />\n",
    "</div>"
   ]
  },
  {
   "cell_type": "code",
   "execution_count": 23,
   "id": "dc01c7d3",
   "metadata": {},
   "outputs": [
    {
     "data": {
      "text/html": [
       "<table class=\"dataframe\">\n",
       "<caption>A data.frame: 6 × 12</caption>\n",
       "<thead>\n",
       "\t<tr><th></th><th scope=col>duration</th><th scope=col>amount</th><th scope=col>installment</th><th scope=col>age</th><th scope=col>history.buena</th><th scope=col>history.mala</th><th scope=col>purpose.auto_nuevo</th><th scope=col>purpose.auto_usado</th><th scope=col>purpose.bienes</th><th scope=col>purpose.educacion</th><th scope=col>foreign.extranjero</th><th scope=col>rent.TRUE</th></tr>\n",
       "\t<tr><th></th><th scope=col>&lt;dbl&gt;</th><th scope=col>&lt;dbl&gt;</th><th scope=col>&lt;dbl&gt;</th><th scope=col>&lt;dbl&gt;</th><th scope=col>&lt;dbl&gt;</th><th scope=col>&lt;dbl&gt;</th><th scope=col>&lt;dbl&gt;</th><th scope=col>&lt;dbl&gt;</th><th scope=col>&lt;dbl&gt;</th><th scope=col>&lt;dbl&gt;</th><th scope=col>&lt;dbl&gt;</th><th scope=col>&lt;dbl&gt;</th></tr>\n",
       "</thead>\n",
       "<tbody>\n",
       "\t<tr><th scope=row>1</th><td> 6</td><td>1169</td><td>4</td><td>67</td><td>0</td><td>0</td><td>0</td><td>0</td><td>1</td><td>0</td><td>1</td><td>0</td></tr>\n",
       "\t<tr><th scope=row>2</th><td>48</td><td>5951</td><td>2</td><td>22</td><td>0</td><td>1</td><td>0</td><td>0</td><td>1</td><td>0</td><td>1</td><td>0</td></tr>\n",
       "\t<tr><th scope=row>3</th><td>12</td><td>2096</td><td>2</td><td>49</td><td>0</td><td>0</td><td>0</td><td>0</td><td>0</td><td>1</td><td>1</td><td>0</td></tr>\n",
       "\t<tr><th scope=row>4</th><td>42</td><td>7882</td><td>2</td><td>45</td><td>0</td><td>1</td><td>0</td><td>0</td><td>1</td><td>0</td><td>1</td><td>0</td></tr>\n",
       "\t<tr><th scope=row>5</th><td>24</td><td>4870</td><td>3</td><td>53</td><td>0</td><td>1</td><td>1</td><td>0</td><td>0</td><td>0</td><td>1</td><td>0</td></tr>\n",
       "\t<tr><th scope=row>8</th><td>36</td><td>6948</td><td>2</td><td>35</td><td>0</td><td>1</td><td>0</td><td>1</td><td>0</td><td>0</td><td>1</td><td>1</td></tr>\n",
       "</tbody>\n",
       "</table>\n"
      ],
      "text/latex": [
       "A data.frame: 6 × 12\n",
       "\\begin{tabular}{r|llllllllllll}\n",
       "  & duration & amount & installment & age & history.buena & history.mala & purpose.auto\\_nuevo & purpose.auto\\_usado & purpose.bienes & purpose.educacion & foreign.extranjero & rent.TRUE\\\\\n",
       "  & <dbl> & <dbl> & <dbl> & <dbl> & <dbl> & <dbl> & <dbl> & <dbl> & <dbl> & <dbl> & <dbl> & <dbl>\\\\\n",
       "\\hline\n",
       "\t1 &  6 & 1169 & 4 & 67 & 0 & 0 & 0 & 0 & 1 & 0 & 1 & 0\\\\\n",
       "\t2 & 48 & 5951 & 2 & 22 & 0 & 1 & 0 & 0 & 1 & 0 & 1 & 0\\\\\n",
       "\t3 & 12 & 2096 & 2 & 49 & 0 & 0 & 0 & 0 & 0 & 1 & 1 & 0\\\\\n",
       "\t4 & 42 & 7882 & 2 & 45 & 0 & 1 & 0 & 0 & 1 & 0 & 1 & 0\\\\\n",
       "\t5 & 24 & 4870 & 3 & 53 & 0 & 1 & 1 & 0 & 0 & 0 & 1 & 0\\\\\n",
       "\t8 & 36 & 6948 & 2 & 35 & 0 & 1 & 0 & 1 & 0 & 0 & 1 & 1\\\\\n",
       "\\end{tabular}\n"
      ],
      "text/markdown": [
       "\n",
       "A data.frame: 6 × 12\n",
       "\n",
       "| <!--/--> | duration &lt;dbl&gt; | amount &lt;dbl&gt; | installment &lt;dbl&gt; | age &lt;dbl&gt; | history.buena &lt;dbl&gt; | history.mala &lt;dbl&gt; | purpose.auto_nuevo &lt;dbl&gt; | purpose.auto_usado &lt;dbl&gt; | purpose.bienes &lt;dbl&gt; | purpose.educacion &lt;dbl&gt; | foreign.extranjero &lt;dbl&gt; | rent.TRUE &lt;dbl&gt; |\n",
       "|---|---|---|---|---|---|---|---|---|---|---|---|---|\n",
       "| 1 |  6 | 1169 | 4 | 67 | 0 | 0 | 0 | 0 | 1 | 0 | 1 | 0 |\n",
       "| 2 | 48 | 5951 | 2 | 22 | 0 | 1 | 0 | 0 | 1 | 0 | 1 | 0 |\n",
       "| 3 | 12 | 2096 | 2 | 49 | 0 | 0 | 0 | 0 | 0 | 1 | 1 | 0 |\n",
       "| 4 | 42 | 7882 | 2 | 45 | 0 | 1 | 0 | 0 | 1 | 0 | 1 | 0 |\n",
       "| 5 | 24 | 4870 | 3 | 53 | 0 | 1 | 1 | 0 | 0 | 0 | 1 | 0 |\n",
       "| 8 | 36 | 6948 | 2 | 35 | 0 | 1 | 0 | 1 | 0 | 0 | 1 | 1 |\n",
       "\n"
      ],
      "text/plain": [
       "  duration amount installment age history.buena history.mala purpose.auto_nuevo\n",
       "1  6       1169   4           67  0             0            0                 \n",
       "2 48       5951   2           22  0             1            0                 \n",
       "3 12       2096   2           49  0             0            0                 \n",
       "4 42       7882   2           45  0             1            0                 \n",
       "5 24       4870   3           53  0             1            1                 \n",
       "8 36       6948   2           35  0             1            0                 \n",
       "  purpose.auto_usado purpose.bienes purpose.educacion foreign.extranjero\n",
       "1 0                  1              0                 1                 \n",
       "2 0                  1              0                 1                 \n",
       "3 0                  0              1                 1                 \n",
       "4 0                  1              0                 1                 \n",
       "5 0                  0              0                 1                 \n",
       "8 1                  0              0                 1                 \n",
       "  rent.TRUE\n",
       "1 0        \n",
       "2 0        \n",
       "3 0        \n",
       "4 0        \n",
       "5 0        \n",
       "8 1        "
      ]
     },
     "metadata": {},
     "output_type": "display_data"
    },
    {
     "data": {
      "text/plain": [
       "\n",
       " No  Si \n",
       "490 210 "
      ]
     },
     "metadata": {},
     "output_type": "display_data"
    },
    {
     "data": {
      "text/plain": [
       "\n",
       " No  Si \n",
       "490 420 "
      ]
     },
     "metadata": {},
     "output_type": "display_data"
    }
   ],
   "source": [
    "p_load(\"smotefamily\")\n",
    "predictors<-c(\"duration\",\"amount\",\"installment\",\"age\",\n",
    "                       \"history.buena\",\"history.mala\",\n",
    "                       \"purpose.auto_nuevo\",\"purpose.auto_usado\",\"purpose.bienes\",\"purpose.educacion\",\n",
    "                       \"foreign.extranjero\",\n",
    "                       \"rent.TRUE\")\n",
    "head( training[predictors])\n",
    "smote_output = SMOTE(X = training[predictors],\n",
    "                     target = training$Default)\n",
    "oversampled_data = smote_output$data\n",
    "table(training$Default)\n",
    "table(oversampled_data$class)"
   ]
  },
  {
   "cell_type": "code",
   "execution_count": 24,
   "id": "e8993fa7",
   "metadata": {},
   "outputs": [
    {
     "data": {
      "text/plain": [
       "glmnet \n",
       "\n",
       "910 samples\n",
       " 12 predictor\n",
       "  2 classes: 'No', 'Si' \n",
       "\n",
       "Pre-processing: centered (12), scaled (12) \n",
       "Resampling: Cross-Validated (5 fold) \n",
       "Summary of sample sizes: 728, 728, 728, 728, 728 \n",
       "Resampling results across tuning parameters:\n",
       "\n",
       "  lambda        ROC        Sens       Spec       Accuracy   Kappa    \n",
       "  0.0001000000  0.7575316  0.7591837  0.5857143  0.6791209  0.3481159\n",
       "  0.0002789687  0.7575316  0.7591837  0.5857143  0.6791209  0.3481159\n",
       "  0.0007782356  0.7575316  0.7591837  0.5857143  0.6791209  0.3481159\n",
       "  0.0021710342  0.7575316  0.7591837  0.5857143  0.6791209  0.3481159\n",
       "  0.0060565070  0.7575316  0.7591837  0.5857143  0.6791209  0.3481159\n",
       "  0.0168957618  0.7579932  0.7612245  0.5785714  0.6769231  0.3432096\n",
       "  0.0471338954  0.7580175  0.7632653  0.5666667  0.6725275  0.3335049\n",
       "  0.1314888384  0.7580175  0.7897959  0.5571429  0.6824176  0.3517090\n",
       "  0.3668127682  0.7569242  0.8408163  0.4976190  0.6824176  0.3460137\n",
       "  1.0232929923  0.7534742  0.9040816  0.3309524  0.6395604  0.2447001\n",
       "\n",
       "Tuning parameter 'alpha' was held constant at a value of 0\n",
       "ROC was used to select the optimal model using the largest value.\n",
       "The final values used for the model were alpha = 0 and lambda = 0.1314888."
      ]
     },
     "metadata": {},
     "output_type": "display_data"
    }
   ],
   "source": [
    "set.seed(1410)\n",
    "mylogit_lasso_smote<- train(class~duration+amount+installment+age+\n",
    "                       history.buena+history.mala+\n",
    "                       purpose.auto_nuevo+purpose.auto_usado+purpose.bienes+purpose.educacion+\n",
    "                       foreign.extranjero+\n",
    "                       rent.TRUE,\n",
    "  data = oversampled_data, \n",
    "  method = \"glmnet\",\n",
    "  trControl = ctrl,\n",
    "  family = \"binomial\", \n",
    "  metric = \"ROC\",\n",
    "  tuneGrid = expand.grid(alpha = 0,lambda=lambda_grid), \n",
    "  preProcess = c(\"center\", \"scale\")\n",
    ")\n",
    "mylogit_lasso_smote"
   ]
  },
  {
   "cell_type": "markdown",
   "id": "d2fba6cf",
   "metadata": {},
   "source": [
    "## Compación"
   ]
  },
  {
   "cell_type": "code",
   "execution_count": 25,
   "id": "63f7c30c",
   "metadata": {},
   "outputs": [],
   "source": [
    "testResults <- data.frame(Default = testing$Default)\n",
    "\n",
    "testResults$logit<- predict(mylogit_caret,\n",
    "                           newdata = testing,\n",
    "                           type = \"prob\")[,1]\n",
    "testResults$lasso<- predict(mylogit_lasso_roc,\n",
    "                           newdata = testing,\n",
    "                           type = \"prob\")[,1]\n",
    "\n",
    "testResults$lasso_thresh<- predict(mylogit_lasso_roc,\n",
    "                           newdata = testing,\n",
    "                           type = \"prob\")[,1]\n",
    "\n",
    "testResults$lasso_upsample<- predict(mylogit_lasso_upsample,\n",
    "                           newdata = testing,\n",
    "                           type = \"prob\")[,1]\n",
    "\n",
    "testResults$mylogit_lasso_downsample<- predict(mylogit_lasso_downsample,\n",
    "                           newdata = testing,\n",
    "                           type = \"prob\")[,1]\n",
    "\n",
    "testResults$mylogit_lasso_smote<- predict(mylogit_lasso_smote,\n",
    "                           newdata = testing,\n",
    "                           type = \"prob\")[,1]\n",
    "\n",
    "testResults<-testResults %>% \n",
    "              mutate(logit=ifelse(logit>0.5,\"Si\",\"No\"),\n",
    "                     lasso=ifelse(lasso>0.5,\"Si\",\"No\"),\n",
    "                     lasso_thresh=ifelse(lasso_thresh>rfThresh$threshold,\"Si\",\"No\"),\n",
    "                     lasso_upsample=ifelse(lasso_upsample>0.5,\"Si\",\"No\"),\n",
    "                     mylogit_lasso_downsample=ifelse(mylogit_lasso_downsample>0.5,\"Si\",\"No\"),\n",
    "                     mylogit_lasso_smote=ifelse(mylogit_lasso_smote>0.5,\"Si\",\"No\"),\n",
    "                     )"
   ]
  },
  {
   "cell_type": "code",
   "execution_count": 26,
   "id": "403907cf",
   "metadata": {},
   "outputs": [
    {
     "data": {
      "text/plain": [
       "       logit\n",
       "Default  No  Si\n",
       "     No  18 122\n",
       "     Si  17  43"
      ]
     },
     "metadata": {},
     "output_type": "display_data"
    }
   ],
   "source": [
    "with(testResults,table(Default,logit))"
   ]
  },
  {
   "cell_type": "code",
   "execution_count": 27,
   "id": "66e762a9",
   "metadata": {},
   "outputs": [
    {
     "data": {
      "text/plain": [
       "       lasso\n",
       "Default  No  Si\n",
       "     No   8 132\n",
       "     Si   9  51"
      ]
     },
     "metadata": {},
     "output_type": "display_data"
    }
   ],
   "source": [
    "with(testResults,table(Default,lasso))"
   ]
  },
  {
   "cell_type": "code",
   "execution_count": 28,
   "id": "067b613f",
   "metadata": {},
   "outputs": [
    {
     "data": {
      "text/plain": [
       "       lasso_thresh\n",
       "Default  No  Si\n",
       "     No  36 104\n",
       "     Si  29  31"
      ]
     },
     "metadata": {},
     "output_type": "display_data"
    }
   ],
   "source": [
    "with(testResults,table(Default,lasso_thresh))"
   ]
  },
  {
   "cell_type": "code",
   "execution_count": 29,
   "id": "3c7fe9a7",
   "metadata": {},
   "outputs": [
    {
     "data": {
      "text/plain": [
       "       lasso_upsample\n",
       "Default No Si\n",
       "     No 46 94\n",
       "     Si 38 22"
      ]
     },
     "metadata": {},
     "output_type": "display_data"
    }
   ],
   "source": [
    "with(testResults,table(Default,lasso_upsample))"
   ]
  },
  {
   "cell_type": "code",
   "execution_count": 30,
   "id": "3f92603f",
   "metadata": {},
   "outputs": [
    {
     "data": {
      "text/plain": [
       "       mylogit_lasso_downsample\n",
       "Default No Si\n",
       "     No 53 87\n",
       "     Si 36 24"
      ]
     },
     "metadata": {},
     "output_type": "display_data"
    }
   ],
   "source": [
    "with(testResults,table(Default,mylogit_lasso_downsample))"
   ]
  },
  {
   "cell_type": "code",
   "execution_count": 31,
   "id": "25d3d1db",
   "metadata": {},
   "outputs": [
    {
     "data": {
      "text/plain": [
       "       mylogit_lasso_smote\n",
       "Default  No  Si\n",
       "     No  34 106\n",
       "     Si  31  29"
      ]
     },
     "metadata": {},
     "output_type": "display_data"
    }
   ],
   "source": [
    "with(testResults,table(Default,mylogit_lasso_smote))"
   ]
  }
 ],
 "metadata": {
  "kernelspec": {
   "display_name": "R",
   "language": "R",
   "name": "ir"
  },
  "language_info": {
   "codemirror_mode": "r",
   "file_extension": ".r",
   "mimetype": "text/x-r-source",
   "name": "R",
   "pygments_lexer": "r",
   "version": "4.2.2"
  },
  "toc": {
   "base_numbering": 1,
   "nav_menu": {},
   "number_sections": true,
   "sideBar": true,
   "skip_h1_title": false,
   "title_cell": "Table of Contents",
   "title_sidebar": "Contents",
   "toc_cell": false,
   "toc_position": {},
   "toc_section_display": true,
   "toc_window_display": true
  }
 },
 "nbformat": 4,
 "nbformat_minor": 5
}

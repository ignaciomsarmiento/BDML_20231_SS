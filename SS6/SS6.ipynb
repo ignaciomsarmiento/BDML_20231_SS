{
 "cells": [
  {
   "cell_type": "markdown",
   "id": "c4ecc07c",
   "metadata": {},
   "source": [
    "<div >\n",
    "<img src = \"../banner.jpg\" />\n",
    "</div>"
   ]
  },
  {
   "cell_type": "markdown",
   "id": "2087dd41",
   "metadata": {},
   "source": [
    "# Spatial Data"
   ]
  },
  {
   "cell_type": "code",
   "execution_count": null,
   "id": "c99691e1",
   "metadata": {},
   "outputs": [],
   "source": [
    "require(\"pacman\")\n",
    "p_load(\"tidyverse\",\"sf\",\"modeldata\",\"geojsonio\")"
   ]
  },
  {
   "cell_type": "code",
   "execution_count": null,
   "id": "418426ae",
   "metadata": {},
   "outputs": [],
   "source": [
    "data(\"ames\", package = \"modeldata\")"
   ]
  },
  {
   "cell_type": "code",
   "execution_count": null,
   "id": "123c0d92",
   "metadata": {},
   "outputs": [],
   "source": [
    "dim(ames)"
   ]
  },
  {
   "cell_type": "code",
   "execution_count": null,
   "id": "f71c7b36",
   "metadata": {},
   "outputs": [],
   "source": [
    "class(ames)"
   ]
  },
  {
   "cell_type": "markdown",
   "id": "7e65b239",
   "metadata": {},
   "source": [
    "![](figs/mercator.gif)"
   ]
  },
  {
   "cell_type": "code",
   "execution_count": null,
   "id": "f2b66257",
   "metadata": {},
   "outputs": [],
   "source": [
    "ames_sf <- sf::st_as_sf(\n",
    "  ames,\n",
    "  # \"coords\" is in x/y order -- so longitude goes first!\n",
    "  coords = c(\"Longitude\", \"Latitude\"),\n",
    "  # Set our coordinate reference system to EPSG:4326,\n",
    "  # the standard WGS84 geodetic coordinate reference system\n",
    "  crs = 4326\n",
    ")"
   ]
  },
  {
   "cell_type": "code",
   "execution_count": null,
   "id": "c62cbb6e",
   "metadata": {},
   "outputs": [],
   "source": [
    "class(ames_sf)"
   ]
  },
  {
   "cell_type": "code",
   "execution_count": null,
   "id": "caf10a96",
   "metadata": {},
   "outputs": [],
   "source": [
    "head(ames_sf)"
   ]
  },
  {
   "cell_type": "code",
   "execution_count": null,
   "id": "caba834e",
   "metadata": {},
   "outputs": [],
   "source": [
    "ggplot() +\n",
    "    geom_sf(data=ames_sf)+\n",
    "    theme_bw()"
   ]
  },
  {
   "cell_type": "code",
   "execution_count": null,
   "id": "c81d507d",
   "metadata": {},
   "outputs": [],
   "source": [
    "p_load(\"leaflet\")"
   ]
  },
  {
   "cell_type": "code",
   "execution_count": null,
   "id": "94eb520d",
   "metadata": {},
   "outputs": [],
   "source": [
    "map1<-leaflet()  %>% \n",
    "        addTiles()  %>% \n",
    "        addCircleMarkers(data=ames_sf)"
   ]
  },
  {
   "cell_type": "code",
   "execution_count": null,
   "id": "a167f6ea",
   "metadata": {},
   "outputs": [],
   "source": [
    "#workaround to show in Jupyter Notebook (not needed in Rstudio)\n",
    "p_load(\"htmlwidgets\",\"IRdisplay\")\n",
    "\n",
    "saveWidget(map1, 'demo1.html', selfcontained = FALSE)\n",
    "display_html('<iframe src=\"demo1.html\" width=\"800\" height=\"800\"></iframe>')"
   ]
  },
  {
   "cell_type": "code",
   "execution_count": null,
   "id": "0f3711ba",
   "metadata": {},
   "outputs": [],
   "source": [
    "#Different Tiles\n",
    "map2<-leaflet()  %>% \n",
    "    addProviderTiles(providers$Stamen.Toner)  %>% \n",
    "    addCircles(data=ames_sf)"
   ]
  },
  {
   "cell_type": "code",
   "execution_count": null,
   "id": "4133ff15",
   "metadata": {},
   "outputs": [],
   "source": [
    "#workaround to show in Jupyter Notebook (not needed in Rstudio)\n",
    "p_load(\"htmlwidgets\",\"IRdisplay\")\n",
    "\n",
    "saveWidget(map2, 'demo2.html', selfcontained = FALSE)\n",
    "display_html('<iframe src=\"demo2.html\" width=\"800\" height=\"800\"></iframe>')"
   ]
  },
  {
   "cell_type": "markdown",
   "id": "05d5c86e",
   "metadata": {},
   "source": [
    "# Clustering"
   ]
  },
  {
   "cell_type": "code",
   "execution_count": null,
   "id": "b5f578cf",
   "metadata": {},
   "outputs": [],
   "source": [
    "set.seed(101011)\n",
    "ames_sample<-ames_sf  %>% sample_frac(size=1/3) \n",
    "db<- ames_sample  %>%  select(geometry)\n",
    "head(db)"
   ]
  },
  {
   "cell_type": "code",
   "execution_count": null,
   "id": "bb8aa0c9",
   "metadata": {},
   "outputs": [],
   "source": [
    "db<-st_distance(db)\n",
    "head(db)"
   ]
  },
  {
   "cell_type": "code",
   "execution_count": null,
   "id": "323c4e2a",
   "metadata": {},
   "outputs": [],
   "source": [
    "db<-units::drop_units(db)"
   ]
  },
  {
   "cell_type": "code",
   "execution_count": null,
   "id": "bf872c88",
   "metadata": {},
   "outputs": [],
   "source": [
    "k3 <- kmeans(db, centers = 3, nstart = 25)\n",
    "str(k3)"
   ]
  },
  {
   "cell_type": "code",
   "execution_count": null,
   "id": "0ab9cfa9",
   "metadata": {},
   "outputs": [],
   "source": [
    "ames_sample<- ames_sample %>% mutate(clusters=factor(k3$cluster))"
   ]
  },
  {
   "cell_type": "code",
   "execution_count": null,
   "id": "95c69c71",
   "metadata": {},
   "outputs": [],
   "source": [
    "ggplot() +\n",
    "  geom_sf(data=ames_sample,aes(col=clusters)) + #graficamos las predicciones\n",
    "  theme_bw()"
   ]
  },
  {
   "cell_type": "markdown",
   "id": "d294054b",
   "metadata": {},
   "source": [
    "## ¿Cuántos K (clusters) debemos elegir?"
   ]
  },
  {
   "cell_type": "markdown",
   "id": "53b3648a",
   "metadata": {},
   "source": [
    "### Método del codo"
   ]
  },
  {
   "cell_type": "code",
   "execution_count": null,
   "id": "748f700d",
   "metadata": {},
   "outputs": [],
   "source": [
    "# función que calcula la SSR within-cluster \n",
    "wss <- function(k) {\n",
    "  kmeans(db, k, nstart = 25 )$tot.withinss\n",
    "}\n",
    "\n",
    "# Calculamos y graficamos para k = 1 hasta k = 12\n",
    "wss_values <- sapply(1:12,wss)\n",
    "\n",
    "plot(1:12, wss_values,\n",
    "       type=\"b\", pch = 19, frame = FALSE, \n",
    "       xlab=\"Número de clusters (K)\",\n",
    "       ylab=\"SSR within-clusters total\")"
   ]
  },
  {
   "cell_type": "markdown",
   "id": "d76409c9",
   "metadata": {},
   "source": [
    "### Coeficiente de Silhouette"
   ]
  },
  {
   "cell_type": "code",
   "execution_count": null,
   "id": "72add367",
   "metadata": {},
   "outputs": [],
   "source": [
    "p_load(\"cluster\")\n",
    "# función para extraer el coeficiente de silhouette\n",
    "\n",
    "avg_sil <- function(k) {\n",
    "  km.res <- kmeans(db, centers = k, nstart = 25)\n",
    "  ss <- cluster::silhouette(km.res$cluster, dist(db))\n",
    "  mean(ss[, 3])\n",
    "}\n",
    "\n",
    "\n",
    "# Calcular el coeficiente de silhouette para  k = 2 hasta k = 12\n",
    "valores_sil <-  sapply(2:12,avg_sil)\n",
    "\n",
    "plot(2:12, valores_sil,\n",
    "       type = \"b\", pch = 19, frame = FALSE, \n",
    "       xlab=\"Número de clusters (K)\",\n",
    "       ylab = \"Coeficiente de Silhouette\")"
   ]
  },
  {
   "cell_type": "code",
   "execution_count": null,
   "id": "a02d2043",
   "metadata": {},
   "outputs": [],
   "source": [
    "k4 <- kmeans(db, centers = 4, nstart = 25)\n",
    "\n",
    "ames_sample<- ames_sample %>% mutate(clusters=factor(k4$cluster))"
   ]
  },
  {
   "cell_type": "code",
   "execution_count": null,
   "id": "36459f80",
   "metadata": {},
   "outputs": [],
   "source": [
    "ggplot() +\n",
    "  geom_sf(data=ames_sample,aes(col=clusters)) + #graficamos las predicciones\n",
    "  theme_bw()"
   ]
  },
  {
   "cell_type": "markdown",
   "id": "78678c68",
   "metadata": {},
   "source": [
    "# Super learner"
   ]
  },
  {
   "cell_type": "code",
   "execution_count": null,
   "id": "abdeaa52",
   "metadata": {},
   "outputs": [],
   "source": [
    "ames<- ames  %>% mutate(logprice=log(Sale_Price))\n"
   ]
  },
  {
   "cell_type": "code",
   "execution_count": null,
   "id": "dd4104ab",
   "metadata": {},
   "outputs": [],
   "source": [
    "p_load(\"caret\")\n",
    "set.seed(1011)\n",
    "inTrain <- createDataPartition(\n",
    "  y = ames$logprice,## La variable dependiente u objetivo \n",
    "  p = .7, ## Usamos 70%  de los datos en el conjunto de entrenamiento \n",
    "  list = FALSE)\n",
    "\n",
    "\n",
    "train <- ames[ inTrain,]\n",
    "test  <- ames[-inTrain,]\n",
    "colnames(train)"
   ]
  },
  {
   "cell_type": "code",
   "execution_count": null,
   "id": "4d7bc225",
   "metadata": {},
   "outputs": [],
   "source": [
    "p_load(\"SuperLearner\")\n"
   ]
  },
  {
   "cell_type": "code",
   "execution_count": null,
   "id": "7aff6320",
   "metadata": {},
   "outputs": [],
   "source": [
    "# Review available models.\n",
    "listWrappers()"
   ]
  },
  {
   "cell_type": "code",
   "execution_count": null,
   "id": "431e3440",
   "metadata": {},
   "outputs": [],
   "source": [
    "y<-train$logprice\n",
    "X<- train  %>% select(Year_Built, Bldg_Type, Gr_Liv_Area)"
   ]
  },
  {
   "cell_type": "code",
   "execution_count": null,
   "id": "e67585b3",
   "metadata": {},
   "outputs": [],
   "source": [
    "sl.lib <- c(\"SL.randomForest\", \"SL.lm\")\n",
    "\n",
    "# Fit using the SuperLearner package,\n",
    "\n",
    "fitY <- SuperLearner(Y = y, X = data.frame(X),\n",
    "    method = \"method.NNLS\", SL.library = sl.lib)\n",
    "\n",
    "fitY"
   ]
  },
  {
   "cell_type": "code",
   "execution_count": null,
   "id": "b702f8bc",
   "metadata": {},
   "outputs": [],
   "source": [
    "yhat_Sup <- predict(fitY, newdata = data.frame(test), onlySL = T)$pred\n",
    "head(yhat_Sup)"
   ]
  },
  {
   "cell_type": "code",
   "execution_count": null,
   "id": "c0e014a7",
   "metadata": {},
   "outputs": [],
   "source": [
    "# Customize the defaults for random forest.\n",
    "custon_ranger = create.Learner(\"SL.ranger\", params = list(num.trees = 1000))\n",
    "\n",
    "# Look at the object.\n",
    "custon_ranger$names\n"
   ]
  },
  {
   "cell_type": "code",
   "execution_count": null,
   "id": "d959902d",
   "metadata": {},
   "outputs": [],
   "source": [
    "custom_rf = create.Learner(\"SL.randomForest\",\n",
    "                     tune = list(mtry = round(c(1, sqrt(3), 3))))\n",
    "custom_rf$names"
   ]
  },
  {
   "cell_type": "code",
   "execution_count": null,
   "id": "5718545c",
   "metadata": {},
   "outputs": [],
   "source": [
    "# Customize the defaults for random forest.\n",
    "custon_glmnet = create.Learner(\"SL.glmnet\", tune = list(alpha = seq(0, 1, length.out=5)))\n",
    "\n",
    "# Look at the object.\n",
    "custon_glmnet$names"
   ]
  },
  {
   "cell_type": "code",
   "execution_count": null,
   "id": "005b2eb8",
   "metadata": {},
   "outputs": [],
   "source": [
    "\n",
    "sl.lib <- c(\"SL.randomForest\", \"SL.lm\",custon_ranger$names,custon_glmnet$names,custom_rf$names)\n",
    "\n",
    "# Fit using the SuperLearner package,\n",
    "\n",
    "fitY <- SuperLearner(Y = y, X = data.frame(X),\n",
    "    method = \"method.NNLS\", SL.library = sl.lib)\n",
    "\n",
    "fitY"
   ]
  }
 ],
 "metadata": {
  "kernelspec": {
   "display_name": "R",
   "language": "R",
   "name": "ir"
  },
  "language_info": {
   "codemirror_mode": "r",
   "file_extension": ".r",
   "mimetype": "text/x-r-source",
   "name": "R",
   "pygments_lexer": "r",
   "version": "4.2.2"
  },
  "toc": {
   "base_numbering": 1,
   "nav_menu": {},
   "number_sections": true,
   "sideBar": true,
   "skip_h1_title": false,
   "title_cell": "Table of Contents",
   "title_sidebar": "Contents",
   "toc_cell": false,
   "toc_position": {},
   "toc_section_display": true,
   "toc_window_display": false
  }
 },
 "nbformat": 4,
 "nbformat_minor": 5
}

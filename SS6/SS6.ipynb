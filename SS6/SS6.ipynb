{
 "cells": [
  {
   "cell_type": "markdown",
   "id": "2dd7b4a8",
   "metadata": {},
   "source": [
    "<div >\n",
    "<img src = \"../banner.jpg\" />\n",
    "</div>"
   ]
  },
  {
   "cell_type": "markdown",
   "id": "784a4170",
   "metadata": {},
   "source": [
    "# Spatial Data"
   ]
  },
  {
   "cell_type": "code",
   "execution_count": null,
   "id": "79e62990",
   "metadata": {},
   "outputs": [],
   "source": [
    "require(\"pacman\")\n",
    "p_load(\"tidyverse\",\"sf\",\"modeldata\",\"geojsonio\")"
   ]
  },
  {
   "cell_type": "code",
   "execution_count": null,
   "id": "4707557b",
   "metadata": {},
   "outputs": [],
   "source": [
    "data(\"ames\", package = \"modeldata\")"
   ]
  },
  {
   "cell_type": "code",
   "execution_count": null,
   "id": "e40b5626",
   "metadata": {},
   "outputs": [],
   "source": [
    "dim(ames)"
   ]
  },
  {
   "cell_type": "code",
   "execution_count": null,
   "id": "1f08bec3",
   "metadata": {},
   "outputs": [],
   "source": [
    "class(ames)"
   ]
  },
  {
   "cell_type": "markdown",
   "id": "fcd9f0b6",
   "metadata": {},
   "source": [
    "![](figs/mercator.gif)"
   ]
  },
  {
   "cell_type": "code",
   "execution_count": null,
   "id": "a9620427",
   "metadata": {},
   "outputs": [],
   "source": [
    "ames_sf <- sf::st_as_sf(\n",
    "  ames,\n",
    "  # \"coords\" is in x/y order -- so longitude goes first!\n",
    "  coords = c(\"Longitude\", \"Latitude\"),\n",
    "  # Set our coordinate reference system to EPSG:4326,\n",
    "  # the standard WGS84 geodetic coordinate reference system\n",
    "  crs = 4326\n",
    ")"
   ]
  },
  {
   "cell_type": "code",
   "execution_count": null,
   "id": "736d9bd2",
   "metadata": {},
   "outputs": [],
   "source": [
    "class(ames_sf)"
   ]
  },
  {
   "cell_type": "code",
   "execution_count": null,
   "id": "6795c6c7",
   "metadata": {},
   "outputs": [],
   "source": [
    "head(ames_sf)"
   ]
  },
  {
   "cell_type": "code",
   "execution_count": null,
   "id": "20ff71f3",
   "metadata": {},
   "outputs": [],
   "source": [
    "ggplot() +\n",
    "    geom_sf(data=ames_sf)+\n",
    "    theme_bw()"
   ]
  },
  {
   "cell_type": "code",
   "execution_count": null,
   "id": "b87e8474",
   "metadata": {},
   "outputs": [],
   "source": [
    "p_load(\"leaflet\")"
   ]
  },
  {
   "cell_type": "code",
   "execution_count": null,
   "id": "1d4d556d",
   "metadata": {},
   "outputs": [],
   "source": [
    "map1<-leaflet()  %>% \n",
    "        addTiles()  %>% \n",
    "        addCircleMarkers(data=ames_sf)"
   ]
  },
  {
   "cell_type": "code",
   "execution_count": null,
   "id": "c4182952",
   "metadata": {},
   "outputs": [],
   "source": [
    "#workaround to show in Jupyter Notebook (not needed in Rstudio)\n",
    "p_load(\"htmlwidgets\",\"IRdisplay\")\n",
    "\n",
    "saveWidget(map1, 'demo1.html', selfcontained = FALSE)\n",
    "display_html('<iframe src=\"demo1.html\" width=\"800\" height=\"800\"></iframe>')"
   ]
  },
  {
   "cell_type": "code",
   "execution_count": null,
   "id": "2490b4d3",
   "metadata": {},
   "outputs": [],
   "source": [
    "#Different Tiles\n",
    "map2<-leaflet()  %>% \n",
    "    addProviderTiles(providers$Stamen.Toner)  %>% \n",
    "    addCircles(data=ames_sf)"
   ]
  },
  {
   "cell_type": "code",
   "execution_count": null,
   "id": "a1ba473d",
   "metadata": {},
   "outputs": [],
   "source": [
    "#workaround to show in Jupyter Notebook (not needed in Rstudio)\n",
    "p_load(\"htmlwidgets\",\"IRdisplay\")\n",
    "\n",
    "saveWidget(map2, 'demo2.html', selfcontained = FALSE)\n",
    "display_html('<iframe src=\"demo2.html\" width=\"800\" height=\"800\"></iframe>')"
   ]
  },
  {
   "cell_type": "markdown",
   "id": "284fa58d",
   "metadata": {},
   "source": [
    "# Clustering\n",
    "## Etapas\n",
    "\n",
    "Las etapas del análisis de clusters podemos resumirlas de la siguiente forma:\n",
    "\n",
    "1. Iniciamos con una matriz de datos\n",
    "\n",
    "    \\begin{align}\n",
    "X_{n\\times k}=\\left(\\begin{array}{cccc}\n",
    "x_{11} &  & \\dots & x_{1k}\\\\\n",
    "\\\\\n",
    "\\vdots &  & x_{ik} & \\vdots\\\\\n",
    "\\\\\n",
    "x_{n1} &  & \\dots & x_{nk} \n",
    "\\end{array}\\right)\n",
    "    \\end{align}\n",
    "\n",
    "2. Calculamos la matriz de distancia o disimilitud\n",
    "\n",
    "\\begin{align}\n",
    "D_{n\\times n}=\\left(\\begin{array}{ccccc}\n",
    "d_{11} &  & \\dots &  & d_{1n}\\\\\n",
    " & \\ddots\\\\\n",
    "\\vdots &  & d_{jj} &  & \\vdots\\\\\n",
    " &  &  & \\ddots\\\\\n",
    "d_{n1} &  & \\dots &  & d_{nn}\n",
    "\\end{array}\\right)\n",
    "\\end{align}\n",
    "\n",
    "\n",
    "3. Aplicamos el algoritmo de clustering. Existen varios tipos, en esta semana nos centramos en aquellos  **Algoritmos basados en centroides**. En estos algoritmos cluster está representado por un centroide. Los clusters se construyen en función de la distancia al centroide del grupo."
   ]
  },
  {
   "cell_type": "code",
   "execution_count": null,
   "id": "97724631",
   "metadata": {},
   "outputs": [],
   "source": [
    "set.seed(101011)\n",
    "ames_sample<-ames_sf  %>% sample_frac(size=1/3) \n",
    "db<- ames_sample  %>%  select(geometry)\n",
    "head(db)"
   ]
  },
  {
   "cell_type": "code",
   "execution_count": null,
   "id": "72adb522",
   "metadata": {},
   "outputs": [],
   "source": [
    "db<-st_distance(db)\n",
    "head(db)"
   ]
  },
  {
   "cell_type": "code",
   "execution_count": null,
   "id": "e6aef5e6",
   "metadata": {},
   "outputs": [],
   "source": [
    "db<-units::drop_units(db)"
   ]
  },
  {
   "cell_type": "code",
   "execution_count": null,
   "id": "044be85d",
   "metadata": {},
   "outputs": [],
   "source": [
    "k3 <- kmeans(db, centers = 3, nstart = 25)\n",
    "str(k3)"
   ]
  },
  {
   "cell_type": "code",
   "execution_count": null,
   "id": "9fe90957",
   "metadata": {},
   "outputs": [],
   "source": [
    "ames_sample<- ames_sample %>% mutate(clusters=factor(k3$cluster))"
   ]
  },
  {
   "cell_type": "code",
   "execution_count": null,
   "id": "7d71634e",
   "metadata": {},
   "outputs": [],
   "source": [
    "ggplot() +\n",
    "  geom_sf(data=ames_sample,aes(col=clusters)) + #graficamos las predicciones\n",
    "  theme_bw()"
   ]
  },
  {
   "attachments": {},
   "cell_type": "markdown",
   "id": "601c51a0",
   "metadata": {},
   "source": [
    "\n",
    "## Caveat\n",
    "\n",
    "Los métodos de clustering son exploratorios: se pueden utilizar para evaluar la calidad de los datos y generar hipótesis. \n",
    "\n",
    "Pero no importa lo que entre en el algoritmo de agrupamiento, los clusters salen. Esta es una situación clásica de \"basura que entra, basura que sale\". \n"
   ]
  },
  {
   "cell_type": "markdown",
   "id": "bac0eb7c",
   "metadata": {},
   "source": [
    "\n",
    "![](figs/Garbage-Model.jp)\n"
   ]
  },
  {
   "cell_type": "markdown",
   "id": "d8643751",
   "metadata": {},
   "source": [
    "\n",
    "Obviamente, esperamos que lo que se está metiendo en el análisis no sea basura, pero eso no garantiza que salga una \"pearl of wisdom\".\n",
    "\n",
    "La conclusión es que la agrupación es buena si es útil para responder el problema en particular. Pero, esto es difícil de evaluar.\n",
    "\n",
    "\n",
    "Hay medidas de cuán bueno es el agrupamiento. Funcionan según el principio de que las distancias entre los elementos del mismo grupo deben ser pequeñas y las distancias entre los elementos de diferentes grupos deben ser grandes. \n",
    "\n",
    "Esta es una verificación interna de la \"estrechez\" de los grupos, pero no garantiza que los grupos sean útiles y/o significativos para el problema bajo estudio. Esto requiere que el usuario utilice su capacidad y discernimiento."
   ]
  },
  {
   "cell_type": "markdown",
   "id": "665fdf74",
   "metadata": {},
   "source": [
    "## ¿Cuántos K (clusters) debemos elegir?"
   ]
  },
  {
   "cell_type": "markdown",
   "id": "c44670eb",
   "metadata": {},
   "source": [
    "### Método del codo"
   ]
  },
  {
   "cell_type": "code",
   "execution_count": null,
   "id": "32765cc8",
   "metadata": {},
   "outputs": [],
   "source": [
    "# función que calcula la SSR within-cluster \n",
    "wss <- function(k) {\n",
    "  kmeans(db, k, nstart = 25 )$tot.withinss\n",
    "}\n",
    "\n",
    "# Calculamos y graficamos para k = 1 hasta k = 12\n",
    "wss_values <- sapply(1:12,wss)\n",
    "\n",
    "plot(1:12, wss_values,\n",
    "       type=\"b\", pch = 19, frame = FALSE, \n",
    "       xlab=\"Número de clusters (K)\",\n",
    "       ylab=\"SSR within-clusters total\")"
   ]
  },
  {
   "cell_type": "markdown",
   "id": "5adbd0ec",
   "metadata": {},
   "source": [
    "### Coeficiente de Silhouette"
   ]
  },
  {
   "cell_type": "code",
   "execution_count": null,
   "id": "969f0ee8",
   "metadata": {},
   "outputs": [],
   "source": [
    "p_load(\"cluster\")\n",
    "# función para extraer el coeficiente de silhouette\n",
    "\n",
    "avg_sil <- function(k) {\n",
    "  km.res <- kmeans(db, centers = k, nstart = 25)\n",
    "  ss <- cluster::silhouette(km.res$cluster, dist(db))\n",
    "  mean(ss[, 3])\n",
    "}\n",
    "\n",
    "\n",
    "# Calcular el coeficiente de silhouette para  k = 2 hasta k = 12\n",
    "valores_sil <-  sapply(2:12,avg_sil)\n",
    "\n",
    "plot(2:12, valores_sil,\n",
    "       type = \"b\", pch = 19, frame = FALSE, \n",
    "       xlab=\"Número de clusters (K)\",\n",
    "       ylab = \"Coeficiente de Silhouette\")"
   ]
  },
  {
   "cell_type": "code",
   "execution_count": null,
   "id": "a7d0b869",
   "metadata": {},
   "outputs": [],
   "source": [
    "k4 <- kmeans(db, centers = 4, nstart = 25)\n",
    "\n",
    "ames_sample<- ames_sample %>% mutate(clusters=factor(k4$cluster))"
   ]
  },
  {
   "cell_type": "code",
   "execution_count": null,
   "id": "390be99b",
   "metadata": {},
   "outputs": [],
   "source": [
    "ggplot() +\n",
    "  geom_sf(data=ames_sample,aes(col=clusters)) + #graficamos las predicciones\n",
    "  theme_bw()"
   ]
  },
  {
   "cell_type": "markdown",
   "id": "5d4116cf",
   "metadata": {},
   "source": [
    "# Super learner"
   ]
  },
  {
   "cell_type": "markdown",
   "id": "ef57bc55",
   "metadata": {},
   "source": [
    "Vamos a modelar los precios de venta de las casas en el conjunto de datos de Ames. Digamos que el precio de venta de estas casas depende del año en que se construyeron, su superficie habitable (tamaño) y el tipo de casa que son (dúplex vs. townhouse vs. unifamiliar)"
   ]
  },
  {
   "cell_type": "code",
   "execution_count": null,
   "id": "8d6cabad",
   "metadata": {},
   "outputs": [],
   "source": [
    "ames<- ames  %>% mutate(logprice=log(Sale_Price))"
   ]
  },
  {
   "cell_type": "code",
   "execution_count": null,
   "id": "4a24d323",
   "metadata": {},
   "outputs": [],
   "source": [
    "p_load(\"caret\")\n",
    "set.seed(1011)\n",
    "inTrain <- createDataPartition(\n",
    "  y = ames$logprice,## La variable dependiente u objetivo \n",
    "  p = .7, ## Usamos 70%  de los datos en el conjunto de entrenamiento \n",
    "  list = FALSE)\n",
    "\n",
    "\n",
    "train <- ames[ inTrain,]\n",
    "test  <- ames[-inTrain,]\n",
    "colnames(train)"
   ]
  },
  {
   "cell_type": "code",
   "execution_count": null,
   "id": "64d450c7",
   "metadata": {},
   "outputs": [],
   "source": [
    "p_load(\"SuperLearner\")\n"
   ]
  },
  {
   "cell_type": "code",
   "execution_count": null,
   "id": "453dd129",
   "metadata": {},
   "outputs": [],
   "source": [
    "# Review available models.\n",
    "listWrappers()"
   ]
  },
  {
   "cell_type": "code",
   "execution_count": null,
   "id": "c1ce4692",
   "metadata": {},
   "outputs": [],
   "source": [
    "ySL<-train$logprice\n",
    "XSL<- train  %>% select(Year_Built, Bldg_Type, Gr_Liv_Area)"
   ]
  },
  {
   "cell_type": "code",
   "execution_count": null,
   "id": "cbd6136b",
   "metadata": {},
   "outputs": [],
   "source": [
    "sl.lib <- c(\"SL.randomForest\", \"SL.lm\")\n",
    "\n",
    "# Fit using the SuperLearner package,\n",
    "\n",
    "fitY <- SuperLearner(Y = ySL,  X= data.frame(XSL),\n",
    "    method = \"method.NNLS\", SL.library = sl.lib)\n",
    "\n",
    "fitY"
   ]
  },
  {
   "cell_type": "code",
   "execution_count": null,
   "id": "c40d8067",
   "metadata": {},
   "outputs": [],
   "source": [
    "test <- test  %>%  mutate(yhat_Sup=predict(fitY, newdata = data.frame(test), onlySL = T)$pred)\n",
    "head(test$yhat_Sup)"
   ]
  },
  {
   "cell_type": "code",
   "execution_count": null,
   "id": "cee1e664",
   "metadata": {},
   "outputs": [],
   "source": [
    "with(test,mean(abs(logprice-yhat_Sup)))"
   ]
  },
  {
   "cell_type": "markdown",
   "id": "cddacb3e",
   "metadata": {},
   "source": [
    "## Test algorithm with multiple hyperparameter settings\n",
    "\n",
    "The performance of an algorithm varies based on its hyperparamters, which again are its configuration settings. Some algorithms may not vary much, and others might have far better or worse performance for certain settings. Often we focus our attention on 1 or 2 hyperparameters for a given algorithm because they are the most important ones.\n",
    "\n",
    "For random forest there are two particularly important hyperparameters: mtry and maximum leaf nodes. Mtry is how many features are randomly chosen within each decision tree node - in other words, each time the tree considers making a split. Maximum leaf nodes controls how complex each tree can get.\n",
    "\n",
    "Let's try 3 different mtry options."
   ]
  },
  {
   "cell_type": "code",
   "execution_count": null,
   "id": "28dacb9b",
   "metadata": {},
   "outputs": [],
   "source": [
    "# Customize the defaults for random forest.\n",
    "custon_ranger = create.Learner(\"SL.ranger\", params = list(num.trees = 1000))\n",
    "\n",
    "# Look at the object.\n",
    "custon_ranger$names\n"
   ]
  },
  {
   "cell_type": "code",
   "execution_count": null,
   "id": "7ffe819e",
   "metadata": {},
   "outputs": [],
   "source": [
    "custom_rf = create.Learner(\"SL.randomForest\",\n",
    "                     tune = list(mtry = round(c(1, sqrt(3), 3))))\n",
    "custom_rf$names"
   ]
  },
  {
   "cell_type": "code",
   "execution_count": null,
   "id": "4c22ddab",
   "metadata": {},
   "outputs": [],
   "source": [
    "# Customize the defaults for random forest.\n",
    "custon_glmnet = create.Learner(\"SL.glmnet\", tune = list(alpha = seq(0, 1, length.out=5)))\n",
    "\n",
    "# Look at the object.\n",
    "custon_glmnet$names"
   ]
  },
  {
   "cell_type": "code",
   "execution_count": null,
   "id": "bc426b8c",
   "metadata": {},
   "outputs": [],
   "source": [
    "sl.lib2 <- c(\"SL.randomForest\", \"SL.lm\",custon_ranger$names,custon_glmnet$names,custom_rf$names)\n",
    "sl.lib2"
   ]
  },
  {
   "cell_type": "code",
   "execution_count": null,
   "id": "5a7791dc",
   "metadata": {},
   "outputs": [],
   "source": [
    "# Fit (takes forever)\n",
    "\n",
    "#fitY_long <- SuperLearner(Y = y, X = data.frame(X),\n",
    "#     method = \"method.NNLS\", SL.library = sl.lib)\n",
    "\n",
    "#fitY_long"
   ]
  },
  {
   "cell_type": "markdown",
   "id": "8f2193ba",
   "metadata": {},
   "source": [
    "# Spatial Cross Validation\n"
   ]
  },
  {
   "cell_type": "code",
   "execution_count": null,
   "id": "6c99e808",
   "metadata": {},
   "outputs": [],
   "source": [
    "p_load(\"spatialsample\")\n",
    "\n",
    "ames_sf <- sf::st_as_sf(\n",
    "  ames,\n",
    "  # \"coords\" is in x/y order -- so longitude goes first!\n",
    "  coords = c(\"Longitude\", \"Latitude\"),\n",
    "  # Set our coordinate reference system to EPSG:4326,\n",
    "  # the standard WGS84 geodetic coordinate reference system\n",
    "  crs = 4326\n",
    ")\n"
   ]
  },
  {
   "cell_type": "code",
   "execution_count": null,
   "id": "7d808e6d",
   "metadata": {},
   "outputs": [],
   "source": []
  },
  {
   "cell_type": "code",
   "execution_count": null,
   "id": "c3074887",
   "metadata": {},
   "outputs": [],
   "source": [
    "set.seed(123)\n",
    "block_folds <- spatial_block_cv(ames_sf, v = 15)\n",
    "\n"
   ]
  },
  {
   "cell_type": "code",
   "execution_count": null,
   "id": "06716188",
   "metadata": {},
   "outputs": [],
   "source": [
    "autoplot(block_folds) + theme_bw()"
   ]
  },
  {
   "cell_type": "code",
   "execution_count": null,
   "id": "48b6d03c",
   "metadata": {},
   "outputs": [],
   "source": [
    "\n",
    "set.seed(123)\n",
    "cluster_folds <- spatial_clustering_cv(ames_sf, v = 15)\n",
    "autoplot(cluster_folds) + theme_bw()"
   ]
  },
  {
   "cell_type": "code",
   "execution_count": null,
   "id": "6762fa61",
   "metadata": {},
   "outputs": [],
   "source": [
    "set.seed(123)\n",
    "location_folds <- \n",
    "  spatial_leave_location_out_cv(\n",
    "   ames_sf,\n",
    "    group = Neighborhood,\n",
    "    v = 15\n",
    "  )"
   ]
  },
  {
   "cell_type": "code",
   "execution_count": null,
   "id": "955aa9fc",
   "metadata": {},
   "outputs": [],
   "source": [
    "autoplot(location_folds)+ theme_bw()"
   ]
  },
  {
   "cell_type": "code",
   "execution_count": null,
   "id": "595c13ed",
   "metadata": {},
   "outputs": [],
   "source": [
    "table(ames_sf$Neighborhood)\n"
   ]
  },
  {
   "cell_type": "code",
   "execution_count": null,
   "id": "e3bdce26",
   "metadata": {},
   "outputs": [],
   "source": [
    "ames_sf <- ames_sf   %>% mutate(Neighborhood=droplevels(Neighborhood))"
   ]
  },
  {
   "cell_type": "code",
   "execution_count": null,
   "id": "a56eb4a5",
   "metadata": {},
   "outputs": [],
   "source": [
    "table(ames_sf$Neighborhood)"
   ]
  },
  {
   "cell_type": "code",
   "execution_count": null,
   "id": "8b8022bb",
   "metadata": {},
   "outputs": [],
   "source": [
    "length(unique(ames_sf$Neighborhood))"
   ]
  },
  {
   "cell_type": "code",
   "execution_count": null,
   "id": "ec9e6c99",
   "metadata": {},
   "outputs": [],
   "source": [
    "test_neigh<- ames_sf  %>% filter(Neighborhood==\"North_Ames\")\n",
    "test_neigh <- test_neigh   %>% mutate(Neighborhood=droplevels(Neighborhood))\n",
    "train_neigh<- ames_sf  %>% filter(Neighborhood!=\"North_Ames\")\n",
    "train_neigh <- train_neigh   %>% mutate(Neighborhood=droplevels(Neighborhood))"
   ]
  },
  {
   "cell_type": "code",
   "execution_count": null,
   "id": "88db8b19",
   "metadata": {},
   "outputs": [],
   "source": [
    "y_neigh<-train_neigh$logprice\n",
    "X_neigh<- train_neigh  %>% select(Year_Built, Bldg_Type, Gr_Liv_Area)  %>% st_drop_geometry()"
   ]
  },
  {
   "cell_type": "code",
   "execution_count": null,
   "id": "054d2b78",
   "metadata": {},
   "outputs": [],
   "source": [
    "index <- split(1:nrow(train_neigh),train_neigh$Neighborhood)"
   ]
  },
  {
   "cell_type": "code",
   "execution_count": null,
   "id": "bc3cf4b9",
   "metadata": {},
   "outputs": [],
   "source": [
    "index"
   ]
  },
  {
   "cell_type": "code",
   "execution_count": null,
   "id": "11785c24",
   "metadata": {},
   "outputs": [],
   "source": [
    "folds<-length(index)\n",
    "folds"
   ]
  },
  {
   "cell_type": "code",
   "execution_count": null,
   "id": "057a8c0b",
   "metadata": {},
   "outputs": [],
   "source": [
    "fitY_neigh <- SuperLearner(Y = y_neigh, X = data.frame(X_neigh),\n",
    "    method = \"method.NNLS\", SL.library = sl.lib,\n",
    "    cvControl = list(V = folds, validRows = index))"
   ]
  },
  {
   "cell_type": "code",
   "execution_count": null,
   "id": "ce72eab9",
   "metadata": {},
   "outputs": [],
   "source": [
    "fitY_neigh"
   ]
  },
  {
   "cell_type": "code",
   "execution_count": null,
   "id": "750289ee",
   "metadata": {},
   "outputs": [],
   "source": [
    "yhat_SL_neigh=predict(fitY_neigh, newdata = data.frame(test_neigh), onlySL = T)$pred\n"
   ]
  },
  {
   "cell_type": "code",
   "execution_count": null,
   "id": "8d2ec711",
   "metadata": {},
   "outputs": [],
   "source": [
    "with(test_neigh,mean(abs(logprice-yhat_SL_neigh)))"
   ]
  },
  {
   "cell_type": "code",
   "execution_count": null,
   "id": "a91ef390",
   "metadata": {},
   "outputs": [],
   "source": [
    "with(test ,mean(abs(logprice-yhat_Sup)))"
   ]
  }
 ],
 "metadata": {
  "kernelspec": {
   "display_name": "R",
   "language": "R",
   "name": "ir"
  },
  "language_info": {
   "codemirror_mode": "r",
   "file_extension": ".r",
   "mimetype": "text/x-r-source",
   "name": "R",
   "pygments_lexer": "r",
   "version": "4.2.2"
  },
  "toc": {
   "base_numbering": 1,
   "nav_menu": {},
   "number_sections": true,
   "sideBar": true,
   "skip_h1_title": false,
   "title_cell": "Table of Contents",
   "title_sidebar": "Contents",
   "toc_cell": false,
   "toc_position": {},
   "toc_section_display": true,
   "toc_window_display": true
  }
 },
 "nbformat": 4,
 "nbformat_minor": 5
}

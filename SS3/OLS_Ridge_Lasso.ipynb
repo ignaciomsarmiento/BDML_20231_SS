{
 "cells": [
  {
   "attachments": {},
   "cell_type": "markdown",
   "id": "340f63f6-93da-4633-9f43-43927ea8d65c",
   "metadata": {},
   "source": [
    "<div >\n",
    "<img src = \"banner.jpg\" />\n",
    "</div>"
   ]
  },
  {
   "cell_type": "markdown",
   "id": "d8e20450",
   "metadata": {},
   "source": [
    "# Ridge and Lasso Basics\n",
    "\n",
    "## Data: House Prices\n"
   ]
  },
  {
   "cell_type": "markdown",
   "id": "21fe027e",
   "metadata": {},
   "source": [
    "\n",
    "We will predict house prices using the data set `matchdata` included in the `McSpatial package` for `R` to illustrate the different strategies' usage. The data contains 3204 sales of single-family homes on the Far North Side of Chicago in 1995 and 2005."
   ]
  },
  {
   "cell_type": "markdown",
   "id": "b57d7ec4-63ca-4420-b213-3125120d168a",
   "metadata": {},
   "source": [
    "<div>\n",
    "<img src=\"chicago.png\" width=\"250\"/>\n",
    "</div>"
   ]
  },
  {
   "cell_type": "markdown",
   "id": "24a841a7",
   "metadata": {},
   "source": [
    "This data set includes 18 variables/features about the home, including the price the house was sold, the number of bathrooms and bedrooms, the latitude, and longitude, etc."
   ]
  },
  {
   "cell_type": "markdown",
   "id": "e635448a",
   "metadata": {},
   "source": [
    "Let's load the packages and the data set:"
   ]
  },
  {
   "cell_type": "code",
   "execution_count": null,
   "id": "9bfb8d5f",
   "metadata": {
    "tags": [
     "remove_cell"
    ],
    "vscode": {
     "languageId": "r"
    }
   },
   "outputs": [],
   "source": [
    "#packages\n",
    "require(\"pacman\")\n",
    "p_load(\"tidyverse\",\"stargazer\")\n",
    "\n",
    "load(url(\"https://github.com/ignaciomsarmiento/datasets/blob/main/matchdata.rda?raw=true\"))"
   ]
  },
  {
   "cell_type": "markdown",
   "id": "935a8e72",
   "metadata": {
    "lines_to_next_cell": 0
   },
   "source": [
    "Stargazer can easily provide us a table with descriptive statistics:"
   ]
  },
  {
   "cell_type": "code",
   "execution_count": null,
   "id": "72d72e93",
   "metadata": {
    "tags": [
     "remove_input"
    ],
    "vscode": {
     "languageId": "r"
    }
   },
   "outputs": [],
   "source": [
    "stargazer(matchdata, header=FALSE, type='text',title=\"Variables Included in the Matched Data Set\")"
   ]
  },
  {
   "cell_type": "markdown",
   "id": "52115829",
   "metadata": {},
   "source": [
    "Note that the variable price is in logs. We are going to transform it back to levels:"
   ]
  },
  {
   "cell_type": "code",
   "execution_count": null,
   "id": "459c1b95",
   "metadata": {
    "lines_to_next_cell": 2,
    "vscode": {
     "languageId": "r"
    }
   },
   "outputs": [],
   "source": [
    "matchdata <- matchdata %>% \n",
    "                      mutate(price=exp(lnprice) #transforms log prices to standard prices\n",
    "                             ) "
   ]
  },
  {
   "cell_type": "markdown",
   "id": "bf7b3114",
   "metadata": {},
   "source": [
    "## Ridge"
   ]
  },
  {
   "cell_type": "code",
   "execution_count": null,
   "id": "6ef581f4",
   "metadata": {
    "lines_to_next_cell": 2,
    "vscode": {
     "languageId": "r"
    }
   },
   "outputs": [],
   "source": [
    "p_load(\"glmnet\")\n",
    "X<-model.matrix(~rooms+bedrooms+bathrooms-1,matchdata)\n",
    "y<-matchdata$price\n",
    "\n",
    "\n",
    "grid=10^seq(10,-2,length=100)\n",
    "\n",
    "\n",
    "ridge1<-glmnet(x=X,\n",
    "               y=y,\n",
    "               alpha=0, #0 is ridge, 1 is lasso\n",
    "               lambda=grid)\n",
    "head(coef(ridge1))"
   ]
  },
  {
   "cell_type": "code",
   "execution_count": null,
   "id": "843b903e",
   "metadata": {
    "lines_to_next_cell": 0,
    "vscode": {
     "languageId": "r"
    }
   },
   "outputs": [],
   "source": [
    "#Put coefficients in a data frame, except the intercept\n",
    "coefs_ridge<-data.frame(t(as.matrix(coef(ridge1)))) %>% select(-X.Intercept.)\n",
    "#add the lambda grid to to data frame\n",
    "coefs_ridge<- coefs_ridge %>% mutate(lambda=grid)              \n",
    "\n",
    "#ggplot friendly format\n",
    "coefs_ridge<- coefs_ridge %>% pivot_longer(cols=!lambda,\n",
    "                                          names_to=\"variables\",\n",
    "                                          values_to=\"coefficients\")\n",
    "\n",
    "\n",
    "\n",
    "ggplot(data=coefs_ridge, aes(x = lambda, y = coefficients, color = variables)) +\n",
    "  geom_line() +\n",
    "  scale_x_log10(\n",
    "    breaks = scales::trans_breaks(\"log10\", function(x) 10^x),\n",
    "    labels = scales::trans_format(\"log10\",\n",
    "                                  scales::math_format(10^.x))\n",
    "  ) +\n",
    "  labs(title = \"Coeficientes Ridge\", x = \"Lambda\", y = \"Coeficientes\") +\n",
    "  theme_bw() +\n",
    "  theme(legend.position=\"bottom\")"
   ]
  },
  {
   "cell_type": "markdown",
   "id": "c4c7cf1e",
   "metadata": {},
   "source": [
    "## Lasso"
   ]
  },
  {
   "cell_type": "code",
   "execution_count": null,
   "id": "3d99587a",
   "metadata": {
    "lines_to_next_cell": 2,
    "vscode": {
     "languageId": "r"
    }
   },
   "outputs": [],
   "source": [
    "#Same grid\n",
    "grid=10^seq(10,-2,length=100)\n",
    "\n",
    "lasso1<-glmnet(x=X,\n",
    "               y=y,\n",
    "               alpha=1, #0 is ridge, 1 is lasso\n",
    "               lambda=grid)"
   ]
  },
  {
   "cell_type": "code",
   "execution_count": null,
   "id": "c5993aab",
   "metadata": {
    "lines_to_next_cell": 2,
    "vscode": {
     "languageId": "r"
    }
   },
   "outputs": [],
   "source": [
    "#Put coefficients in a data frame, except the intercept\n",
    "coefs_lasso<-data.frame(t(as.matrix(coef(lasso1)))) %>% select(-X.Intercept.)\n",
    "#add the lambda grid to to data frame\n",
    "coefs_lasso<- coefs_lasso %>% mutate(lambda=grid)              \n",
    "\n",
    "#ggplot friendly format\n",
    "coefs_lasso<- coefs_lasso %>% pivot_longer(cols=!lambda,\n",
    "                                          names_to=\"variables\",\n",
    "                                          values_to=\"coefficients\")\n",
    "\n",
    "\n",
    "\n",
    "ggplot(data=coefs_lasso, aes(x = lambda, y = coefficients, color = variables)) +\n",
    "  geom_line() +\n",
    "  scale_x_log10(\n",
    "    breaks = scales::trans_breaks(\"log10\", function(x) 10^x),\n",
    "    labels = scales::trans_format(\"log10\",\n",
    "                                  scales::math_format(10^.x))\n",
    "  ) +\n",
    "  labs(title = \"Coeficientes Lasso\", x = \"Lambda\", y = \"Coeficientes\") +\n",
    "  theme_bw() +\n",
    "  theme(legend.position=\"bottom\")"
   ]
  },
  {
   "cell_type": "markdown",
   "id": "ac25dfc1",
   "metadata": {},
   "source": [
    "# Choosing the penalty parameter for out of sample performance"
   ]
  },
  {
   "cell_type": "markdown",
   "id": "cccb7967",
   "metadata": {
    "lines_to_next_cell": 0
   },
   "source": [
    "## Benchmark: OLS"
   ]
  },
  {
   "cell_type": "code",
   "execution_count": null,
   "id": "79be5919",
   "metadata": {
    "lines_to_next_cell": 0,
    "vscode": {
     "languageId": "r"
    }
   },
   "outputs": [],
   "source": [
    "p_load(\"caret\")\n",
    "\n",
    "set.seed(123)\n",
    "fitControl <- trainControl(## 5-fold CV, 10 better\n",
    "                           method = \"cv\",\n",
    "                           number = 5)\n",
    "\n",
    "\n",
    "fmla<-formula(lnprice~rooms*bedrooms*bathrooms+lnland*lnbldg*poly(dcbd,3,raw=TRUE))\n",
    "linear_reg<-train(fmla,\n",
    "                  data=matchdata,\n",
    "                  method = 'lm', \n",
    "                  trControl = fitControl,\n",
    "                  preProcess = c(\"center\", \"scale\")\n",
    ") \n",
    "\n",
    "\n",
    "linear_reg"
   ]
  },
  {
   "cell_type": "code",
   "execution_count": null,
   "id": "2efa92fd",
   "metadata": {
    "lines_to_next_cell": 2,
    "vscode": {
     "languageId": "r"
    }
   },
   "outputs": [],
   "source": [
    "summary(linear_reg)"
   ]
  },
  {
   "cell_type": "markdown",
   "id": "09a8e47a",
   "metadata": {},
   "source": [
    "## Ridge"
   ]
  },
  {
   "cell_type": "code",
   "execution_count": null,
   "id": "2f8a99cc",
   "metadata": {
    "lines_to_next_cell": 2,
    "vscode": {
     "languageId": "r"
    }
   },
   "outputs": [],
   "source": [
    "ridge<-train(fmla,\n",
    "             data=matchdata,\n",
    "             method = 'glmnet', \n",
    "             trControl = fitControl,\n",
    "             tuneGrid = expand.grid(alpha = 0, #Ridge\n",
    "                                    lambda = seq(0.001,0.02,by = 0.001)),\n",
    "             preProcess = c(\"center\", \"scale\")\n",
    "              ) \n",
    "\n",
    "plot(ridge$results$lambda,\n",
    "     ridge$results$RMSE,\n",
    "     xlab=\"lambda\",\n",
    "     ylab=\"Root Mean-Squared Error (RMSE)\"\n",
    "     )"
   ]
  },
  {
   "cell_type": "code",
   "execution_count": null,
   "id": "e27701ed",
   "metadata": {
    "lines_to_next_cell": 0,
    "vscode": {
     "languageId": "r"
    }
   },
   "outputs": [],
   "source": [
    "ridge$bestTune"
   ]
  },
  {
   "cell_type": "code",
   "execution_count": null,
   "id": "90561d22",
   "metadata": {
    "lines_to_next_cell": 2,
    "vscode": {
     "languageId": "r"
    }
   },
   "outputs": [],
   "source": [
    "coef_ridge<-coef(ridge$finalModel, ridge$bestTune$lambda)\n",
    "coef_ridge"
   ]
  },
  {
   "cell_type": "markdown",
   "id": "90e9ac47",
   "metadata": {},
   "source": [
    "## Lasso"
   ]
  },
  {
   "cell_type": "code",
   "execution_count": null,
   "id": "9b77a984",
   "metadata": {
    "lines_to_next_cell": 2,
    "vscode": {
     "languageId": "r"
    }
   },
   "outputs": [],
   "source": [
    "lasso<-train(fmla,\n",
    "             data=matchdata,\n",
    "             method = 'glmnet', \n",
    "             trControl = fitControl,\n",
    "             tuneGrid = expand.grid(alpha = 1, #lasso\n",
    "                                    lambda = seq(0.001,0.02,by = 0.001)),\n",
    "             preProcess = c(\"center\", \"scale\")\n",
    "              ) \n",
    "\n",
    "plot(lasso$results$lambda,\n",
    "     lasso$results$RMSE,\n",
    "     xlab=\"lambda\",\n",
    "     ylab=\"Root Mean-Squared Error (RMSE)\"\n",
    "     )"
   ]
  },
  {
   "cell_type": "code",
   "execution_count": null,
   "id": "29666800",
   "metadata": {
    "vscode": {
     "languageId": "r"
    }
   },
   "outputs": [],
   "source": [
    "lasso$bestTune"
   ]
  },
  {
   "cell_type": "code",
   "execution_count": null,
   "id": "dd7386d5",
   "metadata": {
    "lines_to_next_cell": 0,
    "vscode": {
     "languageId": "r"
    }
   },
   "outputs": [],
   "source": [
    "coef_lasso<-coef(lasso$finalModel, lasso$bestTune$lambda)\n",
    "coef_lasso"
   ]
  },
  {
   "cell_type": "markdown",
   "id": "b0ef539b",
   "metadata": {},
   "source": []
  },
  {
   "cell_type": "markdown",
   "id": "1a4062cd",
   "metadata": {},
   "source": [
    "## Elastic Net"
   ]
  },
  {
   "cell_type": "code",
   "execution_count": null,
   "id": "6f7609eb",
   "metadata": {
    "lines_to_next_cell": 0,
    "vscode": {
     "languageId": "r"
    }
   },
   "outputs": [],
   "source": [
    "\n",
    "EN<-train(fmla,\n",
    "             data=matchdata,\n",
    "             method = 'glmnet', \n",
    "             trControl = fitControl,\n",
    "             tuneGrid = expand.grid(alpha = seq(0,1,by = 0.1), #lasso\n",
    "                                    lambda = seq(0.001,0.02,by = 0.001)),\n",
    "             preProcess = c(\"center\", \"scale\")\n",
    "              ) "
   ]
  },
  {
   "cell_type": "code",
   "execution_count": null,
   "id": "807d499d",
   "metadata": {
    "lines_to_next_cell": 0,
    "vscode": {
     "languageId": "r"
    }
   },
   "outputs": [],
   "source": [
    "EN$bestTune"
   ]
  },
  {
   "cell_type": "code",
   "execution_count": null,
   "id": "c9a7c667",
   "metadata": {
    "lines_to_next_cell": 2,
    "vscode": {
     "languageId": "r"
    }
   },
   "outputs": [],
   "source": [
    "coef_EN<-coef(EN$finalModel,EN$bestTune$lambda)\n",
    "coef_EN"
   ]
  },
  {
   "cell_type": "code",
   "execution_count": null,
   "id": "c774420e",
   "metadata": {
    "lines_to_next_cell": 2,
    "vscode": {
     "languageId": "r"
    }
   },
   "outputs": [],
   "source": [
    "coefs_df<-cbind(coef(linear_reg$finalModel),as.matrix(coef_ridge),as.matrix(coef_lasso),as.matrix(coef_EN))\n",
    "colnames(coefs_df)<-c(\"OLS\",\"RIDGE\",\"LASSO\",\"ELASTIC_NET\")\n",
    "round(coefs_df,4)"
   ]
  },
  {
   "cell_type": "code",
   "execution_count": null,
   "id": "0d0fa7a8",
   "metadata": {
    "lines_to_next_cell": 0,
    "vscode": {
     "languageId": "r"
    }
   },
   "outputs": [],
   "source": [
    "RMSE_df<-cbind(linear_reg$results$RMSE,ridge$results$RMSE[which.min(ridge$results$lambda)],lasso$results$RMSE[which.min(lasso$results$lambda)],EN$results$RMSE[which.min(EN$results$lambda)])\n",
    "colnames(RMSE_df)<-c(\"OLS\",\"RIDGE\",\"LASSO\",\"EN\")\n",
    "RMSE_df"
   ]
  },
  {
   "cell_type": "markdown",
   "id": "4cd103b9",
   "metadata": {},
   "source": [
    "\n"
   ]
  }
 ],
 "metadata": {
  "jupytext": {
   "cell_metadata_filter": "tags,name,-all",
   "main_language": "R",
   "notebook_metadata_filter": "-all"
  },
  "kernelspec": {
   "display_name": "R",
   "language": "R",
   "name": "ir"
  },
  "language_info": {
   "codemirror_mode": "r",
   "file_extension": ".r",
   "mimetype": "text/x-r-source",
   "name": "R",
   "pygments_lexer": "r",
   "version": "4.2.2"
  },
  "toc": {
   "base_numbering": 1,
   "nav_menu": {},
   "number_sections": true,
   "sideBar": true,
   "skip_h1_title": false,
   "title_cell": "Table of Contents",
   "title_sidebar": "Contents",
   "toc_cell": false,
   "toc_position": {},
   "toc_section_display": true,
   "toc_window_display": false
  }
 },
 "nbformat": 4,
 "nbformat_minor": 5
}

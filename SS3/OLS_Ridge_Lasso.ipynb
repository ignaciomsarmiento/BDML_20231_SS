{
 "cells": [
  {
   "cell_type": "markdown",
   "id": "340f63f6-93da-4633-9f43-43927ea8d65c",
   "metadata": {},
   "source": [
    "<div >\n",
    "<img src = \"banner.jpg\" />\n",
    "</div>"
   ]
  },
  {
   "cell_type": "markdown",
   "id": "d8e20450",
   "metadata": {},
   "source": [
    "# Ridge and Lasso Basics\n",
    "\n",
    "## Data: House Prices\n"
   ]
  },
  {
   "cell_type": "markdown",
   "id": "21fe027e",
   "metadata": {},
   "source": [
    "\n",
    "We will predict house prices using the data set `matchdata` included in the `McSpatial package` for `R` to illustrate the different strategies' usage. The data contains 3204 sales of single-family homes on the Far North Side of Chicago in 1995 and 2005."
   ]
  },
  {
   "cell_type": "markdown",
   "id": "b57d7ec4-63ca-4420-b213-3125120d168a",
   "metadata": {},
   "source": [
    "<div>\n",
    "<img src=\"chicago.png\" width=\"250\"/>\n",
    "</div>"
   ]
  },
  {
   "cell_type": "markdown",
   "id": "24a841a7",
   "metadata": {},
   "source": [
    "This data set includes 18 variables/features about the home, including the price the house was sold, the number of bathrooms and bedrooms, the latitude, and longitude, etc."
   ]
  },
  {
   "cell_type": "markdown",
   "id": "e635448a",
   "metadata": {},
   "source": [
    "Let's load the packages and the data set:"
   ]
  },
  {
   "cell_type": "code",
   "execution_count": 7,
   "id": "9bfb8d5f",
   "metadata": {
    "tags": [
     "remove_cell"
    ],
    "vscode": {
     "languageId": "r"
    }
   },
   "outputs": [],
   "source": [
    "#packages\n",
    "require(\"pacman\")\n",
    "p_load(\"tidyverse\",\"stargazer\")\n",
    "\n",
    "load(url(\"https://github.com/ignaciomsarmiento/datasets/blob/main/matchdata.rda?raw=true\"))"
   ]
  },
  {
   "cell_type": "markdown",
   "id": "935a8e72",
   "metadata": {
    "lines_to_next_cell": 0
   },
   "source": [
    "Stargazer can easily provide us a table with descriptive statistics:"
   ]
  },
  {
   "cell_type": "code",
   "execution_count": 8,
   "id": "72d72e93",
   "metadata": {
    "tags": [
     "remove_input"
    ],
    "vscode": {
     "languageId": "r"
    }
   },
   "outputs": [
    {
     "name": "stdout",
     "output_type": "stream",
     "text": [
      "\n",
      "Variables Included in the Matched Data Set\n",
      "==================================================\n",
      "Statistic   N     Mean    St. Dev.   Min     Max  \n",
      "--------------------------------------------------\n",
      "year      3,204 2,000.000  5.001    1,995   2,005 \n",
      "lnland    3,204   8.309    0.380    6.633  10.076 \n",
      "lnbldg    3,204   7.182    0.289    6.148   8.356 \n",
      "rooms     3,204   5.792    1.230      2      12   \n",
      "bedrooms  3,204   3.026    0.740      1       7   \n",
      "bathrooms 3,204   1.419    0.514    1.000   5.000 \n",
      "centair   3,204   0.346    0.476      0       1   \n",
      "fireplace 3,204   0.160    0.367      0       1   \n",
      "brick     3,204   0.668    0.471      0       1   \n",
      "garage1   3,204   0.307    0.462      0       1   \n",
      "garage2   3,204   0.451    0.498      0       1   \n",
      "dcbd      3,204   9.694    1.729    5.245  13.602 \n",
      "rr        3,204   0.160    0.367      0       1   \n",
      "yrbuilt   3,204 1,934.830  21.726   1,868   1,991 \n",
      "latitude  3,204  41.988    0.015   41.956  42.022 \n",
      "longitude 3,204  -87.744   0.050   -87.834 -87.647\n",
      "lnprice   3,204  12.410    0.526   10.166  13.864 \n",
      "--------------------------------------------------\n"
     ]
    }
   ],
   "source": [
    "stargazer(matchdata, header=FALSE, type='text',title=\"Variables Included in the Matched Data Set\")"
   ]
  },
  {
   "cell_type": "markdown",
   "id": "52115829",
   "metadata": {},
   "source": [
    "Note that the variable price is in logs. We are going to transform it back to levels:"
   ]
  },
  {
   "cell_type": "code",
   "execution_count": 9,
   "id": "459c1b95",
   "metadata": {
    "lines_to_next_cell": 2,
    "vscode": {
     "languageId": "r"
    }
   },
   "outputs": [],
   "source": [
    "matchdata <- matchdata %>% \n",
    "                      mutate(price=exp(lnprice) #transforms log prices to standard prices\n",
    "                             ) "
   ]
  },
  {
   "cell_type": "markdown",
   "id": "bf7b3114",
   "metadata": {},
   "source": [
    "## Ridge"
   ]
  },
  {
   "cell_type": "code",
   "execution_count": 10,
   "id": "6caed43b",
   "metadata": {},
   "outputs": [
    {
     "data": {
      "text/html": [
       "<table class=\"dataframe\">\n",
       "<caption>A matrix: 6 × 3 of type dbl</caption>\n",
       "<thead>\n",
       "\t<tr><th></th><th scope=col>rooms</th><th scope=col>bedrooms</th><th scope=col>bathrooms</th></tr>\n",
       "</thead>\n",
       "<tbody>\n",
       "\t<tr><th scope=row>1</th><td>5</td><td>3</td><td>1.0</td></tr>\n",
       "\t<tr><th scope=row>2</th><td>5</td><td>3</td><td>1.5</td></tr>\n",
       "\t<tr><th scope=row>3</th><td>5</td><td>3</td><td>1.5</td></tr>\n",
       "\t<tr><th scope=row>4</th><td>4</td><td>2</td><td>1.0</td></tr>\n",
       "\t<tr><th scope=row>5</th><td>6</td><td>3</td><td>1.0</td></tr>\n",
       "\t<tr><th scope=row>6</th><td>7</td><td>3</td><td>2.0</td></tr>\n",
       "</tbody>\n",
       "</table>\n"
      ],
      "text/latex": [
       "A matrix: 6 × 3 of type dbl\n",
       "\\begin{tabular}{r|lll}\n",
       "  & rooms & bedrooms & bathrooms\\\\\n",
       "\\hline\n",
       "\t1 & 5 & 3 & 1.0\\\\\n",
       "\t2 & 5 & 3 & 1.5\\\\\n",
       "\t3 & 5 & 3 & 1.5\\\\\n",
       "\t4 & 4 & 2 & 1.0\\\\\n",
       "\t5 & 6 & 3 & 1.0\\\\\n",
       "\t6 & 7 & 3 & 2.0\\\\\n",
       "\\end{tabular}\n"
      ],
      "text/markdown": [
       "\n",
       "A matrix: 6 × 3 of type dbl\n",
       "\n",
       "| <!--/--> | rooms | bedrooms | bathrooms |\n",
       "|---|---|---|---|\n",
       "| 1 | 5 | 3 | 1.0 |\n",
       "| 2 | 5 | 3 | 1.5 |\n",
       "| 3 | 5 | 3 | 1.5 |\n",
       "| 4 | 4 | 2 | 1.0 |\n",
       "| 5 | 6 | 3 | 1.0 |\n",
       "| 6 | 7 | 3 | 2.0 |\n",
       "\n"
      ],
      "text/plain": [
       "  rooms bedrooms bathrooms\n",
       "1 5     3        1.0      \n",
       "2 5     3        1.5      \n",
       "3 5     3        1.5      \n",
       "4 4     2        1.0      \n",
       "5 6     3        1.0      \n",
       "6 7     3        2.0      "
      ]
     },
     "metadata": {},
     "output_type": "display_data"
    }
   ],
   "source": [
    "p_load(\"glmnet\")\n",
    "y<-matchdata$price\n",
    "X<-model.matrix(~rooms+bedrooms+bathrooms-1,matchdata)\n",
    "head(X)"
   ]
  },
  {
   "cell_type": "code",
   "execution_count": 11,
   "id": "0a5d0cfb",
   "metadata": {},
   "outputs": [
    {
     "data": {
      "text/html": [
       "<style>\n",
       ".list-inline {list-style: none; margin:0; padding: 0}\n",
       ".list-inline>li {display: inline-block}\n",
       ".list-inline>li:not(:last-child)::after {content: \"\\00b7\"; padding: 0 .5ex}\n",
       "</style>\n",
       "<ol class=list-inline><li>1e+10</li><li>7564633275.54629</li><li>5722367659.35022</li><li>4328761281.08306</li><li>3274549162.87773</li><li>2477076355.99171</li><li>1873817422.86039</li><li>1417474162.92681</li><li>1072267222.01033</li><li>811130830.789689</li><li>613590727.341316</li><li>464158883.361277</li><li>351119173.421513</li><li>265608778.294668</li><li>200923300.256505</li><li>151991108.295293</li><li>114975699.539774</li><li>86974900.2617783</li><li>65793322.4657568</li><li>49770235.6433211</li><li>37649358.0679247</li><li>28480358.684358</li><li>21544346.9003188</li><li>16297508.3462064</li><li>12328467.3944207</li><li>9326033.4688322</li><li>7054802.31071865</li><li>5336699.2312063</li><li>4037017.25859655</li><li>3053855.50883341</li><li>2310129.70008316</li><li>1747528.40000768</li><li>1321941.14846603</li><li>1e+06</li><li>756463.327554629</li><li>572236.765935022</li><li>432876.128108306</li><li>327454.916287772</li><li>247707.635599171</li><li>187381.742286038</li><li>141747.41629268</li><li>107226.722201032</li><li>81113.0830789687</li><li>61359.0727341318</li><li>46415.8883361277</li><li>35111.9173421513</li><li>26560.8778294668</li><li>20092.3300256505</li><li>15199.1108295293</li><li>11497.5699539774</li><li>8697.49002617783</li><li>6579.33224657568</li><li>4977.02356433211</li><li>3764.93580679246</li><li>2848.0358684358</li><li>2154.43469003188</li><li>1629.75083462064</li><li>1232.84673944207</li><li>932.60334688322</li><li>705.480231071865</li><li>533.66992312063</li><li>403.701725859655</li><li>305.385550883341</li><li>231.012970008316</li><li>174.752840000768</li><li>132.194114846603</li><li>100</li><li>75.6463327554629</li><li>57.2236765935022</li><li>43.2876128108306</li><li>32.7454916287773</li><li>24.7707635599171</li><li>18.7381742286039</li><li>14.174741629268</li><li>10.7226722201032</li><li>8.11130830789686</li><li>6.13590727341316</li><li>4.64158883361277</li><li>3.51119173421513</li><li>2.65608778294668</li><li>2.00923300256505</li><li>1.51991108295293</li><li>1.14975699539774</li><li>0.869749002617783</li><li>0.657933224657568</li><li>0.497702356433211</li><li>0.376493580679247</li><li>0.28480358684358</li><li>0.215443469003188</li><li>0.162975083462064</li><li>0.123284673944206</li><li>0.0932603346883218</li><li>0.0705480231071863</li><li>0.053366992312063</li><li>0.0403701725859655</li><li>0.0305385550883341</li><li>0.0231012970008316</li><li>0.0174752840000768</li><li>0.0132194114846603</li><li>0.01</li></ol>\n"
      ],
      "text/latex": [
       "\\begin{enumerate*}\n",
       "\\item 1e+10\n",
       "\\item 7564633275.54629\n",
       "\\item 5722367659.35022\n",
       "\\item 4328761281.08306\n",
       "\\item 3274549162.87773\n",
       "\\item 2477076355.99171\n",
       "\\item 1873817422.86039\n",
       "\\item 1417474162.92681\n",
       "\\item 1072267222.01033\n",
       "\\item 811130830.789689\n",
       "\\item 613590727.341316\n",
       "\\item 464158883.361277\n",
       "\\item 351119173.421513\n",
       "\\item 265608778.294668\n",
       "\\item 200923300.256505\n",
       "\\item 151991108.295293\n",
       "\\item 114975699.539774\n",
       "\\item 86974900.2617783\n",
       "\\item 65793322.4657568\n",
       "\\item 49770235.6433211\n",
       "\\item 37649358.0679247\n",
       "\\item 28480358.684358\n",
       "\\item 21544346.9003188\n",
       "\\item 16297508.3462064\n",
       "\\item 12328467.3944207\n",
       "\\item 9326033.4688322\n",
       "\\item 7054802.31071865\n",
       "\\item 5336699.2312063\n",
       "\\item 4037017.25859655\n",
       "\\item 3053855.50883341\n",
       "\\item 2310129.70008316\n",
       "\\item 1747528.40000768\n",
       "\\item 1321941.14846603\n",
       "\\item 1e+06\n",
       "\\item 756463.327554629\n",
       "\\item 572236.765935022\n",
       "\\item 432876.128108306\n",
       "\\item 327454.916287772\n",
       "\\item 247707.635599171\n",
       "\\item 187381.742286038\n",
       "\\item 141747.41629268\n",
       "\\item 107226.722201032\n",
       "\\item 81113.0830789687\n",
       "\\item 61359.0727341318\n",
       "\\item 46415.8883361277\n",
       "\\item 35111.9173421513\n",
       "\\item 26560.8778294668\n",
       "\\item 20092.3300256505\n",
       "\\item 15199.1108295293\n",
       "\\item 11497.5699539774\n",
       "\\item 8697.49002617783\n",
       "\\item 6579.33224657568\n",
       "\\item 4977.02356433211\n",
       "\\item 3764.93580679246\n",
       "\\item 2848.0358684358\n",
       "\\item 2154.43469003188\n",
       "\\item 1629.75083462064\n",
       "\\item 1232.84673944207\n",
       "\\item 932.60334688322\n",
       "\\item 705.480231071865\n",
       "\\item 533.66992312063\n",
       "\\item 403.701725859655\n",
       "\\item 305.385550883341\n",
       "\\item 231.012970008316\n",
       "\\item 174.752840000768\n",
       "\\item 132.194114846603\n",
       "\\item 100\n",
       "\\item 75.6463327554629\n",
       "\\item 57.2236765935022\n",
       "\\item 43.2876128108306\n",
       "\\item 32.7454916287773\n",
       "\\item 24.7707635599171\n",
       "\\item 18.7381742286039\n",
       "\\item 14.174741629268\n",
       "\\item 10.7226722201032\n",
       "\\item 8.11130830789686\n",
       "\\item 6.13590727341316\n",
       "\\item 4.64158883361277\n",
       "\\item 3.51119173421513\n",
       "\\item 2.65608778294668\n",
       "\\item 2.00923300256505\n",
       "\\item 1.51991108295293\n",
       "\\item 1.14975699539774\n",
       "\\item 0.869749002617783\n",
       "\\item 0.657933224657568\n",
       "\\item 0.497702356433211\n",
       "\\item 0.376493580679247\n",
       "\\item 0.28480358684358\n",
       "\\item 0.215443469003188\n",
       "\\item 0.162975083462064\n",
       "\\item 0.123284673944206\n",
       "\\item 0.0932603346883218\n",
       "\\item 0.0705480231071863\n",
       "\\item 0.053366992312063\n",
       "\\item 0.0403701725859655\n",
       "\\item 0.0305385550883341\n",
       "\\item 0.0231012970008316\n",
       "\\item 0.0174752840000768\n",
       "\\item 0.0132194114846603\n",
       "\\item 0.01\n",
       "\\end{enumerate*}\n"
      ],
      "text/markdown": [
       "1. 1e+10\n",
       "2. 7564633275.54629\n",
       "3. 5722367659.35022\n",
       "4. 4328761281.08306\n",
       "5. 3274549162.87773\n",
       "6. 2477076355.99171\n",
       "7. 1873817422.86039\n",
       "8. 1417474162.92681\n",
       "9. 1072267222.01033\n",
       "10. 811130830.789689\n",
       "11. 613590727.341316\n",
       "12. 464158883.361277\n",
       "13. 351119173.421513\n",
       "14. 265608778.294668\n",
       "15. 200923300.256505\n",
       "16. 151991108.295293\n",
       "17. 114975699.539774\n",
       "18. 86974900.2617783\n",
       "19. 65793322.4657568\n",
       "20. 49770235.6433211\n",
       "21. 37649358.0679247\n",
       "22. 28480358.684358\n",
       "23. 21544346.9003188\n",
       "24. 16297508.3462064\n",
       "25. 12328467.3944207\n",
       "26. 9326033.4688322\n",
       "27. 7054802.31071865\n",
       "28. 5336699.2312063\n",
       "29. 4037017.25859655\n",
       "30. 3053855.50883341\n",
       "31. 2310129.70008316\n",
       "32. 1747528.40000768\n",
       "33. 1321941.14846603\n",
       "34. 1e+06\n",
       "35. 756463.327554629\n",
       "36. 572236.765935022\n",
       "37. 432876.128108306\n",
       "38. 327454.916287772\n",
       "39. 247707.635599171\n",
       "40. 187381.742286038\n",
       "41. 141747.41629268\n",
       "42. 107226.722201032\n",
       "43. 81113.0830789687\n",
       "44. 61359.0727341318\n",
       "45. 46415.8883361277\n",
       "46. 35111.9173421513\n",
       "47. 26560.8778294668\n",
       "48. 20092.3300256505\n",
       "49. 15199.1108295293\n",
       "50. 11497.5699539774\n",
       "51. 8697.49002617783\n",
       "52. 6579.33224657568\n",
       "53. 4977.02356433211\n",
       "54. 3764.93580679246\n",
       "55. 2848.0358684358\n",
       "56. 2154.43469003188\n",
       "57. 1629.75083462064\n",
       "58. 1232.84673944207\n",
       "59. 932.60334688322\n",
       "60. 705.480231071865\n",
       "61. 533.66992312063\n",
       "62. 403.701725859655\n",
       "63. 305.385550883341\n",
       "64. 231.012970008316\n",
       "65. 174.752840000768\n",
       "66. 132.194114846603\n",
       "67. 100\n",
       "68. 75.6463327554629\n",
       "69. 57.2236765935022\n",
       "70. 43.2876128108306\n",
       "71. 32.7454916287773\n",
       "72. 24.7707635599171\n",
       "73. 18.7381742286039\n",
       "74. 14.174741629268\n",
       "75. 10.7226722201032\n",
       "76. 8.11130830789686\n",
       "77. 6.13590727341316\n",
       "78. 4.64158883361277\n",
       "79. 3.51119173421513\n",
       "80. 2.65608778294668\n",
       "81. 2.00923300256505\n",
       "82. 1.51991108295293\n",
       "83. 1.14975699539774\n",
       "84. 0.869749002617783\n",
       "85. 0.657933224657568\n",
       "86. 0.497702356433211\n",
       "87. 0.376493580679247\n",
       "88. 0.28480358684358\n",
       "89. 0.215443469003188\n",
       "90. 0.162975083462064\n",
       "91. 0.123284673944206\n",
       "92. 0.0932603346883218\n",
       "93. 0.0705480231071863\n",
       "94. 0.053366992312063\n",
       "95. 0.0403701725859655\n",
       "96. 0.0305385550883341\n",
       "97. 0.0231012970008316\n",
       "98. 0.0174752840000768\n",
       "99. 0.0132194114846603\n",
       "100. 0.01\n",
       "\n",
       "\n"
      ],
      "text/plain": [
       "  [1] 1.000000e+10 7.564633e+09 5.722368e+09 4.328761e+09 3.274549e+09\n",
       "  [6] 2.477076e+09 1.873817e+09 1.417474e+09 1.072267e+09 8.111308e+08\n",
       " [11] 6.135907e+08 4.641589e+08 3.511192e+08 2.656088e+08 2.009233e+08\n",
       " [16] 1.519911e+08 1.149757e+08 8.697490e+07 6.579332e+07 4.977024e+07\n",
       " [21] 3.764936e+07 2.848036e+07 2.154435e+07 1.629751e+07 1.232847e+07\n",
       " [26] 9.326033e+06 7.054802e+06 5.336699e+06 4.037017e+06 3.053856e+06\n",
       " [31] 2.310130e+06 1.747528e+06 1.321941e+06 1.000000e+06 7.564633e+05\n",
       " [36] 5.722368e+05 4.328761e+05 3.274549e+05 2.477076e+05 1.873817e+05\n",
       " [41] 1.417474e+05 1.072267e+05 8.111308e+04 6.135907e+04 4.641589e+04\n",
       " [46] 3.511192e+04 2.656088e+04 2.009233e+04 1.519911e+04 1.149757e+04\n",
       " [51] 8.697490e+03 6.579332e+03 4.977024e+03 3.764936e+03 2.848036e+03\n",
       " [56] 2.154435e+03 1.629751e+03 1.232847e+03 9.326033e+02 7.054802e+02\n",
       " [61] 5.336699e+02 4.037017e+02 3.053856e+02 2.310130e+02 1.747528e+02\n",
       " [66] 1.321941e+02 1.000000e+02 7.564633e+01 5.722368e+01 4.328761e+01\n",
       " [71] 3.274549e+01 2.477076e+01 1.873817e+01 1.417474e+01 1.072267e+01\n",
       " [76] 8.111308e+00 6.135907e+00 4.641589e+00 3.511192e+00 2.656088e+00\n",
       " [81] 2.009233e+00 1.519911e+00 1.149757e+00 8.697490e-01 6.579332e-01\n",
       " [86] 4.977024e-01 3.764936e-01 2.848036e-01 2.154435e-01 1.629751e-01\n",
       " [91] 1.232847e-01 9.326033e-02 7.054802e-02 5.336699e-02 4.037017e-02\n",
       " [96] 3.053856e-02 2.310130e-02 1.747528e-02 1.321941e-02 1.000000e-02"
      ]
     },
     "metadata": {},
     "output_type": "display_data"
    }
   ],
   "source": [
    "grid=10^seq(10,-2,length=100)\n",
    "grid"
   ]
  },
  {
   "cell_type": "code",
   "execution_count": 14,
   "id": "6ef581f4",
   "metadata": {
    "lines_to_next_cell": 2,
    "vscode": {
     "languageId": "r"
    }
   },
   "outputs": [
    {
     "name": "stderr",
     "output_type": "stream",
     "text": [
      "   [[ suppressing 100 column names ‘s0’, ‘s1’, ‘s2’ ... ]]\n",
      "\n"
     ]
    },
    {
     "data": {
      "text/plain": [
       "4 x 100 sparse Matrix of class \"dgCMatrix\"\n",
       "                                                                            \n",
       "(Intercept) 2.806393e+05 2.806382e+05 2.806367e+05 2.806348e+05 2.806322e+05\n",
       "rooms       2.692268e-01 3.558943e-01 4.704658e-01 6.219184e-01 8.221227e-01\n",
       "bedrooms    2.981507e-01 3.941285e-01 5.210055e-01 6.887225e-01 9.104226e-01\n",
       "bathrooms   7.079261e-01 9.358284e-01 1.237096e+00 1.635342e+00 2.161782e+00\n",
       "                                                                            \n",
       "(Intercept) 2.806288e+05 2.806243e+05 2.806183e+05 2.806104e+05 2.806000e+05\n",
       "rooms       1.086768e+00 1.436592e+00 1.899001e+00 2.510210e+00 3.318076e+00\n",
       "bedrooms    1.203476e+00 1.590839e+00 2.102845e+00 2.779576e+00 3.673979e+00\n",
       "bathrooms   2.857671e+00 3.777538e+00 4.993447e+00 6.600630e+00 8.724924e+00\n",
       "                                                                            \n",
       "(Intercept) 2.805863e+05 2.805681e+05 2.805441e+05 280512.41520 280470.51785\n",
       "rooms       4.385822e+00 5.796962e+00 7.661779e+00     10.12587     13.38134\n",
       "bedrooms    4.855984e+00 6.417929e+00 8.481686e+00     11.20803     14.80892\n",
       "bathrooms   1.153258e+01 1.524319e+01 2.014675e+01     26.62611     35.18642\n",
       "                                                                            \n",
       "(Intercept) 280415.18050 280342.11240 280245.66825 280118.43204 279950.68138\n",
       "rooms           17.68155     23.36036     30.85729     40.75010     53.79703\n",
       "bedrooms        19.56353     25.83916     34.11829     45.03338     59.41123\n",
       "bathrooms       46.49391     61.42648     81.13984    107.15334    141.46085\n",
       "                                                                         \n",
       "(Intercept) 279729.70459 279438.94104 279056.9184 278559.2994 277906.4806\n",
       "rooms           70.99069     93.62653    123.3881    162.0555    212.9259\n",
       "bedrooms        78.32874    103.18172    135.7675    178.0341    233.3166\n",
       "bathrooms      186.67279    246.19608    324.4589    427.1928    561.7380\n",
       "                                                                       \n",
       "(Intercept) 277056.4321 275954.7491 274535.5986 272721.7633 270426.5754\n",
       "rooms          279.2342    365.2901    476.3492    618.6460    799.3028\n",
       "bedrooms       304.9311    397.1084    514.7569    663.2665    848.0461\n",
       "bathrooms      737.4401    966.0273   1261.9775   1642.7680   2128.8735\n",
       "                                                                             \n",
       "(Intercept) 267558.873 264032.174 259778.686 254768.195 249027.820 242658.316\n",
       "rooms         1026.033   1306.557   1647.702   2054.133   2527.110   3063.461\n",
       "bedrooms      1073.660   1342.431   1652.438   1995.017   2352.202   2694.874\n",
       "bathrooms     2743.324   3510.608   4454.731   5596.428   6949.761   8518.786\n",
       "                                                                             \n",
       "(Intercept) 235838.673 228813.226 221860.511 215250.788 209192.074 203844.483\n",
       "rooms         3655.404   4291.563   4959.113   5646.412   6348.179   7056.299\n",
       "bedrooms      2982.696   3166.784   3195.395   3021.897   2612.413   1955.001\n",
       "bathrooms    10295.145  12257.331  14371.746  16594.896  18873.966  21154.702\n",
       "                                                                               \n",
       "(Intercept) 199260.979 195410.31632 192255.179 189695.501 187635.431 185962.175\n",
       "rooms         7770.128   8491.87167   9209.278   9914.419  10592.974  11236.840\n",
       "bedrooms      1061.322    -33.89749  -1273.821  -2591.594  -3918.056  -5195.071\n",
       "bathrooms    23377.522  25481.35605  27421.296  29157.625  30668.854  31943.558\n",
       "                                                                            \n",
       "(Intercept) 184642.873 183620.500 182790.161 182135.235 181621.461 181248.90\n",
       "rooms        11818.340  12324.111  12768.302  13142.684  13451.672  13689.85\n",
       "bedrooms     -6369.334  -7407.206  -8305.717  -9060.177  -9680.157 -10170.64\n",
       "bathrooms    33004.208  33873.796  34562.165  35104.623  35527.712  35864.12\n",
       "                                                                       \n",
       "(Intercept) 180933.57 180717.07 180525.39 180398.30 180284.98 180205.23\n",
       "rooms        13891.86  14037.41  14164.52  14249.64  14327.27  14375.58\n",
       "bedrooms    -10570.55 -10871.50 -11119.53 -11294.92 -11445.42 -11541.72\n",
       "bathrooms    36114.70  36314.99  36460.20  36576.41  36660.34  36724.76\n",
       "                                                                       \n",
       "(Intercept) 180143.47 180088.10 180042.36 180006.44 179978.85 179957.82\n",
       "rooms        14420.59  14459.48  14490.68  14514.88  14533.39  14547.48\n",
       "bedrooms    -11630.85 -11703.48 -11760.01 -11803.28 -11836.22 -11861.23\n",
       "bathrooms    36774.63  36809.81  36835.23  36854.06  36868.19  36878.84\n",
       "                                                                       \n",
       "(Intercept) 179941.85 179929.73 179920.55 179913.59 179908.32 179904.33\n",
       "rooms        14558.18  14566.30  14572.46  14577.12  14580.65  14583.33\n",
       "bedrooms    -11880.21 -11894.60 -11905.50 -11913.75 -11920.00 -11924.74\n",
       "bathrooms    36886.89  36892.97  36897.57  36901.04  36903.67  36905.66\n",
       "                                                                       \n",
       "(Intercept) 179901.31 179899.03 179897.30 179895.99 179895.00 179894.25\n",
       "rooms        14585.35  14586.88  14588.04  14588.92  14589.58  14590.08\n",
       "bedrooms    -11928.32 -11931.03 -11933.08 -11934.63 -11935.80 -11936.69\n",
       "bathrooms    36907.16  36908.30  36909.16  36909.81  36910.30  36910.67\n",
       "                                                                       \n",
       "(Intercept) 179893.69 179893.26 179892.93 179892.69 179892.50 179892.36\n",
       "rooms        14590.46  14590.75  14590.97  14591.13  14591.26  14591.35\n",
       "bedrooms    -11937.36 -11937.87 -11938.26 -11938.55 -11938.77 -11938.94\n",
       "bathrooms    36910.95  36911.17  36911.33  36911.45  36911.54  36911.61\n",
       "                                                                       \n",
       "(Intercept) 179892.26 179892.17 179892.11 179892.07 179892.03 179892.01\n",
       "rooms        14591.42  14591.48  14591.52  14591.55  14591.57  14591.59\n",
       "bedrooms    -11939.06 -11939.16 -11939.23 -11939.28 -11939.32 -11939.36\n",
       "bathrooms    36911.66  36911.70  36911.73  36911.76  36911.77  36911.79\n",
       "                                                                       \n",
       "(Intercept) 179891.99 179891.97 179891.96 179891.95 179891.95 179891.94\n",
       "rooms        14591.60  14591.61  14591.62  14591.63  14591.63  14591.63\n",
       "bedrooms    -11939.38 -11939.40 -11939.41 -11939.42 -11939.43 -11939.43\n",
       "bathrooms    36911.80  36911.81  36911.81  36911.82  36911.82  36911.82\n",
       "                                                   \n",
       "(Intercept) 179891.94 179891.93 179891.93 179891.93\n",
       "rooms        14591.64  14591.64  14591.64  14591.64\n",
       "bedrooms    -11939.44 -11939.44 -11939.44 -11939.45\n",
       "bathrooms    36911.82  36911.82  36911.83  36911.83"
      ]
     },
     "metadata": {},
     "output_type": "display_data"
    }
   ],
   "source": [
    "\n",
    "ridge1<-glmnet(x=X,\n",
    "               y=y,\n",
    "               alpha=0, #0 is ridge, 1 is lasso\n",
    "               lambda=grid)\n",
    "coef(ridge1)"
   ]
  },
  {
   "cell_type": "code",
   "execution_count": 15,
   "id": "843b903e",
   "metadata": {
    "lines_to_next_cell": 0,
    "vscode": {
     "languageId": "r"
    }
   },
   "outputs": [
    {
     "data": {
      "image/png": "[encoded data removed]",
      "text/plain": [
       "plot without title"
      ]
     },
     "metadata": {
      "image/png": {
       "height": 420,
       "width": 420
      }
     },
     "output_type": "display_data"
    }
   ],
   "source": [
    "#Put coefficients in a data frame, except the intercept\n",
    "coefs_ridge<-data.frame(t(as.matrix(coef(ridge1)))) %>% select(-X.Intercept.)\n",
    "#add the lambda grid to to data frame\n",
    "coefs_ridge<- coefs_ridge %>% mutate(lambda=grid)              \n",
    "\n",
    "#ggplot friendly format\n",
    "coefs_ridge<- coefs_ridge %>% pivot_longer(cols=!lambda,\n",
    "                                          names_to=\"variables\",\n",
    "                                          values_to=\"coefficients\")\n",
    "\n",
    "\n",
    "\n",
    "ggplot(data=coefs_ridge, aes(x = lambda, y = coefficients, color = variables)) +\n",
    "  geom_line() +\n",
    "  scale_x_log10(\n",
    "    breaks = scales::trans_breaks(\"log10\", function(x) 10^x),\n",
    "    labels = scales::trans_format(\"log10\",\n",
    "                                  scales::math_format(10^.x))\n",
    "  ) +\n",
    "  labs(title = \"Coeficientes Ridge\", x = \"Lambda\", y = \"Coeficientes\") +\n",
    "  theme_bw() +\n",
    "  theme(legend.position=\"bottom\")"
   ]
  },
  {
   "cell_type": "markdown",
   "id": "c4c7cf1e",
   "metadata": {},
   "source": [
    "## Lasso"
   ]
  },
  {
   "cell_type": "code",
   "execution_count": 16,
   "id": "3d99587a",
   "metadata": {
    "lines_to_next_cell": 2,
    "vscode": {
     "languageId": "r"
    }
   },
   "outputs": [],
   "source": [
    "#Same grid\n",
    "grid=10^seq(10,-2,length=100)\n",
    "\n",
    "lasso1<-glmnet(x=X,\n",
    "               y=y,\n",
    "               alpha=1, #0 is ridge, 1 is lasso\n",
    "               lambda=grid)"
   ]
  },
  {
   "cell_type": "code",
   "execution_count": 17,
   "id": "c5993aab",
   "metadata": {
    "lines_to_next_cell": 2,
    "vscode": {
     "languageId": "r"
    }
   },
   "outputs": [
    {
     "data": {
      "image/png": "[encoded data removed]",
      "text/plain": [
       "plot without title"
      ]
     },
     "metadata": {
      "image/png": {
       "height": 420,
       "width": 420
      }
     },
     "output_type": "display_data"
    }
   ],
   "source": [
    "#Put coefficients in a data frame, except the intercept\n",
    "coefs_lasso<-data.frame(t(as.matrix(coef(lasso1)))) %>% select(-X.Intercept.)\n",
    "#add the lambda grid to to data frame\n",
    "coefs_lasso<- coefs_lasso %>% mutate(lambda=grid)              \n",
    "\n",
    "#ggplot friendly format\n",
    "coefs_lasso<- coefs_lasso %>% pivot_longer(cols=!lambda,\n",
    "                                          names_to=\"variables\",\n",
    "                                          values_to=\"coefficients\")\n",
    "\n",
    "\n",
    "\n",
    "ggplot(data=coefs_lasso, aes(x = lambda, y = coefficients, color = variables)) +\n",
    "  geom_line() +\n",
    "  scale_x_log10(\n",
    "    breaks = scales::trans_breaks(\"log10\", function(x) 10^x),\n",
    "    labels = scales::trans_format(\"log10\",\n",
    "                                  scales::math_format(10^.x))\n",
    "  ) +\n",
    "  labs(title = \"Coeficientes Lasso\", x = \"Lambda\", y = \"Coeficientes\") +\n",
    "  theme_bw() +\n",
    "  theme(legend.position=\"bottom\")"
   ]
  },
  {
   "cell_type": "markdown",
   "id": "ac25dfc1",
   "metadata": {},
   "source": [
    "# Choosing the penalty parameter for out of sample performance"
   ]
  },
  {
   "cell_type": "markdown",
   "id": "cccb7967",
   "metadata": {
    "lines_to_next_cell": 0
   },
   "source": [
    "## Benchmark: OLS"
   ]
  },
  {
   "cell_type": "code",
   "execution_count": 18,
   "id": "79be5919",
   "metadata": {
    "lines_to_next_cell": 0,
    "vscode": {
     "languageId": "r"
    }
   },
   "outputs": [
    {
     "data": {
      "text/plain": [
       "Linear Regression \n",
       "\n",
       "3204 samples\n",
       "   6 predictor\n",
       "\n",
       "Pre-processing: centered (22), scaled (22) \n",
       "Resampling: Cross-Validated (5 fold) \n",
       "Summary of sample sizes: 2562, 2564, 2561, 2564, 2565 \n",
       "Resampling results:\n",
       "\n",
       "  RMSE       Rsquared    MAE      \n",
       "  0.5063296  0.07642105  0.4553271\n",
       "\n",
       "Tuning parameter 'intercept' was held constant at a value of TRUE"
      ]
     },
     "metadata": {},
     "output_type": "display_data"
    }
   ],
   "source": [
    "p_load(\"caret\")\n",
    "\n",
    "set.seed(123)\n",
    "fitControl <- trainControl(## 5-fold CV, 10 better\n",
    "                           method = \"cv\",\n",
    "                           number = 5)\n",
    "\n",
    "\n",
    "fmla<-formula(lnprice~rooms*bedrooms*bathrooms+lnland*lnbldg*poly(dcbd,3,raw=TRUE))\n",
    "linear_reg<-train(fmla,\n",
    "                  data=matchdata,\n",
    "                  method = 'lm', \n",
    "                  trControl = fitControl,\n",
    "                  preProcess = c(\"center\", \"scale\")\n",
    ") \n",
    "\n",
    "\n",
    "linear_reg"
   ]
  },
  {
   "cell_type": "code",
   "execution_count": 19,
   "id": "2efa92fd",
   "metadata": {
    "lines_to_next_cell": 2,
    "scrolled": true,
    "vscode": {
     "languageId": "r"
    }
   },
   "outputs": [
    {
     "data": {
      "text/plain": [
       "\n",
       "Call:\n",
       "lm(formula = .outcome ~ ., data = dat)\n",
       "\n",
       "Residuals:\n",
       "     Min       1Q   Median       3Q      Max \n",
       "-2.28943 -0.44130  0.00189  0.43656  1.38562 \n",
       "\n",
       "Coefficients:\n",
       "                                             Estimate Std. Error  t value\n",
       "(Intercept)                                 1.241e+01  8.887e-03 1396.393\n",
       "rooms                                       8.942e-02  9.539e-02    0.937\n",
       "bedrooms                                   -2.534e-02  1.010e-01   -0.251\n",
       "bathrooms                                  -7.195e-03  1.663e-01   -0.043\n",
       "lnland                                     -7.147e+01  2.661e+01   -2.686\n",
       "lnbldg                                     -6.034e+01  2.320e+01   -2.601\n",
       "`poly(dcbd, 3, raw = TRUE)1`               -8.678e+02  3.414e+02   -2.542\n",
       "`poly(dcbd, 3, raw = TRUE)2`                1.769e+03  7.366e+02    2.401\n",
       "`poly(dcbd, 3, raw = TRUE)3`               -9.089e+02  4.020e+02   -2.261\n",
       "`rooms:bedrooms`                           -1.470e-01  1.710e-01   -0.860\n",
       "`rooms:bathrooms`                          -2.261e-02  2.330e-01   -0.097\n",
       "`bedrooms:bathrooms`                        1.155e-01  2.317e-01    0.499\n",
       "`lnland:lnbldg`                             1.019e+02  3.851e+01    2.645\n",
       "`lnland:poly(dcbd, 3, raw = TRUE)1`         9.547e+02  3.703e+02    2.578\n",
       "`lnland:poly(dcbd, 3, raw = TRUE)2`        -1.862e+03  7.628e+02   -2.441\n",
       "`lnland:poly(dcbd, 3, raw = TRUE)3`         9.473e+02  4.109e+02    2.306\n",
       "`lnbldg:poly(dcbd, 3, raw = TRUE)1`         8.223e+02  3.302e+02    2.490\n",
       "`lnbldg:poly(dcbd, 3, raw = TRUE)2`        -1.683e+03  7.162e+02   -2.350\n",
       "`lnbldg:poly(dcbd, 3, raw = TRUE)3`         8.685e+02  3.928e+02    2.211\n",
       "`rooms:bedrooms:bathrooms`                  4.090e-03  2.834e-01    0.014\n",
       "`lnland:lnbldg:poly(dcbd, 3, raw = TRUE)1` -9.199e+02  3.631e+02   -2.534\n",
       "`lnland:lnbldg:poly(dcbd, 3, raw = TRUE)2`  1.785e+03  7.447e+02    2.397\n",
       "`lnland:lnbldg:poly(dcbd, 3, raw = TRUE)3` -9.100e+02  4.022e+02   -2.262\n",
       "                                           Pr(>|t|)    \n",
       "(Intercept)                                 < 2e-16 ***\n",
       "rooms                                       0.34862    \n",
       "bedrooms                                    0.80193    \n",
       "bathrooms                                   0.96550    \n",
       "lnland                                      0.00727 ** \n",
       "lnbldg                                      0.00934 ** \n",
       "`poly(dcbd, 3, raw = TRUE)1`                0.01107 *  \n",
       "`poly(dcbd, 3, raw = TRUE)2`                0.01640 *  \n",
       "`poly(dcbd, 3, raw = TRUE)3`                0.02385 *  \n",
       "`rooms:bedrooms`                            0.39004    \n",
       "`rooms:bathrooms`                           0.92270    \n",
       "`bedrooms:bathrooms`                        0.61814    \n",
       "`lnland:lnbldg`                             0.00820 ** \n",
       "`lnland:poly(dcbd, 3, raw = TRUE)1`         0.00998 ** \n",
       "`lnland:poly(dcbd, 3, raw = TRUE)2`         0.01468 *  \n",
       "`lnland:poly(dcbd, 3, raw = TRUE)3`         0.02120 *  \n",
       "`lnbldg:poly(dcbd, 3, raw = TRUE)1`         0.01282 *  \n",
       "`lnbldg:poly(dcbd, 3, raw = TRUE)2`         0.01882 *  \n",
       "`lnbldg:poly(dcbd, 3, raw = TRUE)3`         0.02710 *  \n",
       "`rooms:bedrooms:bathrooms`                  0.98849    \n",
       "`lnland:lnbldg:poly(dcbd, 3, raw = TRUE)1`  0.01133 *  \n",
       "`lnland:lnbldg:poly(dcbd, 3, raw = TRUE)2`  0.01657 *  \n",
       "`lnland:lnbldg:poly(dcbd, 3, raw = TRUE)3`  0.02375 *  \n",
       "---\n",
       "Signif. codes:  0 ‘***’ 0.001 ‘**’ 0.01 ‘*’ 0.05 ‘.’ 0.1 ‘ ’ 1\n",
       "\n",
       "Residual standard error: 0.503 on 3181 degrees of freedom\n",
       "Multiple R-squared:  0.09166,\tAdjusted R-squared:  0.08538 \n",
       "F-statistic: 14.59 on 22 and 3181 DF,  p-value: < 2.2e-16\n"
      ]
     },
     "metadata": {},
     "output_type": "display_data"
    }
   ],
   "source": [
    "summary(linear_reg)"
   ]
  },
  {
   "cell_type": "markdown",
   "id": "09a8e47a",
   "metadata": {},
   "source": [
    "## Ridge"
   ]
  },
  {
   "cell_type": "code",
   "execution_count": 20,
   "id": "2f8a99cc",
   "metadata": {
    "lines_to_next_cell": 2,
    "vscode": {
     "languageId": "r"
    }
   },
   "outputs": [
    {
     "data": {
      "image/png": "[encoded data removed]",
      "text/plain": [
       "plot without title"
      ]
     },
     "metadata": {
      "image/png": {
       "height": 420,
       "width": 420
      }
     },
     "output_type": "display_data"
    }
   ],
   "source": [
    "ridge<-train(fmla,\n",
    "             data=matchdata,\n",
    "             method = 'glmnet', \n",
    "             trControl = fitControl,\n",
    "             tuneGrid = expand.grid(alpha = 0, #Ridge\n",
    "                                    lambda = seq(0.001,0.02,by = 0.001)),\n",
    "             preProcess = c(\"center\", \"scale\")\n",
    "              ) \n",
    "\n",
    "plot(ridge$results$lambda,\n",
    "     ridge$results$RMSE,\n",
    "     xlab=\"lambda\",\n",
    "     ylab=\"Root Mean-Squared Error (RMSE)\"\n",
    "     )"
   ]
  },
  {
   "cell_type": "code",
   "execution_count": 21,
   "id": "e27701ed",
   "metadata": {
    "lines_to_next_cell": 0,
    "vscode": {
     "languageId": "r"
    }
   },
   "outputs": [
    {
     "data": {
      "text/html": [
       "<table class=\"dataframe\">\n",
       "<caption>A data.frame: 1 × 2</caption>\n",
       "<thead>\n",
       "\t<tr><th></th><th scope=col>alpha</th><th scope=col>lambda</th></tr>\n",
       "\t<tr><th></th><th scope=col>&lt;dbl&gt;</th><th scope=col>&lt;dbl&gt;</th></tr>\n",
       "</thead>\n",
       "<tbody>\n",
       "\t<tr><th scope=row>13</th><td>0</td><td>0.013</td></tr>\n",
       "</tbody>\n",
       "</table>\n"
      ],
      "text/latex": [
       "A data.frame: 1 × 2\n",
       "\\begin{tabular}{r|ll}\n",
       "  & alpha & lambda\\\\\n",
       "  & <dbl> & <dbl>\\\\\n",
       "\\hline\n",
       "\t13 & 0 & 0.013\\\\\n",
       "\\end{tabular}\n"
      ],
      "text/markdown": [
       "\n",
       "A data.frame: 1 × 2\n",
       "\n",
       "| <!--/--> | alpha &lt;dbl&gt; | lambda &lt;dbl&gt; |\n",
       "|---|---|---|\n",
       "| 13 | 0 | 0.013 |\n",
       "\n"
      ],
      "text/plain": [
       "   alpha lambda\n",
       "13 0     0.013 "
      ]
     },
     "metadata": {},
     "output_type": "display_data"
    }
   ],
   "source": [
    "ridge$bestTune"
   ]
  },
  {
   "cell_type": "code",
   "execution_count": 22,
   "id": "90561d22",
   "metadata": {
    "lines_to_next_cell": 2,
    "vscode": {
     "languageId": "r"
    }
   },
   "outputs": [
    {
     "data": {
      "text/plain": [
       "23 x 1 sparse Matrix of class \"dgCMatrix\"\n",
       "                                                    s1\n",
       "(Intercept)                              12.4095133635\n",
       "rooms                                     0.0234451563\n",
       "bedrooms                                 -0.0359727050\n",
       "bathrooms                                 0.0301957876\n",
       "lnland                                    0.0692314351\n",
       "lnbldg                                    0.0529141779\n",
       "poly(dcbd, 3, raw = TRUE)1               -0.0137447162\n",
       "poly(dcbd, 3, raw = TRUE)2                0.0172925620\n",
       "poly(dcbd, 3, raw = TRUE)3                0.0298225371\n",
       "rooms:bedrooms                           -0.0447940022\n",
       "rooms:bathrooms                           0.0221793558\n",
       "bedrooms:bathrooms                        0.0211339341\n",
       "lnland:lnbldg                             0.0546767818\n",
       "lnland:poly(dcbd, 3, raw = TRUE)1         0.0008511656\n",
       "lnland:poly(dcbd, 3, raw = TRUE)2         0.0204239011\n",
       "lnland:poly(dcbd, 3, raw = TRUE)3         0.0287269405\n",
       "lnbldg:poly(dcbd, 3, raw = TRUE)1        -0.0557840936\n",
       "lnbldg:poly(dcbd, 3, raw = TRUE)2        -0.0208880570\n",
       "lnbldg:poly(dcbd, 3, raw = TRUE)3        -0.0023853287\n",
       "rooms:bedrooms:bathrooms                 -0.0085869957\n",
       "lnland:lnbldg:poly(dcbd, 3, raw = TRUE)1 -0.0226339993\n",
       "lnland:lnbldg:poly(dcbd, 3, raw = TRUE)2 -0.0016005315\n",
       "lnland:lnbldg:poly(dcbd, 3, raw = TRUE)3  0.0094726906"
      ]
     },
     "metadata": {},
     "output_type": "display_data"
    }
   ],
   "source": [
    "coef_ridge<-coef(ridge$finalModel, ridge$bestTune$lambda)\n",
    "coef_ridge"
   ]
  },
  {
   "cell_type": "markdown",
   "id": "90e9ac47",
   "metadata": {},
   "source": [
    "## Lasso"
   ]
  },
  {
   "cell_type": "code",
   "execution_count": 23,
   "id": "9b77a984",
   "metadata": {
    "lines_to_next_cell": 2,
    "vscode": {
     "languageId": "r"
    }
   },
   "outputs": [
    {
     "data": {
      "image/png": "[encoded data removed]",
      "text/plain": [
       "plot without title"
      ]
     },
     "metadata": {
      "image/png": {
       "height": 420,
       "width": 420
      }
     },
     "output_type": "display_data"
    }
   ],
   "source": [
    "lasso<-train(fmla,\n",
    "             data=matchdata,\n",
    "             method = 'glmnet', \n",
    "             trControl = fitControl,\n",
    "             tuneGrid = expand.grid(alpha = 1, #lasso\n",
    "                                    lambda = seq(0.001,0.02,by = 0.001)),\n",
    "             preProcess = c(\"center\", \"scale\")\n",
    "              ) \n",
    "\n",
    "plot(lasso$results$lambda,\n",
    "     lasso$results$RMSE,\n",
    "     xlab=\"lambda\",\n",
    "     ylab=\"Root Mean-Squared Error (RMSE)\"\n",
    "     )"
   ]
  },
  {
   "cell_type": "code",
   "execution_count": 24,
   "id": "29666800",
   "metadata": {
    "vscode": {
     "languageId": "r"
    }
   },
   "outputs": [
    {
     "data": {
      "text/html": [
       "<table class=\"dataframe\">\n",
       "<caption>A data.frame: 1 × 2</caption>\n",
       "<thead>\n",
       "\t<tr><th></th><th scope=col>alpha</th><th scope=col>lambda</th></tr>\n",
       "\t<tr><th></th><th scope=col>&lt;dbl&gt;</th><th scope=col>&lt;dbl&gt;</th></tr>\n",
       "</thead>\n",
       "<tbody>\n",
       "\t<tr><th scope=row>1</th><td>1</td><td>0.001</td></tr>\n",
       "</tbody>\n",
       "</table>\n"
      ],
      "text/latex": [
       "A data.frame: 1 × 2\n",
       "\\begin{tabular}{r|ll}\n",
       "  & alpha & lambda\\\\\n",
       "  & <dbl> & <dbl>\\\\\n",
       "\\hline\n",
       "\t1 & 1 & 0.001\\\\\n",
       "\\end{tabular}\n"
      ],
      "text/markdown": [
       "\n",
       "A data.frame: 1 × 2\n",
       "\n",
       "| <!--/--> | alpha &lt;dbl&gt; | lambda &lt;dbl&gt; |\n",
       "|---|---|---|\n",
       "| 1 | 1 | 0.001 |\n",
       "\n"
      ],
      "text/plain": [
       "  alpha lambda\n",
       "1 1     0.001 "
      ]
     },
     "metadata": {},
     "output_type": "display_data"
    }
   ],
   "source": [
    "lasso$bestTune"
   ]
  },
  {
   "cell_type": "code",
   "execution_count": 25,
   "id": "dd7386d5",
   "metadata": {
    "lines_to_next_cell": 0,
    "vscode": {
     "languageId": "r"
    }
   },
   "outputs": [
    {
     "data": {
      "text/plain": [
       "23 x 1 sparse Matrix of class \"dgCMatrix\"\n",
       "                                                   s1\n",
       "(Intercept)                              12.409513363\n",
       "rooms                                     0.016274762\n",
       "bedrooms                                 -0.038741482\n",
       "bathrooms                                 0.050587825\n",
       "lnland                                    0.101781507\n",
       "lnbldg                                    0.087561820\n",
       "poly(dcbd, 3, raw = TRUE)1                .          \n",
       "poly(dcbd, 3, raw = TRUE)2                .          \n",
       "poly(dcbd, 3, raw = TRUE)3                .          \n",
       "rooms:bedrooms                           -0.027515445\n",
       "rooms:bathrooms                           0.006920737\n",
       "bedrooms:bathrooms                        .          \n",
       "lnland:lnbldg                             .          \n",
       "lnland:poly(dcbd, 3, raw = TRUE)1         .          \n",
       "lnland:poly(dcbd, 3, raw = TRUE)2         .          \n",
       "lnland:poly(dcbd, 3, raw = TRUE)3         0.077235153\n",
       "lnbldg:poly(dcbd, 3, raw = TRUE)1        -0.085791647\n",
       "lnbldg:poly(dcbd, 3, raw = TRUE)2         .          \n",
       "lnbldg:poly(dcbd, 3, raw = TRUE)3         .          \n",
       "rooms:bedrooms:bathrooms                  .          \n",
       "lnland:lnbldg:poly(dcbd, 3, raw = TRUE)1  .          \n",
       "lnland:lnbldg:poly(dcbd, 3, raw = TRUE)2  .          \n",
       "lnland:lnbldg:poly(dcbd, 3, raw = TRUE)3  .          "
      ]
     },
     "metadata": {},
     "output_type": "display_data"
    }
   ],
   "source": [
    "coef_lasso<-coef(lasso$finalModel, lasso$bestTune$lambda)\n",
    "coef_lasso"
   ]
  },
  {
   "cell_type": "markdown",
   "id": "b0ef539b",
   "metadata": {},
   "source": []
  },
  {
   "cell_type": "markdown",
   "id": "1a4062cd",
   "metadata": {},
   "source": [
    "## Elastic Net"
   ]
  },
  {
   "cell_type": "code",
   "execution_count": 26,
   "id": "6f7609eb",
   "metadata": {
    "lines_to_next_cell": 0,
    "vscode": {
     "languageId": "r"
    }
   },
   "outputs": [],
   "source": [
    "\n",
    "EN<-train(fmla,\n",
    "             data=matchdata,\n",
    "             method = 'glmnet', \n",
    "             trControl = fitControl,\n",
    "             tuneGrid = expand.grid(alpha = seq(0,1,by = 0.1), #grilla de alpha\n",
    "                                    lambda = seq(0.001,0.02,by = 0.001)),\n",
    "             preProcess = c(\"center\", \"scale\")\n",
    "              ) "
   ]
  },
  {
   "cell_type": "code",
   "execution_count": 27,
   "id": "807d499d",
   "metadata": {
    "lines_to_next_cell": 0,
    "vscode": {
     "languageId": "r"
    }
   },
   "outputs": [
    {
     "data": {
      "text/html": [
       "<table class=\"dataframe\">\n",
       "<caption>A data.frame: 1 × 2</caption>\n",
       "<thead>\n",
       "\t<tr><th></th><th scope=col>alpha</th><th scope=col>lambda</th></tr>\n",
       "\t<tr><th></th><th scope=col>&lt;dbl&gt;</th><th scope=col>&lt;dbl&gt;</th></tr>\n",
       "</thead>\n",
       "<tbody>\n",
       "\t<tr><th scope=row>21</th><td>0.1</td><td>0.001</td></tr>\n",
       "</tbody>\n",
       "</table>\n"
      ],
      "text/latex": [
       "A data.frame: 1 × 2\n",
       "\\begin{tabular}{r|ll}\n",
       "  & alpha & lambda\\\\\n",
       "  & <dbl> & <dbl>\\\\\n",
       "\\hline\n",
       "\t21 & 0.1 & 0.001\\\\\n",
       "\\end{tabular}\n"
      ],
      "text/markdown": [
       "\n",
       "A data.frame: 1 × 2\n",
       "\n",
       "| <!--/--> | alpha &lt;dbl&gt; | lambda &lt;dbl&gt; |\n",
       "|---|---|---|\n",
       "| 21 | 0.1 | 0.001 |\n",
       "\n"
      ],
      "text/plain": [
       "   alpha lambda\n",
       "21 0.1   0.001 "
      ]
     },
     "metadata": {},
     "output_type": "display_data"
    }
   ],
   "source": [
    "EN$bestTune"
   ]
  },
  {
   "cell_type": "code",
   "execution_count": 28,
   "id": "c9a7c667",
   "metadata": {
    "lines_to_next_cell": 2,
    "vscode": {
     "languageId": "r"
    }
   },
   "outputs": [
    {
     "data": {
      "text/plain": [
       "23 x 1 sparse Matrix of class \"dgCMatrix\"\n",
       "                                                    s1\n",
       "(Intercept)                               1.240951e+01\n",
       "rooms                                     6.617255e-02\n",
       "bedrooms                                 -2.580608e-02\n",
       "bathrooms                                 1.012587e-02\n",
       "lnland                                    1.034217e-01\n",
       "lnbldg                                    1.374208e-01\n",
       "poly(dcbd, 3, raw = TRUE)1                1.270243e-02\n",
       "poly(dcbd, 3, raw = TRUE)2                9.733025e-02\n",
       "poly(dcbd, 3, raw = TRUE)3                5.767849e-02\n",
       "rooms:bedrooms                           -1.117058e-01\n",
       "rooms:bathrooms                           .           \n",
       "bedrooms:bathrooms                        7.557533e-02\n",
       "lnland:lnbldg                            -1.247922e-05\n",
       "lnland:poly(dcbd, 3, raw = TRUE)1         3.235453e-02\n",
       "lnland:poly(dcbd, 3, raw = TRUE)2         1.429398e-01\n",
       "lnland:poly(dcbd, 3, raw = TRUE)3         1.017223e-01\n",
       "lnbldg:poly(dcbd, 3, raw = TRUE)1        -1.265244e-01\n",
       "lnbldg:poly(dcbd, 3, raw = TRUE)2        -5.760403e-02\n",
       "lnbldg:poly(dcbd, 3, raw = TRUE)3        -1.071106e-01\n",
       "rooms:bedrooms:bathrooms                 -9.118874e-03\n",
       "lnland:lnbldg:poly(dcbd, 3, raw = TRUE)1 -1.010541e-01\n",
       "lnland:lnbldg:poly(dcbd, 3, raw = TRUE)2  .           \n",
       "lnland:lnbldg:poly(dcbd, 3, raw = TRUE)3 -5.868059e-02"
      ]
     },
     "metadata": {},
     "output_type": "display_data"
    }
   ],
   "source": [
    "coef_EN<-coef(EN$finalModel,EN$bestTune$lambda)\n",
    "coef_EN"
   ]
  },
  {
   "cell_type": "code",
   "execution_count": 29,
   "id": "c774420e",
   "metadata": {
    "lines_to_next_cell": 2,
    "vscode": {
     "languageId": "r"
    }
   },
   "outputs": [
    {
     "data": {
      "text/html": [
       "<table class=\"dataframe\">\n",
       "<caption>A matrix: 23 × 4 of type dbl</caption>\n",
       "<thead>\n",
       "\t<tr><th></th><th scope=col>OLS</th><th scope=col>RIDGE</th><th scope=col>LASSO</th><th scope=col>ELASTIC_NET</th></tr>\n",
       "</thead>\n",
       "<tbody>\n",
       "\t<tr><th scope=row>(Intercept)</th><td>   12.4095</td><td>12.4095</td><td>12.4095</td><td>12.4095</td></tr>\n",
       "\t<tr><th scope=row>rooms</th><td>    0.0894</td><td> 0.0234</td><td> 0.0163</td><td> 0.0662</td></tr>\n",
       "\t<tr><th scope=row>bedrooms</th><td>   -0.0253</td><td>-0.0360</td><td>-0.0387</td><td>-0.0258</td></tr>\n",
       "\t<tr><th scope=row>bathrooms</th><td>   -0.0072</td><td> 0.0302</td><td> 0.0506</td><td> 0.0101</td></tr>\n",
       "\t<tr><th scope=row>lnland</th><td>  -71.4730</td><td> 0.0692</td><td> 0.1018</td><td> 0.1034</td></tr>\n",
       "\t<tr><th scope=row>lnbldg</th><td>  -60.3375</td><td> 0.0529</td><td> 0.0876</td><td> 0.1374</td></tr>\n",
       "\t<tr><th scope=row>`poly(dcbd, 3, raw = TRUE)1`</th><td> -867.8342</td><td>-0.0137</td><td> 0.0000</td><td> 0.0127</td></tr>\n",
       "\t<tr><th scope=row>`poly(dcbd, 3, raw = TRUE)2`</th><td> 1768.7575</td><td> 0.0173</td><td> 0.0000</td><td> 0.0973</td></tr>\n",
       "\t<tr><th scope=row>`poly(dcbd, 3, raw = TRUE)3`</th><td> -908.8806</td><td> 0.0298</td><td> 0.0000</td><td> 0.0577</td></tr>\n",
       "\t<tr><th scope=row>`rooms:bedrooms`</th><td>   -0.1470</td><td>-0.0448</td><td>-0.0275</td><td>-0.1117</td></tr>\n",
       "\t<tr><th scope=row>`rooms:bathrooms`</th><td>   -0.0226</td><td> 0.0222</td><td> 0.0069</td><td> 0.0000</td></tr>\n",
       "\t<tr><th scope=row>`bedrooms:bathrooms`</th><td>    0.1155</td><td> 0.0211</td><td> 0.0000</td><td> 0.0756</td></tr>\n",
       "\t<tr><th scope=row>`lnland:lnbldg`</th><td>  101.8821</td><td> 0.0547</td><td> 0.0000</td><td> 0.0000</td></tr>\n",
       "\t<tr><th scope=row>`lnland:poly(dcbd, 3, raw = TRUE)1`</th><td>  954.7290</td><td> 0.0009</td><td> 0.0000</td><td> 0.0324</td></tr>\n",
       "\t<tr><th scope=row>`lnland:poly(dcbd, 3, raw = TRUE)2`</th><td>-1862.3248</td><td> 0.0204</td><td> 0.0000</td><td> 0.1429</td></tr>\n",
       "\t<tr><th scope=row>`lnland:poly(dcbd, 3, raw = TRUE)3`</th><td>  947.3495</td><td> 0.0287</td><td> 0.0772</td><td> 0.1017</td></tr>\n",
       "\t<tr><th scope=row>`lnbldg:poly(dcbd, 3, raw = TRUE)1`</th><td>  822.2989</td><td>-0.0558</td><td>-0.0858</td><td>-0.1265</td></tr>\n",
       "\t<tr><th scope=row>`lnbldg:poly(dcbd, 3, raw = TRUE)2`</th><td>-1683.2183</td><td>-0.0209</td><td> 0.0000</td><td>-0.0576</td></tr>\n",
       "\t<tr><th scope=row>`lnbldg:poly(dcbd, 3, raw = TRUE)3`</th><td>  868.5468</td><td>-0.0024</td><td> 0.0000</td><td>-0.1071</td></tr>\n",
       "\t<tr><th scope=row>`rooms:bedrooms:bathrooms`</th><td>    0.0041</td><td>-0.0086</td><td> 0.0000</td><td>-0.0091</td></tr>\n",
       "\t<tr><th scope=row>`lnland:lnbldg:poly(dcbd, 3, raw = TRUE)1`</th><td> -919.8829</td><td>-0.0226</td><td> 0.0000</td><td>-0.1011</td></tr>\n",
       "\t<tr><th scope=row>`lnland:lnbldg:poly(dcbd, 3, raw = TRUE)2`</th><td> 1785.1861</td><td>-0.0016</td><td> 0.0000</td><td> 0.0000</td></tr>\n",
       "\t<tr><th scope=row>`lnland:lnbldg:poly(dcbd, 3, raw = TRUE)3`</th><td> -909.9521</td><td> 0.0095</td><td> 0.0000</td><td>-0.0587</td></tr>\n",
       "</tbody>\n",
       "</table>\n"
      ],
      "text/latex": [
       "A matrix: 23 × 4 of type dbl\n",
       "\\begin{tabular}{r|llll}\n",
       "  & OLS & RIDGE & LASSO & ELASTIC\\_NET\\\\\n",
       "\\hline\n",
       "\t(Intercept) &    12.4095 & 12.4095 & 12.4095 & 12.4095\\\\\n",
       "\trooms &     0.0894 &  0.0234 &  0.0163 &  0.0662\\\\\n",
       "\tbedrooms &    -0.0253 & -0.0360 & -0.0387 & -0.0258\\\\\n",
       "\tbathrooms &    -0.0072 &  0.0302 &  0.0506 &  0.0101\\\\\n",
       "\tlnland &   -71.4730 &  0.0692 &  0.1018 &  0.1034\\\\\n",
       "\tlnbldg &   -60.3375 &  0.0529 &  0.0876 &  0.1374\\\\\n",
       "\t`poly(dcbd, 3, raw = TRUE)1` &  -867.8342 & -0.0137 &  0.0000 &  0.0127\\\\\n",
       "\t`poly(dcbd, 3, raw = TRUE)2` &  1768.7575 &  0.0173 &  0.0000 &  0.0973\\\\\n",
       "\t`poly(dcbd, 3, raw = TRUE)3` &  -908.8806 &  0.0298 &  0.0000 &  0.0577\\\\\n",
       "\t`rooms:bedrooms` &    -0.1470 & -0.0448 & -0.0275 & -0.1117\\\\\n",
       "\t`rooms:bathrooms` &    -0.0226 &  0.0222 &  0.0069 &  0.0000\\\\\n",
       "\t`bedrooms:bathrooms` &     0.1155 &  0.0211 &  0.0000 &  0.0756\\\\\n",
       "\t`lnland:lnbldg` &   101.8821 &  0.0547 &  0.0000 &  0.0000\\\\\n",
       "\t`lnland:poly(dcbd, 3, raw = TRUE)1` &   954.7290 &  0.0009 &  0.0000 &  0.0324\\\\\n",
       "\t`lnland:poly(dcbd, 3, raw = TRUE)2` & -1862.3248 &  0.0204 &  0.0000 &  0.1429\\\\\n",
       "\t`lnland:poly(dcbd, 3, raw = TRUE)3` &   947.3495 &  0.0287 &  0.0772 &  0.1017\\\\\n",
       "\t`lnbldg:poly(dcbd, 3, raw = TRUE)1` &   822.2989 & -0.0558 & -0.0858 & -0.1265\\\\\n",
       "\t`lnbldg:poly(dcbd, 3, raw = TRUE)2` & -1683.2183 & -0.0209 &  0.0000 & -0.0576\\\\\n",
       "\t`lnbldg:poly(dcbd, 3, raw = TRUE)3` &   868.5468 & -0.0024 &  0.0000 & -0.1071\\\\\n",
       "\t`rooms:bedrooms:bathrooms` &     0.0041 & -0.0086 &  0.0000 & -0.0091\\\\\n",
       "\t`lnland:lnbldg:poly(dcbd, 3, raw = TRUE)1` &  -919.8829 & -0.0226 &  0.0000 & -0.1011\\\\\n",
       "\t`lnland:lnbldg:poly(dcbd, 3, raw = TRUE)2` &  1785.1861 & -0.0016 &  0.0000 &  0.0000\\\\\n",
       "\t`lnland:lnbldg:poly(dcbd, 3, raw = TRUE)3` &  -909.9521 &  0.0095 &  0.0000 & -0.0587\\\\\n",
       "\\end{tabular}\n"
      ],
      "text/markdown": [
       "\n",
       "A matrix: 23 × 4 of type dbl\n",
       "\n",
       "| <!--/--> | OLS | RIDGE | LASSO | ELASTIC_NET |\n",
       "|---|---|---|---|---|\n",
       "| (Intercept) |    12.4095 | 12.4095 | 12.4095 | 12.4095 |\n",
       "| rooms |     0.0894 |  0.0234 |  0.0163 |  0.0662 |\n",
       "| bedrooms |    -0.0253 | -0.0360 | -0.0387 | -0.0258 |\n",
       "| bathrooms |    -0.0072 |  0.0302 |  0.0506 |  0.0101 |\n",
       "| lnland |   -71.4730 |  0.0692 |  0.1018 |  0.1034 |\n",
       "| lnbldg |   -60.3375 |  0.0529 |  0.0876 |  0.1374 |\n",
       "| `poly(dcbd, 3, raw = TRUE)1` |  -867.8342 | -0.0137 |  0.0000 |  0.0127 |\n",
       "| `poly(dcbd, 3, raw = TRUE)2` |  1768.7575 |  0.0173 |  0.0000 |  0.0973 |\n",
       "| `poly(dcbd, 3, raw = TRUE)3` |  -908.8806 |  0.0298 |  0.0000 |  0.0577 |\n",
       "| `rooms:bedrooms` |    -0.1470 | -0.0448 | -0.0275 | -0.1117 |\n",
       "| `rooms:bathrooms` |    -0.0226 |  0.0222 |  0.0069 |  0.0000 |\n",
       "| `bedrooms:bathrooms` |     0.1155 |  0.0211 |  0.0000 |  0.0756 |\n",
       "| `lnland:lnbldg` |   101.8821 |  0.0547 |  0.0000 |  0.0000 |\n",
       "| `lnland:poly(dcbd, 3, raw = TRUE)1` |   954.7290 |  0.0009 |  0.0000 |  0.0324 |\n",
       "| `lnland:poly(dcbd, 3, raw = TRUE)2` | -1862.3248 |  0.0204 |  0.0000 |  0.1429 |\n",
       "| `lnland:poly(dcbd, 3, raw = TRUE)3` |   947.3495 |  0.0287 |  0.0772 |  0.1017 |\n",
       "| `lnbldg:poly(dcbd, 3, raw = TRUE)1` |   822.2989 | -0.0558 | -0.0858 | -0.1265 |\n",
       "| `lnbldg:poly(dcbd, 3, raw = TRUE)2` | -1683.2183 | -0.0209 |  0.0000 | -0.0576 |\n",
       "| `lnbldg:poly(dcbd, 3, raw = TRUE)3` |   868.5468 | -0.0024 |  0.0000 | -0.1071 |\n",
       "| `rooms:bedrooms:bathrooms` |     0.0041 | -0.0086 |  0.0000 | -0.0091 |\n",
       "| `lnland:lnbldg:poly(dcbd, 3, raw = TRUE)1` |  -919.8829 | -0.0226 |  0.0000 | -0.1011 |\n",
       "| `lnland:lnbldg:poly(dcbd, 3, raw = TRUE)2` |  1785.1861 | -0.0016 |  0.0000 |  0.0000 |\n",
       "| `lnland:lnbldg:poly(dcbd, 3, raw = TRUE)3` |  -909.9521 |  0.0095 |  0.0000 | -0.0587 |\n",
       "\n"
      ],
      "text/plain": [
       "                                           OLS        RIDGE   LASSO  \n",
       "(Intercept)                                   12.4095 12.4095 12.4095\n",
       "rooms                                          0.0894  0.0234  0.0163\n",
       "bedrooms                                      -0.0253 -0.0360 -0.0387\n",
       "bathrooms                                     -0.0072  0.0302  0.0506\n",
       "lnland                                       -71.4730  0.0692  0.1018\n",
       "lnbldg                                       -60.3375  0.0529  0.0876\n",
       "`poly(dcbd, 3, raw = TRUE)1`                -867.8342 -0.0137  0.0000\n",
       "`poly(dcbd, 3, raw = TRUE)2`                1768.7575  0.0173  0.0000\n",
       "`poly(dcbd, 3, raw = TRUE)3`                -908.8806  0.0298  0.0000\n",
       "`rooms:bedrooms`                              -0.1470 -0.0448 -0.0275\n",
       "`rooms:bathrooms`                             -0.0226  0.0222  0.0069\n",
       "`bedrooms:bathrooms`                           0.1155  0.0211  0.0000\n",
       "`lnland:lnbldg`                              101.8821  0.0547  0.0000\n",
       "`lnland:poly(dcbd, 3, raw = TRUE)1`          954.7290  0.0009  0.0000\n",
       "`lnland:poly(dcbd, 3, raw = TRUE)2`        -1862.3248  0.0204  0.0000\n",
       "`lnland:poly(dcbd, 3, raw = TRUE)3`          947.3495  0.0287  0.0772\n",
       "`lnbldg:poly(dcbd, 3, raw = TRUE)1`          822.2989 -0.0558 -0.0858\n",
       "`lnbldg:poly(dcbd, 3, raw = TRUE)2`        -1683.2183 -0.0209  0.0000\n",
       "`lnbldg:poly(dcbd, 3, raw = TRUE)3`          868.5468 -0.0024  0.0000\n",
       "`rooms:bedrooms:bathrooms`                     0.0041 -0.0086  0.0000\n",
       "`lnland:lnbldg:poly(dcbd, 3, raw = TRUE)1`  -919.8829 -0.0226  0.0000\n",
       "`lnland:lnbldg:poly(dcbd, 3, raw = TRUE)2`  1785.1861 -0.0016  0.0000\n",
       "`lnland:lnbldg:poly(dcbd, 3, raw = TRUE)3`  -909.9521  0.0095  0.0000\n",
       "                                           ELASTIC_NET\n",
       "(Intercept)                                12.4095    \n",
       "rooms                                       0.0662    \n",
       "bedrooms                                   -0.0258    \n",
       "bathrooms                                   0.0101    \n",
       "lnland                                      0.1034    \n",
       "lnbldg                                      0.1374    \n",
       "`poly(dcbd, 3, raw = TRUE)1`                0.0127    \n",
       "`poly(dcbd, 3, raw = TRUE)2`                0.0973    \n",
       "`poly(dcbd, 3, raw = TRUE)3`                0.0577    \n",
       "`rooms:bedrooms`                           -0.1117    \n",
       "`rooms:bathrooms`                           0.0000    \n",
       "`bedrooms:bathrooms`                        0.0756    \n",
       "`lnland:lnbldg`                             0.0000    \n",
       "`lnland:poly(dcbd, 3, raw = TRUE)1`         0.0324    \n",
       "`lnland:poly(dcbd, 3, raw = TRUE)2`         0.1429    \n",
       "`lnland:poly(dcbd, 3, raw = TRUE)3`         0.1017    \n",
       "`lnbldg:poly(dcbd, 3, raw = TRUE)1`        -0.1265    \n",
       "`lnbldg:poly(dcbd, 3, raw = TRUE)2`        -0.0576    \n",
       "`lnbldg:poly(dcbd, 3, raw = TRUE)3`        -0.1071    \n",
       "`rooms:bedrooms:bathrooms`                 -0.0091    \n",
       "`lnland:lnbldg:poly(dcbd, 3, raw = TRUE)1` -0.1011    \n",
       "`lnland:lnbldg:poly(dcbd, 3, raw = TRUE)2`  0.0000    \n",
       "`lnland:lnbldg:poly(dcbd, 3, raw = TRUE)3` -0.0587    "
      ]
     },
     "metadata": {},
     "output_type": "display_data"
    }
   ],
   "source": [
    "coefs_df<-cbind(coef(linear_reg$finalModel),as.matrix(coef_ridge),as.matrix(coef_lasso),as.matrix(coef_EN))\n",
    "colnames(coefs_df)<-c(\"OLS\",\"RIDGE\",\"LASSO\",\"ELASTIC_NET\")\n",
    "round(coefs_df,4)"
   ]
  },
  {
   "cell_type": "code",
   "execution_count": 30,
   "id": "0d0fa7a8",
   "metadata": {
    "lines_to_next_cell": 0,
    "vscode": {
     "languageId": "r"
    }
   },
   "outputs": [
    {
     "data": {
      "text/html": [
       "<table class=\"dataframe\">\n",
       "<caption>A matrix: 1 × 4 of type dbl</caption>\n",
       "<thead>\n",
       "\t<tr><th scope=col>OLS</th><th scope=col>RIDGE</th><th scope=col>LASSO</th><th scope=col>EN</th></tr>\n",
       "</thead>\n",
       "<tbody>\n",
       "\t<tr><td>0.5063296</td><td>0.5054076</td><td>0.5064192</td><td>0.5057137</td></tr>\n",
       "</tbody>\n",
       "</table>\n"
      ],
      "text/latex": [
       "A matrix: 1 × 4 of type dbl\n",
       "\\begin{tabular}{llll}\n",
       " OLS & RIDGE & LASSO & EN\\\\\n",
       "\\hline\n",
       "\t 0.5063296 & 0.5054076 & 0.5064192 & 0.5057137\\\\\n",
       "\\end{tabular}\n"
      ],
      "text/markdown": [
       "\n",
       "A matrix: 1 × 4 of type dbl\n",
       "\n",
       "| OLS | RIDGE | LASSO | EN |\n",
       "|---|---|---|---|\n",
       "| 0.5063296 | 0.5054076 | 0.5064192 | 0.5057137 |\n",
       "\n"
      ],
      "text/plain": [
       "     OLS       RIDGE     LASSO     EN       \n",
       "[1,] 0.5063296 0.5054076 0.5064192 0.5057137"
      ]
     },
     "metadata": {},
     "output_type": "display_data"
    }
   ],
   "source": [
    "RMSE_df<-cbind(linear_reg$results$RMSE,ridge$results$RMSE[which.min(ridge$results$lambda)],lasso$results$RMSE[which.min(lasso$results$lambda)],EN$results$RMSE[which.min(EN$results$lambda)])\n",
    "colnames(RMSE_df)<-c(\"OLS\",\"RIDGE\",\"LASSO\",\"EN\")\n",
    "RMSE_df"
   ]
  },
  {
   "cell_type": "markdown",
   "id": "4cd103b9",
   "metadata": {},
   "source": [
    "\n"
   ]
  }
 ],
 "metadata": {
  "jupytext": {
   "cell_metadata_filter": "tags,name,-all",
   "main_language": "R",
   "notebook_metadata_filter": "-all"
  },
  "kernelspec": {
   "display_name": "R",
   "language": "R",
   "name": "ir"
  },
  "language_info": {
   "codemirror_mode": "r",
   "file_extension": ".r",
   "mimetype": "text/x-r-source",
   "name": "R",
   "pygments_lexer": "r",
   "version": "4.2.2"
  },
  "toc": {
   "base_numbering": 1,
   "nav_menu": {},
   "number_sections": true,
   "sideBar": true,
   "skip_h1_title": false,
   "title_cell": "Table of Contents",
   "title_sidebar": "Contents",
   "toc_cell": false,
   "toc_position": {},
   "toc_section_display": true,
   "toc_window_display": false
  }
 },
 "nbformat": 4,
 "nbformat_minor": 5
}

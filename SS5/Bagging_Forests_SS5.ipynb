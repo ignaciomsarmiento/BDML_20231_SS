{
 "cells": [
  {
   "cell_type": "markdown",
   "id": "ef66f7ba",
   "metadata": {},
   "source": [
    "<div >\n",
    "<img src = \"../banner.jpg\" />\n",
    "</div>"
   ]
  },
  {
   "cell_type": "markdown",
   "id": "8e9c8c27",
   "metadata": {},
   "source": [
    "# Bagging "
   ]
  },
  {
   "cell_type": "markdown",
   "id": "f54c5b0f",
   "metadata": {},
   "source": [
    "## Recap trees"
   ]
  },
  {
   "cell_type": "code",
   "execution_count": null,
   "id": "49af46e1",
   "metadata": {},
   "outputs": [],
   "source": [
    "#Cargar librerías \n",
    "require(\"pacman\")\n",
    "p_load(tidyverse,rpart,caret)\n",
    "\n",
    "\n",
    "#Leer los datos \n",
    "credit <- readRDS(url(\"https://github.com/ignaciomsarmiento/datasets/blob/main/credit_class.rds?raw=true\"))\n",
    "\n",
    "#mutación de factores\n",
    "credit <- credit %>% mutate(Default=factor(Default,levels=c(0,1),labels=c(\"No\",\"Si\")),\n",
    "                          history=factor(history,levels=c(\"good\",\"poor\",\"terrible\"),labels=c(\"buena\",\"mala\",\"terrible\")),\n",
    "                          foreign=factor(foreign,levels=c(\"foreign\",\"german\"),labels=c(\"extranjero\",\"aleman\")),\n",
    "                          purpose=factor(purpose,levels=c(\"newcar\",\"usedcar\",\"goods/repair\",\"edu\", \"biz\" ),labels=c(\"auto_nuevo\",\"auto_usado\",\"bienes\",\"educacion\",\"negocios\")))         \n",
    "\n",
    "credit <- credit  %>% mutate(Default=relevel(Default,ref=\"Si\"))"
   ]
  },
  {
   "cell_type": "code",
   "execution_count": null,
   "id": "91c4c5d3",
   "metadata": {
    "scrolled": true
   },
   "outputs": [],
   "source": [
    "head(credit)"
   ]
  },
  {
   "cell_type": "markdown",
   "id": "3a57b56a",
   "metadata": {},
   "source": [
    "### División de la muestra\n",
    "\n",
    "- El objetivo es predecir bien fuera de muestra\n",
    "\n",
    "- No queremos sobreajustar\n",
    "  "
   ]
  },
  {
   "cell_type": "code",
   "execution_count": null,
   "id": "64b2520f",
   "metadata": {},
   "outputs": [],
   "source": [
    "set.seed(1011)\n",
    "inTrain <- createDataPartition(\n",
    "  y = credit$Default,## La variable dependiente u objetivo \n",
    "  p = .7, ## Usamos 70%  de los datos en el conjunto de entrenamiento \n",
    "  list = FALSE)\n",
    "\n",
    "\n",
    "train <- credit[ inTrain,]\n",
    "test  <- credit[-inTrain,]"
   ]
  },
  {
   "cell_type": "code",
   "execution_count": null,
   "id": "4456e716",
   "metadata": {},
   "outputs": [],
   "source": [
    "arbol <- rpart(Default~duration+amount+installment+age+\n",
    "                       history+purpose+foreign+rent, \n",
    "                        data    = train,\n",
    "                       method = \"class\")\n",
    "\n",
    "arbol"
   ]
  },
  {
   "cell_type": "code",
   "execution_count": null,
   "id": "ca1e70ad",
   "metadata": {},
   "outputs": [],
   "source": [
    "p_load(rpart.plot)\n",
    "prp(arbol, under = TRUE, branch.lty = 2, yesno = 2, faclen = 0, varlen=15,box.palette = \"-RdYlGn\")"
   ]
  },
  {
   "cell_type": "code",
   "execution_count": null,
   "id": "ee44c004",
   "metadata": {},
   "outputs": [],
   "source": [
    "p_load(Metrics)\n",
    "\n",
    "default<- ifelse(test$Default==\"Si\",1,0) #númerico\n",
    "\n",
    "pred_prob <- predict(arbol, newdata = test, type = \"prob\")    ## Prob predicha\n",
    "\n",
    "aucval_arbol <- Metrics::auc(actual = default,predicted = pred_prob[,2])\n",
    "\n",
    "aucval_arbol"
   ]
  },
  {
   "cell_type": "markdown",
   "id": "0871f809",
   "metadata": {},
   "source": [
    "## Coding intuition bagging"
   ]
  },
  {
   "cell_type": "markdown",
   "id": "2510a586",
   "metadata": {},
   "source": [
    "## Bosques ``from scratch\"\n",
    "\n"
   ]
  },
  {
   "cell_type": "code",
   "execution_count": null,
   "id": "dbf84aad",
   "metadata": {},
   "outputs": [],
   "source": [
    "### Bootstraped samples\n",
    "set.seed(1011)\n",
    "\n",
    "B<-50\n",
    "\n",
    "modelo   <- list()\n",
    "pred <- list()\n",
    "aucval <- vector()\n",
    "\n",
    "for(i in 1:B){\n",
    "        \n",
    "    db_sample<- sample_frac(train,size=1,replace=TRUE) #takes a sample with replacement of the same size of the original sample (1 or 100%)\n",
    "        \n",
    "    modelo[[i]] <- rpart(Default~duration+amount+installment+age+\n",
    "                       history+purpose+foreign+rent, \n",
    "                        data    =       db_sample,\n",
    "                       method = \"class\")\n",
    "    pred[[i]] <- predict(modelo[[i]], newdata = test, type = \"prob\")    ## Prob predicha\n",
    "\n",
    "    aucval[i] <- Metrics::auc(actual = default,predicted = pred[[i]][,2])\n",
    "\n",
    "    }"
   ]
  },
  {
   "cell_type": "code",
   "execution_count": null,
   "id": "a74dc4e5",
   "metadata": {},
   "outputs": [],
   "source": [
    "boxplot(aucval)"
   ]
  },
  {
   "cell_type": "code",
   "execution_count": null,
   "id": "be95344a",
   "metadata": {},
   "outputs": [],
   "source": [
    "mean(aucval)"
   ]
  },
  {
   "cell_type": "code",
   "execution_count": null,
   "id": "31b91440",
   "metadata": {},
   "outputs": [],
   "source": [
    "p_load(ipred)\n",
    "set.seed(1011)\n",
    "\n",
    "bagged_tree<- bagging(Default~duration+amount+installment+age+\n",
    "                       history+purpose+foreign+rent, \n",
    "                        data    = train, nbagg = 50)\n",
    "\n",
    "bagged_pred <- predict(bagged_tree,\n",
    "                       newdata = test, type=\"prob\")"
   ]
  },
  {
   "cell_type": "code",
   "execution_count": null,
   "id": "4d2fc785",
   "metadata": {},
   "outputs": [],
   "source": [
    "aucval_ipred <- Metrics::auc(actual = default,predicted =bagged_pred[,2])\n",
    "aucval_ipred"
   ]
  },
  {
   "cell_type": "markdown",
   "id": "584244d1",
   "metadata": {},
   "source": [
    "# Random Forstests"
   ]
  },
  {
   "cell_type": "code",
   "execution_count": null,
   "id": "0c3484ff",
   "metadata": {},
   "outputs": [],
   "source": [
    "fiveStats <- function(...) c(twoClassSummary(...), defaultSummary(...))\n",
    "ctrl<- trainControl(method = \"cv\",\n",
    "                     number = 5,\n",
    "                     summaryFunction = fiveStats,\n",
    "                     classProbs = TRUE,\n",
    "                     verbose=FALSE,\n",
    "                     savePredictions = T)\n"
   ]
  },
  {
   "cell_type": "code",
   "execution_count": null,
   "id": "cb87a00b-b233-4271-b945-b27cd612daa2",
   "metadata": {},
   "outputs": [],
   "source": [
    "p_load(randomForest)\n",
    "\n",
    "\n",
    "\n",
    "forest <- train(Default~duration+amount+installment+age+\n",
    "                       history+purpose+foreign+rent, \n",
    "  data = train, \n",
    "  method = \"rf\",\n",
    "  trControl = ctrl,\n",
    "  metric=\"Sens\",\n",
    ")"
   ]
  },
  {
   "cell_type": "code",
   "execution_count": null,
   "id": "c7ed5cb9-a232-4842-8448-c26155769053",
   "metadata": {},
   "outputs": [],
   "source": [
    "forest"
   ]
  },
  {
   "cell_type": "markdown",
   "id": "f15f564f",
   "metadata": {},
   "source": [
    "## Hiperparámetros\n",
    "\n"
   ]
  },
  {
   "cell_type": "markdown",
   "id": "75a37e3f",
   "metadata": {},
   "source": [
    "https://topepo.github.io/caret/train-models-by-tag.html#random-forest"
   ]
  },
  {
   "cell_type": "code",
   "execution_count": null,
   "id": "a2dee094",
   "metadata": {},
   "outputs": [],
   "source": [
    "sqrt(ncol(train))"
   ]
  },
  {
   "cell_type": "code",
   "execution_count": null,
   "id": "6054cd24",
   "metadata": {},
   "outputs": [],
   "source": [
    "mtry_grid <- expand.grid(mtry = seq(1, ncol(train), 2))\n",
    "mtry_grid"
   ]
  },
  {
   "cell_type": "code",
   "execution_count": null,
   "id": "26fe35a5",
   "metadata": {},
   "outputs": [],
   "source": [
    "\n",
    "bosque <- train(Default~duration+amount+installment+age+\n",
    "                       history+purpose+foreign+rent, \n",
    "  data = train, \n",
    "  method = \"rf\",\n",
    "  trControl = ctrl,\n",
    "  metric=\"Sens\",\n",
    "  tuneGrid = mtry_grid,\n",
    "  ntree=10)\n",
    "bosque"
   ]
  },
  {
   "cell_type": "code",
   "execution_count": null,
   "id": "c31b978c",
   "metadata": {},
   "outputs": [],
   "source": [
    "plot(bosque)"
   ]
  },
  {
   "cell_type": "code",
   "execution_count": null,
   "id": "cd5963d3",
   "metadata": {},
   "outputs": [],
   "source": [
    "bosque$finalModel"
   ]
  },
  {
   "cell_type": "code",
   "execution_count": null,
   "id": "04543303",
   "metadata": {},
   "outputs": [],
   "source": [
    "bosque_pred <- predict(bosque, newdata = test, type=\"raw\")\n",
    "confusionMatrix(data = bosque_pred, reference = test$Default)"
   ]
  },
  {
   "cell_type": "markdown",
   "id": "3bb3cda5-6c52-42c6-8c34-d285fe3eca3e",
   "metadata": {},
   "source": [
    "### Variable Importance\n",
    "\n"
   ]
  },
  {
   "cell_type": "code",
   "execution_count": null,
   "id": "6562a9c7-3b8f-4002-9ac8-bd719cc93f9b",
   "metadata": {},
   "outputs": [],
   "source": [
    "varImp(forest,scale=TRUE)"
   ]
  },
  {
   "cell_type": "markdown",
   "id": "606fd942-585a-4fbc-b82a-ef838e9ae0d5",
   "metadata": {},
   "source": [
    "# Boosted Trees\n",
    "## ADA boosting\n",
    "\n",
    "<div>\n",
    "<img src=\"figures/adaboost.png\" width=\"800\"/>\n",
    "</div>"
   ]
  },
  {
   "cell_type": "code",
   "execution_count": null,
   "id": "b2145fab-7b4a-4e8c-a6e9-1fef60898beb",
   "metadata": {},
   "outputs": [],
   "source": [
    "#https://topepo.github.io/caret/train-models-by-tag.html#boosting\n",
    "p_load(fastAdaboost)\n",
    "set.seed(1410)\n",
    "\n",
    "\n",
    "M_grid<- expand.grid(nIter=c(10,50,100),method=\"adaboost\")\n",
    "M_grid\n"
   ]
  },
  {
   "cell_type": "code",
   "execution_count": null,
   "id": "bc4ea2e9",
   "metadata": {},
   "outputs": [],
   "source": [
    "adaboost_res <- train(Default~duration+amount+installment+age+\n",
    "                       history+purpose+foreign+rent,\n",
    "  data = train, \n",
    "  method = \"adaboost\", \n",
    "  trControl = ctrl,\n",
    "  metric = \"Sens\",\n",
    "  tuneGrid = M_grid\n",
    "                  \n",
    "\n",
    ")\n",
    "\n",
    "                    \n",
    "\n",
    "adaboost_res\n"
   ]
  },
  {
   "cell_type": "code",
   "execution_count": null,
   "id": "9e3dfc48-8320-47d3-b29d-c45dd3449df1",
   "metadata": {},
   "outputs": [],
   "source": [
    "pred_ada<-predict(adaboost,test)\n",
    "confusionMatrix(test$Default,pred_ada)"
   ]
  },
  {
   "cell_type": "markdown",
   "id": "fd971a23",
   "metadata": {},
   "source": [
    "# Traditional GBM"
   ]
  },
  {
   "cell_type": "markdown",
   "id": "5d871a9b",
   "metadata": {},
   "source": [
    "<div>\n",
    "<img src=\"figures/boosted-trees-process.png\" width=\"1000\"/>\n",
    "</div>"
   ]
  },
  {
   "cell_type": "code",
   "execution_count": null,
   "id": "73dd1097",
   "metadata": {},
   "outputs": [],
   "source": [
    "p_load(gbm)\n",
    "\n",
    "\n",
    "gbm_res <- train(Default~duration+amount+installment+age+\n",
    "                       history+purpose+foreign+rent,\n",
    "  data = train, \n",
    "  method = \"gbm\", \n",
    "  trControl = ctrl,\n",
    "#  family = \"binomial\", \n",
    "  metric = \"Sens\"\n",
    "                  \n",
    "\n",
    ")            \n",
    "\n",
    "gbm_res\n"
   ]
  }
 ],
 "metadata": {
  "kernelspec": {
   "display_name": "R",
   "language": "R",
   "name": "ir"
  },
  "language_info": {
   "codemirror_mode": "r",
   "file_extension": ".r",
   "mimetype": "text/x-r-source",
   "name": "R",
   "pygments_lexer": "r",
   "version": "4.2.2"
  },
  "toc": {
   "base_numbering": 1,
   "nav_menu": {},
   "number_sections": true,
   "sideBar": true,
   "skip_h1_title": false,
   "title_cell": "Table of Contents",
   "title_sidebar": "Contents",
   "toc_cell": false,
   "toc_position": {},
   "toc_section_display": true,
   "toc_window_display": false
  }
 },
 "nbformat": 4,
 "nbformat_minor": 5
}
